{
 "cells": [
  {
   "cell_type": "code",
   "execution_count": 0,
   "metadata": {
    "colab": {},
    "colab_type": "code",
    "id": "mIn_XRbIdpWT"
   },
   "outputs": [],
   "source": [
    "#Librerias usadas en la prueba\n",
    "import pandas as pd\n",
    "import numpy as np\n",
    "from pandas import datetime\n",
    "from matplotlib import pyplot as plt\n",
    "from matplotlib import pyplot\n",
    "import os\n",
    "\n",
    "from sklearn.cluster import KMeans\n",
    "from sklearn.preprocessing import LabelEncoder\n",
    "from sklearn.preprocessing import MinMaxScaler\n",
    "\n",
    "from math import sqrt\n",
    "\n",
    "from sklearn.preprocessing import MinMaxScaler\n",
    "from sklearn.metrics import mean_squared_error\n",
    "\n",
    "from keras.models import Sequential\n",
    "from keras.layers import Dense\n",
    "from keras.layers import LSTM\n",
    "from keras.layers import Dropout\n",
    "from keras.layers import RepeatVector\n",
    "from keras.layers import TimeDistributed"
   ]
  },
  {
   "cell_type": "code",
   "execution_count": 32,
   "metadata": {
    "colab": {
     "base_uri": "https://localhost:8080/",
     "height": 35
    },
    "colab_type": "code",
    "executionInfo": {
     "elapsed": 1145,
     "status": "ok",
     "timestamp": 1562716451426,
     "user": {
      "displayName": "Dayana Hernandez",
      "photoUrl": "",
      "userId": "08700700604867881888"
     },
     "user_tz": 240
    },
    "id": "6Pk2DgHYd1fn",
    "outputId": "eeee0574-1e42-473b-88c4-e5b551860f66"
   },
   "outputs": [
    {
     "name": "stdout",
     "output_type": "stream",
     "text": [
      "Drive already mounted at /content/gdrive; to attempt to forcibly remount, call drive.mount(\"/content/gdrive\", force_remount=True).\n"
     ]
    }
   ],
   "source": [
    "from google.colab import drive\n",
    "drive.mount('/content/gdrive')"
   ]
  },
  {
   "cell_type": "code",
   "execution_count": 0,
   "metadata": {
    "colab": {},
    "colab_type": "code",
    "id": "7IoQLBVEeKCV"
   },
   "outputs": [],
   "source": [
    "totalhouses=pd.read_csv('gdrive/My Drive/Colab Notebooks/Proyecto/halfhourly_dataset/totalhouses.csv', parse_dates=['tstp'], index_col=\"tstp\")"
   ]
  },
  {
   "cell_type": "code",
   "execution_count": 34,
   "metadata": {
    "colab": {
     "base_uri": "https://localhost:8080/",
     "height": 228
    },
    "colab_type": "code",
    "executionInfo": {
     "elapsed": 1390,
     "status": "ok",
     "timestamp": 1562716451688,
     "user": {
      "displayName": "Dayana Hernandez",
      "photoUrl": "",
      "userId": "08700700604867881888"
     },
     "user_tz": 240
    },
    "id": "dpMDRp4ueebO",
    "outputId": "16dfb963-6998-454c-d3d8-48ea2ed19238"
   },
   "outputs": [
    {
     "data": {
      "text/html": [
       "<div>\n",
       "<style scoped>\n",
       "    .dataframe tbody tr th:only-of-type {\n",
       "        vertical-align: middle;\n",
       "    }\n",
       "\n",
       "    .dataframe tbody tr th {\n",
       "        vertical-align: top;\n",
       "    }\n",
       "\n",
       "    .dataframe thead th {\n",
       "        text-align: right;\n",
       "    }\n",
       "</style>\n",
       "<table border=\"1\" class=\"dataframe\">\n",
       "  <thead>\n",
       "    <tr style=\"text-align: right;\">\n",
       "      <th></th>\n",
       "      <th>house1</th>\n",
       "      <th>house2</th>\n",
       "      <th>house3</th>\n",
       "      <th>house4</th>\n",
       "      <th>house5</th>\n",
       "      <th>house6</th>\n",
       "      <th>house7</th>\n",
       "      <th>house8</th>\n",
       "      <th>house9</th>\n",
       "      <th>house10</th>\n",
       "      <th>house11</th>\n",
       "      <th>consumo_agregado</th>\n",
       "    </tr>\n",
       "    <tr>\n",
       "      <th>tstp</th>\n",
       "      <th></th>\n",
       "      <th></th>\n",
       "      <th></th>\n",
       "      <th></th>\n",
       "      <th></th>\n",
       "      <th></th>\n",
       "      <th></th>\n",
       "      <th></th>\n",
       "      <th></th>\n",
       "      <th></th>\n",
       "      <th></th>\n",
       "      <th></th>\n",
       "    </tr>\n",
       "  </thead>\n",
       "  <tbody>\n",
       "    <tr>\n",
       "      <th>2011-11-23 13:30:00</th>\n",
       "      <td>0.110</td>\n",
       "      <td>0.075</td>\n",
       "      <td>0.055</td>\n",
       "      <td>0.938</td>\n",
       "      <td>0.201</td>\n",
       "      <td>0.049</td>\n",
       "      <td>0.01</td>\n",
       "      <td>0.250</td>\n",
       "      <td>0.176</td>\n",
       "      <td>0.151</td>\n",
       "      <td>0.458</td>\n",
       "      <td>2.473</td>\n",
       "    </tr>\n",
       "    <tr>\n",
       "      <th>2011-11-23 14:00:00</th>\n",
       "      <td>0.244</td>\n",
       "      <td>0.064</td>\n",
       "      <td>0.144</td>\n",
       "      <td>1.650</td>\n",
       "      <td>0.185</td>\n",
       "      <td>0.048</td>\n",
       "      <td>0.00</td>\n",
       "      <td>0.163</td>\n",
       "      <td>0.092</td>\n",
       "      <td>0.059</td>\n",
       "      <td>0.534</td>\n",
       "      <td>3.183</td>\n",
       "    </tr>\n",
       "    <tr>\n",
       "      <th>2011-11-23 14:30:00</th>\n",
       "      <td>0.241</td>\n",
       "      <td>0.318</td>\n",
       "      <td>0.106</td>\n",
       "      <td>0.752</td>\n",
       "      <td>0.248</td>\n",
       "      <td>0.048</td>\n",
       "      <td>0.00</td>\n",
       "      <td>0.177</td>\n",
       "      <td>0.093</td>\n",
       "      <td>0.088</td>\n",
       "      <td>0.353</td>\n",
       "      <td>2.424</td>\n",
       "    </tr>\n",
       "    <tr>\n",
       "      <th>2011-11-23 15:00:00</th>\n",
       "      <td>0.287</td>\n",
       "      <td>0.185</td>\n",
       "      <td>0.116</td>\n",
       "      <td>0.713</td>\n",
       "      <td>0.486</td>\n",
       "      <td>0.049</td>\n",
       "      <td>0.00</td>\n",
       "      <td>0.162</td>\n",
       "      <td>0.158</td>\n",
       "      <td>0.086</td>\n",
       "      <td>0.242</td>\n",
       "      <td>2.484</td>\n",
       "    </tr>\n",
       "    <tr>\n",
       "      <th>2011-11-23 15:30:00</th>\n",
       "      <td>0.296</td>\n",
       "      <td>0.121</td>\n",
       "      <td>0.139</td>\n",
       "      <td>0.261</td>\n",
       "      <td>0.281</td>\n",
       "      <td>0.048</td>\n",
       "      <td>0.00</td>\n",
       "      <td>0.162</td>\n",
       "      <td>0.142</td>\n",
       "      <td>0.116</td>\n",
       "      <td>0.324</td>\n",
       "      <td>1.890</td>\n",
       "    </tr>\n",
       "  </tbody>\n",
       "</table>\n",
       "</div>"
      ],
      "text/plain": [
       "                     house1  house2  house3  ...  house10  house11  consumo_agregado\n",
       "tstp                                         ...                                    \n",
       "2011-11-23 13:30:00   0.110   0.075   0.055  ...    0.151    0.458             2.473\n",
       "2011-11-23 14:00:00   0.244   0.064   0.144  ...    0.059    0.534             3.183\n",
       "2011-11-23 14:30:00   0.241   0.318   0.106  ...    0.088    0.353             2.424\n",
       "2011-11-23 15:00:00   0.287   0.185   0.116  ...    0.086    0.242             2.484\n",
       "2011-11-23 15:30:00   0.296   0.121   0.139  ...    0.116    0.324             1.890\n",
       "\n",
       "[5 rows x 12 columns]"
      ]
     },
     "execution_count": 34,
     "metadata": {
      "tags": []
     },
     "output_type": "execute_result"
    }
   ],
   "source": [
    "totalhouses.head()"
   ]
  },
  {
   "cell_type": "code",
   "execution_count": 35,
   "metadata": {
    "colab": {
     "base_uri": "https://localhost:8080/",
     "height": 228
    },
    "colab_type": "code",
    "executionInfo": {
     "elapsed": 1377,
     "status": "ok",
     "timestamp": 1562716451689,
     "user": {
      "displayName": "Dayana Hernandez",
      "photoUrl": "",
      "userId": "08700700604867881888"
     },
     "user_tz": 240
    },
    "id": "lbvr7OaGeoxf",
    "outputId": "7183ac75-eb48-4903-9ba9-dc88f79c1b9f"
   },
   "outputs": [
    {
     "data": {
      "text/html": [
       "<div>\n",
       "<style scoped>\n",
       "    .dataframe tbody tr th:only-of-type {\n",
       "        vertical-align: middle;\n",
       "    }\n",
       "\n",
       "    .dataframe tbody tr th {\n",
       "        vertical-align: top;\n",
       "    }\n",
       "\n",
       "    .dataframe thead th {\n",
       "        text-align: right;\n",
       "    }\n",
       "</style>\n",
       "<table border=\"1\" class=\"dataframe\">\n",
       "  <thead>\n",
       "    <tr style=\"text-align: right;\">\n",
       "      <th></th>\n",
       "      <th>house1</th>\n",
       "      <th>house2</th>\n",
       "      <th>house3</th>\n",
       "      <th>house4</th>\n",
       "      <th>house5</th>\n",
       "      <th>house6</th>\n",
       "      <th>house7</th>\n",
       "      <th>house8</th>\n",
       "      <th>house9</th>\n",
       "      <th>house10</th>\n",
       "      <th>house11</th>\n",
       "      <th>consumo_agregado</th>\n",
       "    </tr>\n",
       "    <tr>\n",
       "      <th>tstp</th>\n",
       "      <th></th>\n",
       "      <th></th>\n",
       "      <th></th>\n",
       "      <th></th>\n",
       "      <th></th>\n",
       "      <th></th>\n",
       "      <th></th>\n",
       "      <th></th>\n",
       "      <th></th>\n",
       "      <th></th>\n",
       "      <th></th>\n",
       "      <th></th>\n",
       "    </tr>\n",
       "  </thead>\n",
       "  <tbody>\n",
       "    <tr>\n",
       "      <th>2014-02-27 22:00:00</th>\n",
       "      <td>0.456</td>\n",
       "      <td>0.631</td>\n",
       "      <td>0.243</td>\n",
       "      <td>0.567</td>\n",
       "      <td>0.184</td>\n",
       "      <td>0.145</td>\n",
       "      <td>0.072</td>\n",
       "      <td>0.192</td>\n",
       "      <td>0.154</td>\n",
       "      <td>0.097</td>\n",
       "      <td>0.396</td>\n",
       "      <td>3.137</td>\n",
       "    </tr>\n",
       "    <tr>\n",
       "      <th>2014-02-27 22:30:00</th>\n",
       "      <td>0.354</td>\n",
       "      <td>0.178</td>\n",
       "      <td>0.171</td>\n",
       "      <td>0.695</td>\n",
       "      <td>0.327</td>\n",
       "      <td>0.139</td>\n",
       "      <td>0.083</td>\n",
       "      <td>0.166</td>\n",
       "      <td>0.168</td>\n",
       "      <td>0.065</td>\n",
       "      <td>0.264</td>\n",
       "      <td>2.610</td>\n",
       "    </tr>\n",
       "    <tr>\n",
       "      <th>2014-02-27 23:00:00</th>\n",
       "      <td>0.263</td>\n",
       "      <td>0.108</td>\n",
       "      <td>0.132</td>\n",
       "      <td>0.807</td>\n",
       "      <td>0.163</td>\n",
       "      <td>0.141</td>\n",
       "      <td>0.051</td>\n",
       "      <td>0.171</td>\n",
       "      <td>0.142</td>\n",
       "      <td>0.026</td>\n",
       "      <td>0.264</td>\n",
       "      <td>2.268</td>\n",
       "    </tr>\n",
       "    <tr>\n",
       "      <th>2014-02-27 23:30:00</th>\n",
       "      <td>0.298</td>\n",
       "      <td>0.078</td>\n",
       "      <td>0.126</td>\n",
       "      <td>0.308</td>\n",
       "      <td>0.122</td>\n",
       "      <td>0.139</td>\n",
       "      <td>0.000</td>\n",
       "      <td>0.168</td>\n",
       "      <td>0.033</td>\n",
       "      <td>0.024</td>\n",
       "      <td>0.330</td>\n",
       "      <td>1.626</td>\n",
       "    </tr>\n",
       "    <tr>\n",
       "      <th>2014-02-28 00:00:00</th>\n",
       "      <td>0.218</td>\n",
       "      <td>0.113</td>\n",
       "      <td>0.123</td>\n",
       "      <td>2.249</td>\n",
       "      <td>0.167</td>\n",
       "      <td>0.141</td>\n",
       "      <td>0.000</td>\n",
       "      <td>0.161</td>\n",
       "      <td>0.048</td>\n",
       "      <td>0.026</td>\n",
       "      <td>0.213</td>\n",
       "      <td>3.459</td>\n",
       "    </tr>\n",
       "  </tbody>\n",
       "</table>\n",
       "</div>"
      ],
      "text/plain": [
       "                     house1  house2  house3  ...  house10  house11  consumo_agregado\n",
       "tstp                                         ...                                    \n",
       "2014-02-27 22:00:00   0.456   0.631   0.243  ...    0.097    0.396             3.137\n",
       "2014-02-27 22:30:00   0.354   0.178   0.171  ...    0.065    0.264             2.610\n",
       "2014-02-27 23:00:00   0.263   0.108   0.132  ...    0.026    0.264             2.268\n",
       "2014-02-27 23:30:00   0.298   0.078   0.126  ...    0.024    0.330             1.626\n",
       "2014-02-28 00:00:00   0.218   0.113   0.123  ...    0.026    0.213             3.459\n",
       "\n",
       "[5 rows x 12 columns]"
      ]
     },
     "execution_count": 35,
     "metadata": {
      "tags": []
     },
     "output_type": "execute_result"
    }
   ],
   "source": [
    "totalhouses.tail()"
   ]
  },
  {
   "cell_type": "code",
   "execution_count": 0,
   "metadata": {
    "colab": {},
    "colab_type": "code",
    "id": "qAS0mFmueqaj"
   },
   "outputs": [],
   "source": []
  },
  {
   "cell_type": "code",
   "execution_count": 36,
   "metadata": {
    "colab": {
     "base_uri": "https://localhost:8080/",
     "height": 35
    },
    "colab_type": "code",
    "executionInfo": {
     "elapsed": 1360,
     "status": "ok",
     "timestamp": 1562716451693,
     "user": {
      "displayName": "Dayana Hernandez",
      "photoUrl": "",
      "userId": "08700700604867881888"
     },
     "user_tz": 240
    },
    "id": "4FlsWNa_egkQ",
    "outputId": "e92c500a-8c68-45a5-d1ab-fdad650d3b23"
   },
   "outputs": [
    {
     "data": {
      "text/plain": [
       "39665"
      ]
     },
     "execution_count": 36,
     "metadata": {
      "tags": []
     },
     "output_type": "execute_result"
    }
   ],
   "source": [
    "len(totalhouses)"
   ]
  },
  {
   "cell_type": "code",
   "execution_count": 0,
   "metadata": {
    "colab": {},
    "colab_type": "code",
    "id": "VyTMejYBpeCK"
   },
   "outputs": [],
   "source": []
  },
  {
   "cell_type": "code",
   "execution_count": 0,
   "metadata": {
    "colab": {},
    "colab_type": "code",
    "id": "8KJcJpqErw1h"
   },
   "outputs": [],
   "source": [
    "df1=totalhouses[['consumo_agregado']]"
   ]
  },
  {
   "cell_type": "code",
   "execution_count": 38,
   "metadata": {
    "colab": {
     "base_uri": "https://localhost:8080/",
     "height": 228
    },
    "colab_type": "code",
    "executionInfo": {
     "elapsed": 1332,
     "status": "ok",
     "timestamp": 1562716451703,
     "user": {
      "displayName": "Dayana Hernandez",
      "photoUrl": "",
      "userId": "08700700604867881888"
     },
     "user_tz": 240
    },
    "id": "PD8_KOb1u8r3",
    "outputId": "52fef253-6d30-433a-98c3-a47b5b4382b8"
   },
   "outputs": [
    {
     "data": {
      "text/html": [
       "<div>\n",
       "<style scoped>\n",
       "    .dataframe tbody tr th:only-of-type {\n",
       "        vertical-align: middle;\n",
       "    }\n",
       "\n",
       "    .dataframe tbody tr th {\n",
       "        vertical-align: top;\n",
       "    }\n",
       "\n",
       "    .dataframe thead th {\n",
       "        text-align: right;\n",
       "    }\n",
       "</style>\n",
       "<table border=\"1\" class=\"dataframe\">\n",
       "  <thead>\n",
       "    <tr style=\"text-align: right;\">\n",
       "      <th></th>\n",
       "      <th>consumo_agregado</th>\n",
       "    </tr>\n",
       "    <tr>\n",
       "      <th>tstp</th>\n",
       "      <th></th>\n",
       "    </tr>\n",
       "  </thead>\n",
       "  <tbody>\n",
       "    <tr>\n",
       "      <th>2011-11-23 13:30:00</th>\n",
       "      <td>2.473</td>\n",
       "    </tr>\n",
       "    <tr>\n",
       "      <th>2011-11-23 14:00:00</th>\n",
       "      <td>3.183</td>\n",
       "    </tr>\n",
       "    <tr>\n",
       "      <th>2011-11-23 14:30:00</th>\n",
       "      <td>2.424</td>\n",
       "    </tr>\n",
       "    <tr>\n",
       "      <th>2011-11-23 15:00:00</th>\n",
       "      <td>2.484</td>\n",
       "    </tr>\n",
       "    <tr>\n",
       "      <th>2011-11-23 15:30:00</th>\n",
       "      <td>1.890</td>\n",
       "    </tr>\n",
       "  </tbody>\n",
       "</table>\n",
       "</div>"
      ],
      "text/plain": [
       "                     consumo_agregado\n",
       "tstp                                 \n",
       "2011-11-23 13:30:00             2.473\n",
       "2011-11-23 14:00:00             3.183\n",
       "2011-11-23 14:30:00             2.424\n",
       "2011-11-23 15:00:00             2.484\n",
       "2011-11-23 15:30:00             1.890"
      ]
     },
     "execution_count": 38,
     "metadata": {
      "tags": []
     },
     "output_type": "execute_result"
    }
   ],
   "source": [
    "#Dataset usado para la prueba\n",
    "df1.head()"
   ]
  },
  {
   "cell_type": "code",
   "execution_count": 39,
   "metadata": {
    "colab": {
     "base_uri": "https://localhost:8080/",
     "height": 54
    },
    "colab_type": "code",
    "executionInfo": {
     "elapsed": 1317,
     "status": "ok",
     "timestamp": 1562716451705,
     "user": {
      "displayName": "Dayana Hernandez",
      "photoUrl": "",
      "userId": "08700700604867881888"
     },
     "user_tz": 240
    },
    "id": "cFmKE96Du-zd",
    "outputId": "ac5011bd-65bb-421a-f237-5f818adc8b4b"
   },
   "outputs": [
    {
     "data": {
      "text/plain": [
       "consumo_agregado    float64\n",
       "dtype: object"
      ]
     },
     "execution_count": 39,
     "metadata": {
      "tags": []
     },
     "output_type": "execute_result"
    }
   ],
   "source": [
    "df1.dtypes"
   ]
  },
  {
   "cell_type": "code",
   "execution_count": 0,
   "metadata": {
    "colab": {},
    "colab_type": "code",
    "id": "cxDFddz7vPU0"
   },
   "outputs": [],
   "source": [
    "# Variables de Configuración \n",
    "batch_size_exp = 1\n",
    "epoch_exp = 7\n",
    "neurons_exp = 10\n",
    "#Se predice 1 semana(168 horas) horas pero como la resolución es de media hora entonces se predice 336\n",
    "predict_values_exp = 336\n",
    "lag_exp=24"
   ]
  },
  {
   "cell_type": "code",
   "execution_count": 0,
   "metadata": {
    "colab": {},
    "colab_type": "code",
    "id": "gNVN3UBCn-Ye"
   },
   "outputs": [],
   "source": [
    "# Función que convierte la trama a un problema de aprendizaje supervisado\n",
    "def timeseries_to_supervised(data, lag=1):\n",
    "    df = pd.DataFrame(data)\n",
    "    columns = [df.shift(i) for i in range(1, lag+1)]\n",
    "    columns.append(df)\n",
    "    df = pd.concat(columns, axis=1)\n",
    "    df.fillna(0, inplace=True)\n",
    "    return df"
   ]
  },
  {
   "cell_type": "code",
   "execution_count": 0,
   "metadata": {
    "colab": {},
    "colab_type": "code",
    "id": "exUEAhkzr28Z"
   },
   "outputs": [],
   "source": [
    "# Función que crea una serie diferenciada\n",
    "def difference(dataset, interval=1):\n",
    "    diff = list()\n",
    "    for i in range(interval, len(dataset)):\n",
    "        value = dataset[i] - dataset[i - interval]\n",
    "        diff.append(value)\n",
    "    return pd.Series(diff)"
   ]
  },
  {
   "cell_type": "code",
   "execution_count": 0,
   "metadata": {
    "colab": {},
    "colab_type": "code",
    "id": "nRreEZWYoCaO"
   },
   "outputs": [],
   "source": [
    "# Función que invierte la diferenciaciòn \n",
    "def inverse_difference(history, yhat, interval=1):\n",
    "    return yhat + history[-interval]"
   ]
  },
  {
   "cell_type": "code",
   "execution_count": 0,
   "metadata": {
    "colab": {},
    "colab_type": "code",
    "id": "ijQ2IaJsr4To"
   },
   "outputs": [],
   "source": [
    "# Función que escala los datos [0, 1]\n",
    "def scale(train, test):\n",
    "    # fit scaler\n",
    "    scaler = MinMaxScaler(feature_range=(0, 1))\n",
    "    scaler = scaler.fit(train)\n",
    "    # Transformación del Train\n",
    "    train = train.reshape(train.shape[0], train.shape[1])\n",
    "    train_scaled = scaler.transform(train)\n",
    "    # Transformación del test\n",
    "    test = test.reshape(test.shape[0], test.shape[1])\n",
    "    test_scaled = scaler.transform(test)\n",
    "    return scaler, train_scaled, test_scaled"
   ]
  },
  {
   "cell_type": "code",
   "execution_count": 0,
   "metadata": {
    "colab": {},
    "colab_type": "code",
    "id": "Bh_OQGiZoSeF"
   },
   "outputs": [],
   "source": [
    "# Función que invierte escala los datos [0, 1]\n",
    "def invert_scale(scaler, X, value):\n",
    "    new_row = [x for x in X] + [value]\n",
    "    array = np.array(new_row)\n",
    "    array = array.reshape(1, len(array))\n",
    "    inverted = scaler.inverse_transform(array)\n",
    "    return inverted[0, 1]"
   ]
  },
  {
   "cell_type": "code",
   "execution_count": 0,
   "metadata": {
    "colab": {},
    "colab_type": "code",
    "id": "EjiOkVNIn3Vy"
   },
   "outputs": [],
   "source": [
    "# Ajuste de los datos en el modelo LSTM Deep Learning\n",
    "def fit_lstm(train, batch_size, nb_epoch, neurons):\n",
    "    X, y = train[:, 0:-1], train[:, -1]\n",
    "    X = X.reshape(X.shape[0], 1, X.shape[1])\n",
    "    model = Sequential()\n",
    "    model.add(LSTM(neurons, batch_input_shape=(batch_size, X.shape[1], X.shape[2]), stateful=True))\n",
    "    model.add(Dense(1))\n",
    "    model.compile(loss='mean_squared_error', optimizer='adam')\n",
    "    for i in range(nb_epoch):\n",
    "        model.fit(X, y, epochs=1, batch_size=batch_size, verbose=1, shuffle=False)\n",
    "        model.reset_states()\n",
    "    return model"
   ]
  },
  {
   "cell_type": "code",
   "execution_count": 0,
   "metadata": {
    "colab": {},
    "colab_type": "code",
    "id": "ekqMnev4v9qY"
   },
   "outputs": [],
   "source": [
    "# hace una predicción one-step\n",
    "def forecast_lstm(model, batch_size, X):\n",
    "    X = X.reshape(1, 1, len(X))\n",
    "    #print(X)\n",
    "    yhat = model.predict(X, batch_size=1)\n",
    "    return yhat[0,0]"
   ]
  },
  {
   "cell_type": "code",
   "execution_count": 0,
   "metadata": {
    "colab": {},
    "colab_type": "code",
    "id": "eM4fA7YSwINH"
   },
   "outputs": [],
   "source": [
    "# transformar datos a estacionarios\n",
    "raw_values = df1.values\n",
    "diff_values = difference(raw_values, 1)"
   ]
  },
  {
   "cell_type": "code",
   "execution_count": 49,
   "metadata": {
    "colab": {
     "base_uri": "https://localhost:8080/",
     "height": 145
    },
    "colab_type": "code",
    "executionInfo": {
     "elapsed": 1484,
     "status": "ok",
     "timestamp": 1562716451985,
     "user": {
      "displayName": "Dayana Hernandez",
      "photoUrl": "",
      "userId": "08700700604867881888"
     },
     "user_tz": 240
    },
    "id": "dVOzCaVgyKyF",
    "outputId": "10d9f3cf-7d65-4851-c07b-67364d982069"
   },
   "outputs": [
    {
     "data": {
      "text/plain": [
       "array([[2.473    ],\n",
       "       [3.183    ],\n",
       "       [2.424    ],\n",
       "       ...,\n",
       "       [2.268    ],\n",
       "       [1.626    ],\n",
       "       [3.4590001]])"
      ]
     },
     "execution_count": 49,
     "metadata": {
      "tags": []
     },
     "output_type": "execute_result"
    }
   ],
   "source": [
    "raw_values"
   ]
  },
  {
   "cell_type": "code",
   "execution_count": 0,
   "metadata": {
    "colab": {},
    "colab_type": "code",
    "id": "LyyOLbWp2ATw"
   },
   "outputs": [],
   "source": [
    "#diff_values.plot()"
   ]
  },
  {
   "cell_type": "code",
   "execution_count": 0,
   "metadata": {
    "colab": {},
    "colab_type": "code",
    "id": "-yycbIRq2F78"
   },
   "outputs": [],
   "source": []
  },
  {
   "cell_type": "code",
   "execution_count": 0,
   "metadata": {
    "colab": {},
    "colab_type": "code",
    "id": "QFhBB-8q2B1K"
   },
   "outputs": [],
   "source": []
  },
  {
   "cell_type": "code",
   "execution_count": 0,
   "metadata": {
    "colab": {},
    "colab_type": "code",
    "id": "NYoY2s-IyNhJ"
   },
   "outputs": [],
   "source": [
    "# transformar datos a un aprendizaje supervisado\n",
    "supervised = timeseries_to_supervised(diff_values, lag_exp)\n",
    "supervised_values = supervised.values"
   ]
  },
  {
   "cell_type": "code",
   "execution_count": 52,
   "metadata": {
    "colab": {
     "base_uri": "https://localhost:8080/",
     "height": 145
    },
    "colab_type": "code",
    "executionInfo": {
     "elapsed": 2115,
     "status": "ok",
     "timestamp": 1562716452655,
     "user": {
      "displayName": "Dayana Hernandez",
      "photoUrl": "",
      "userId": "08700700604867881888"
     },
     "user_tz": 240
    },
    "id": "GfHB2WKj2hPP",
    "outputId": "64118bf5-1347-4fea-c448-2f5f582d80d3"
   },
   "outputs": [
    {
     "data": {
      "text/plain": [
       "array([array([-0.031]), array([0.06]), array([-0.1]), array([0.152]),\n",
       "       array([-0.577]), array([0.773]), array([-0.209]), array([-0.082]),\n",
       "       array([0.144]), array([-0.052]), array([-0.245]), array([0.001]),\n",
       "       array([-0.247]), array([0.38]), array([-0.496]), array([0.01]),\n",
       "       array([0.23]), array([0.043]), array([-0.108]), array([0.459]),\n",
       "       array([-0.071]), array([-0.085]), array([-0.531]),\n",
       "       array([-1.0459999]), array([-0.01])], dtype=object)"
      ]
     },
     "execution_count": 52,
     "metadata": {
      "tags": []
     },
     "output_type": "execute_result"
    }
   ],
   "source": [
    "supervised_values[100]"
   ]
  },
  {
   "cell_type": "code",
   "execution_count": 53,
   "metadata": {
    "colab": {
     "base_uri": "https://localhost:8080/",
     "height": 35
    },
    "colab_type": "code",
    "executionInfo": {
     "elapsed": 2107,
     "status": "ok",
     "timestamp": 1562716452656,
     "user": {
      "displayName": "Dayana Hernandez",
      "photoUrl": "",
      "userId": "08700700604867881888"
     },
     "user_tz": 240
    },
    "id": "SUg11ICv2kPL",
    "outputId": "dcb61624-d238-4122-ec98-513b5e44e950"
   },
   "outputs": [
    {
     "data": {
      "text/plain": [
       "39664"
      ]
     },
     "execution_count": 53,
     "metadata": {
      "tags": []
     },
     "output_type": "execute_result"
    }
   ],
   "source": [
    "len(supervised_values)"
   ]
  },
  {
   "cell_type": "code",
   "execution_count": 0,
   "metadata": {
    "colab": {},
    "colab_type": "code",
    "id": "QSMOwCL84WF6"
   },
   "outputs": [],
   "source": []
  },
  {
   "cell_type": "code",
   "execution_count": 0,
   "metadata": {
    "colab": {},
    "colab_type": "code",
    "id": "_u9eLLgyzzZL"
   },
   "outputs": [],
   "source": [
    "# Dividen los datos en train y test\n",
    "train, test = supervised_values[0:-predict_values_exp], supervised_values[-predict_values_exp:]"
   ]
  },
  {
   "cell_type": "code",
   "execution_count": 55,
   "metadata": {
    "colab": {
     "base_uri": "https://localhost:8080/",
     "height": 72
    },
    "colab_type": "code",
    "executionInfo": {
     "elapsed": 2085,
     "status": "ok",
     "timestamp": 1562716452663,
     "user": {
      "displayName": "Dayana Hernandez",
      "photoUrl": "",
      "userId": "08700700604867881888"
     },
     "user_tz": 240
    },
    "id": "Mf52xug_9jXi",
    "outputId": "1f3b6672-f35c-45ae-97a0-5103d4b149df"
   },
   "outputs": [
    {
     "data": {
      "text/plain": [
       "array([array([-0.266]), array([-0.594]), array([0.06]), array([-0.759]),\n",
       "       array([0.71]), 0, 0, 0, 0, 0, 0, 0, 0, 0, 0, 0, 0, 0, 0, 0, 0, 0,\n",
       "       0, 0, array([0.948])], dtype=object)"
      ]
     },
     "execution_count": 55,
     "metadata": {
      "tags": []
     },
     "output_type": "execute_result"
    }
   ],
   "source": [
    "train[5]"
   ]
  },
  {
   "cell_type": "code",
   "execution_count": 56,
   "metadata": {
    "colab": {
     "base_uri": "https://localhost:8080/",
     "height": 145
    },
    "colab_type": "code",
    "executionInfo": {
     "elapsed": 2076,
     "status": "ok",
     "timestamp": 1562716452663,
     "user": {
      "displayName": "Dayana Hernandez",
      "photoUrl": "",
      "userId": "08700700604867881888"
     },
     "user_tz": 240
    },
    "id": "7hCpPrDb9oNy",
    "outputId": "e1ad814d-d37a-434e-b0a8-8ed4ee4a92fe"
   },
   "outputs": [
    {
     "data": {
      "text/plain": [
       "array([array([-1.134]), array([-0.0509999]), array([0.317]),\n",
       "       array([-0.403]), array([-0.1910001]), array([1.961]),\n",
       "       array([-0.838]), array([-0.094]), array([-0.319]), array([0.27]),\n",
       "       array([-0.256]), array([-0.46]), array([0.635]), array([-0.7]),\n",
       "       array([0.76]), array([0.642]), array([-0.782]), array([-0.244]),\n",
       "       array([1.142]), array([-0.025]), array([0.344]), array([-0.269]),\n",
       "       array([-0.635]), array([0.154]), array([-1.018])], dtype=object)"
      ]
     },
     "execution_count": 56,
     "metadata": {
      "tags": []
     },
     "output_type": "execute_result"
    }
   ],
   "source": [
    "test[5]"
   ]
  },
  {
   "cell_type": "code",
   "execution_count": 0,
   "metadata": {
    "colab": {},
    "colab_type": "code",
    "id": "Uv-thvfY9rjK"
   },
   "outputs": [],
   "source": []
  },
  {
   "cell_type": "code",
   "execution_count": 0,
   "metadata": {
    "colab": {},
    "colab_type": "code",
    "id": "EvV_X0q19lga"
   },
   "outputs": [],
   "source": []
  },
  {
   "cell_type": "code",
   "execution_count": 0,
   "metadata": {
    "colab": {},
    "colab_type": "code",
    "id": "CbIww4pEz2Hq"
   },
   "outputs": [],
   "source": [
    "# Se transforman los datos a una escala de [0,1]\n",
    "scaler, train_scaled, test_scaled = scale(train, test)"
   ]
  },
  {
   "cell_type": "code",
   "execution_count": 58,
   "metadata": {
    "colab": {
     "base_uri": "https://localhost:8080/",
     "height": 108
    },
    "colab_type": "code",
    "executionInfo": {
     "elapsed": 2055,
     "status": "ok",
     "timestamp": 1562716452679,
     "user": {
      "displayName": "Dayana Hernandez",
      "photoUrl": "",
      "userId": "08700700604867881888"
     },
     "user_tz": 240
    },
    "id": "CTYV-LZD91Md",
    "outputId": "500dd609-b403-442e-8fd2-67ab5694b8be"
   },
   "outputs": [
    {
     "data": {
      "text/plain": [
       "array([0.51136515, 0.46776552, 0.55469892, 0.44583278, 0.64110063,\n",
       "       0.54672338, 0.54672338, 0.54672338, 0.54672338, 0.54672338,\n",
       "       0.54672338, 0.54672338, 0.54672338, 0.54672338, 0.54672338,\n",
       "       0.54672338, 0.54672338, 0.54672338, 0.54672338, 0.54672338,\n",
       "       0.54672338, 0.54672338, 0.54672338, 0.54672338, 0.67273694])"
      ]
     },
     "execution_count": 58,
     "metadata": {
      "tags": []
     },
     "output_type": "execute_result"
    }
   ],
   "source": [
    "train_scaled[5]"
   ]
  },
  {
   "cell_type": "code",
   "execution_count": 59,
   "metadata": {
    "colab": {
     "base_uri": "https://localhost:8080/",
     "height": 35
    },
    "colab_type": "code",
    "executionInfo": {
     "elapsed": 2048,
     "status": "ok",
     "timestamp": 1562716452680,
     "user": {
      "displayName": "Dayana Hernandez",
      "photoUrl": "",
      "userId": "08700700604867881888"
     },
     "user_tz": 240
    },
    "id": "9evWQKjY-cus",
    "outputId": "899f8109-a543-47c5-87cd-e6d2857216a0"
   },
   "outputs": [
    {
     "data": {
      "text/plain": [
       "(39328, 25)"
      ]
     },
     "execution_count": 59,
     "metadata": {
      "tags": []
     },
     "output_type": "execute_result"
    }
   ],
   "source": [
    "train_scaled.shape"
   ]
  },
  {
   "cell_type": "code",
   "execution_count": 0,
   "metadata": {
    "colab": {},
    "colab_type": "code",
    "id": "pHIvdbFT-fVI"
   },
   "outputs": [],
   "source": []
  },
  {
   "cell_type": "code",
   "execution_count": 60,
   "metadata": {
    "colab": {
     "base_uri": "https://localhost:8080/",
     "height": 35
    },
    "colab_type": "code",
    "executionInfo": {
     "elapsed": 2037,
     "status": "ok",
     "timestamp": 1562716452684,
     "user": {
      "displayName": "Dayana Hernandez",
      "photoUrl": "",
      "userId": "08700700604867881888"
     },
     "user_tz": 240
    },
    "id": "Pop6pEo_98cJ",
    "outputId": "39ad89a1-00d9-4dc8-eeda-1aa7ab2cdc00"
   },
   "outputs": [
    {
     "data": {
      "text/plain": [
       "(336, 25)"
      ]
     },
     "execution_count": 60,
     "metadata": {
      "tags": []
     },
     "output_type": "execute_result"
    }
   ],
   "source": [
    "test_scaled.shape"
   ]
  },
  {
   "cell_type": "code",
   "execution_count": 0,
   "metadata": {
    "colab": {},
    "colab_type": "code",
    "id": "DA1istms-acx"
   },
   "outputs": [],
   "source": []
  },
  {
   "cell_type": "code",
   "execution_count": 61,
   "metadata": {
    "colab": {
     "base_uri": "https://localhost:8080/",
     "height": 583
    },
    "colab_type": "code",
    "executionInfo": {
     "elapsed": 482616,
     "status": "ok",
     "timestamp": 1562716933282,
     "user": {
      "displayName": "Dayana Hernandez",
      "photoUrl": "",
      "userId": "08700700604867881888"
     },
     "user_tz": 240
    },
    "id": "R0BwS_8fz5SC",
    "outputId": "525989e1-ceed-477a-be81-ca9415fe569d"
   },
   "outputs": [
    {
     "name": "stderr",
     "output_type": "stream",
     "text": [
      "WARNING: Logging before flag parsing goes to stderr.\n",
      "W0709 23:54:12.638168 140486458881920 deprecation_wrapper.py:119] From /usr/local/lib/python3.6/dist-packages/keras/backend/tensorflow_backend.py:74: The name tf.get_default_graph is deprecated. Please use tf.compat.v1.get_default_graph instead.\n",
      "\n",
      "W0709 23:54:12.723726 140486458881920 deprecation_wrapper.py:119] From /usr/local/lib/python3.6/dist-packages/keras/backend/tensorflow_backend.py:517: The name tf.placeholder is deprecated. Please use tf.compat.v1.placeholder instead.\n",
      "\n",
      "W0709 23:54:12.762267 140486458881920 deprecation_wrapper.py:119] From /usr/local/lib/python3.6/dist-packages/keras/backend/tensorflow_backend.py:4138: The name tf.random_uniform is deprecated. Please use tf.random.uniform instead.\n",
      "\n",
      "W0709 23:54:13.078185 140486458881920 deprecation_wrapper.py:119] From /usr/local/lib/python3.6/dist-packages/keras/optimizers.py:790: The name tf.train.Optimizer is deprecated. Please use tf.compat.v1.train.Optimizer instead.\n",
      "\n",
      "W0709 23:54:13.314813 140486458881920 deprecation.py:323] From /usr/local/lib/python3.6/dist-packages/tensorflow/python/ops/math_grad.py:1250: add_dispatch_support.<locals>.wrapper (from tensorflow.python.ops.array_ops) is deprecated and will be removed in a future version.\n",
      "Instructions for updating:\n",
      "Use tf.where in 2.0, which has the same broadcast rule as np.where\n",
      "W0709 23:54:13.663690 140486458881920 deprecation_wrapper.py:119] From /usr/local/lib/python3.6/dist-packages/keras/backend/tensorflow_backend.py:986: The name tf.assign_add is deprecated. Please use tf.compat.v1.assign_add instead.\n",
      "\n",
      "W0709 23:54:13.883667 140486458881920 deprecation_wrapper.py:119] From /usr/local/lib/python3.6/dist-packages/keras/backend/tensorflow_backend.py:973: The name tf.assign is deprecated. Please use tf.compat.v1.assign instead.\n",
      "\n"
     ]
    },
    {
     "name": "stdout",
     "output_type": "stream",
     "text": [
      "Epoch 1/1\n",
      "39328/39328 [==============================] - 68s 2ms/step - loss: 0.0071\n",
      "Epoch 1/1\n",
      "39328/39328 [==============================] - 67s 2ms/step - loss: 0.0068\n",
      "Epoch 1/1\n",
      "39328/39328 [==============================] - 66s 2ms/step - loss: 0.0067\n",
      "Epoch 1/1\n",
      "39328/39328 [==============================] - 66s 2ms/step - loss: 0.0066\n",
      "Epoch 1/1\n",
      "39328/39328 [==============================] - 69s 2ms/step - loss: 0.0066\n",
      "Epoch 1/1\n",
      "39328/39328 [==============================] - 71s 2ms/step - loss: 0.0066\n",
      "Epoch 1/1\n",
      "39328/39328 [==============================] - 72s 2ms/step - loss: 0.0065\n"
     ]
    }
   ],
   "source": [
    "# Entrenar el modelo\n",
    "lstm_model = fit_lstm(train_scaled, batch_size_exp, epoch_exp, neurons_exp)"
   ]
  },
  {
   "cell_type": "code",
   "execution_count": 62,
   "metadata": {
    "colab": {
     "base_uri": "https://localhost:8080/",
     "height": 108
    },
    "colab_type": "code",
    "executionInfo": {
     "elapsed": 482614,
     "status": "ok",
     "timestamp": 1562716933288,
     "user": {
      "displayName": "Dayana Hernandez",
      "photoUrl": "",
      "userId": "08700700604867881888"
     },
     "user_tz": 240
    },
    "id": "ITKeXo_K-sEW",
    "outputId": "dd401016-4c02-4ee6-8ae7-f9b78d1058e0"
   },
   "outputs": [
    {
     "data": {
      "text/plain": [
       "array([0.52133456, 0.80739068, 0.43533165, 0.53422837, 0.50432009,\n",
       "       0.58261332, 0.5126944 , 0.48557756, 0.6311312 , 0.45367539,\n",
       "       0.64774691, 0.63206168, 0.44277549, 0.51428951, 0.69852453,\n",
       "       0.54340024, 0.59244982, 0.51096637, 0.46231556, 0.56719394,\n",
       "       0.68376978, 0.47653861, 0.56732687, 0.49129337])"
      ]
     },
     "execution_count": 62,
     "metadata": {
      "tags": []
     },
     "output_type": "execute_result"
    }
   ],
   "source": [
    "test_scaled[1, 0:-1]"
   ]
  },
  {
   "cell_type": "code",
   "execution_count": 63,
   "metadata": {
    "colab": {
     "base_uri": "https://localhost:8080/",
     "height": 35
    },
    "colab_type": "code",
    "executionInfo": {
     "elapsed": 482607,
     "status": "ok",
     "timestamp": 1562716933289,
     "user": {
      "displayName": "Dayana Hernandez",
      "photoUrl": "",
      "userId": "08700700604867881888"
     },
     "user_tz": 240
    },
    "id": "0n5821lH-ykN",
    "outputId": "212ad10e-1cb0-4ad8-d918-552a79c5ea3c"
   },
   "outputs": [
    {
     "data": {
      "text/plain": [
       "0.493154326549364"
      ]
     },
     "execution_count": 63,
     "metadata": {
      "tags": []
     },
     "output_type": "execute_result"
    }
   ],
   "source": [
    "test_scaled[1, -1]"
   ]
  },
  {
   "cell_type": "code",
   "execution_count": 64,
   "metadata": {
    "colab": {
     "base_uri": "https://localhost:8080/",
     "height": 35
    },
    "colab_type": "code",
    "executionInfo": {
     "elapsed": 482602,
     "status": "ok",
     "timestamp": 1562716933291,
     "user": {
      "displayName": "Dayana Hernandez",
      "photoUrl": "",
      "userId": "08700700604867881888"
     },
     "user_tz": 240
    },
    "id": "mex1ali4-4Sx",
    "outputId": "8ee0bcc6-0bac-426c-99c1-e6cbc3a84b78"
   },
   "outputs": [
    {
     "data": {
      "text/plain": [
       "336"
      ]
     },
     "execution_count": 64,
     "metadata": {
      "tags": []
     },
     "output_type": "execute_result"
    }
   ],
   "source": [
    "len(test_scaled)"
   ]
  },
  {
   "cell_type": "code",
   "execution_count": 65,
   "metadata": {
    "colab": {
     "base_uri": "https://localhost:8080/",
     "height": 35
    },
    "colab_type": "code",
    "executionInfo": {
     "elapsed": 482910,
     "status": "ok",
     "timestamp": 1562716933606,
     "user": {
      "displayName": "Dayana Hernandez",
      "photoUrl": "",
      "userId": "08700700604867881888"
     },
     "user_tz": 240
    },
    "id": "ieSZj7SGAoge",
    "outputId": "18f7b4a0-0468-41e1-e3a3-3c5175a41740"
   },
   "outputs": [
    {
     "data": {
      "text/plain": [
       "39328"
      ]
     },
     "execution_count": 65,
     "metadata": {
      "tags": []
     },
     "output_type": "execute_result"
    }
   ],
   "source": [
    "len(train)"
   ]
  },
  {
   "cell_type": "code",
   "execution_count": 66,
   "metadata": {
    "colab": {
     "base_uri": "https://localhost:8080/",
     "height": 35
    },
    "colab_type": "code",
    "executionInfo": {
     "elapsed": 482903,
     "status": "ok",
     "timestamp": 1562716933608,
     "user": {
      "displayName": "Dayana Hernandez",
      "photoUrl": "",
      "userId": "08700700604867881888"
     },
     "user_tz": 240
    },
    "id": "rNiqHLO2-0R4",
    "outputId": "b51e4074-dad4-4cc6-b1c5-37d9f7dac0ae"
   },
   "outputs": [
    {
     "data": {
      "text/plain": [
       "39665"
      ]
     },
     "execution_count": 66,
     "metadata": {
      "tags": []
     },
     "output_type": "execute_result"
    }
   ],
   "source": [
    "len(raw_values)"
   ]
  },
  {
   "cell_type": "code",
   "execution_count": 0,
   "metadata": {
    "colab": {},
    "colab_type": "code",
    "id": "dOJMNtqLAyj_"
   },
   "outputs": [],
   "source": []
  },
  {
   "cell_type": "code",
   "execution_count": 0,
   "metadata": {
    "colab": {},
    "colab_type": "code",
    "id": "uOKKJMI5-umC"
   },
   "outputs": [],
   "source": []
  },
  {
   "cell_type": "code",
   "execution_count": 67,
   "metadata": {
    "colab": {
     "base_uri": "https://localhost:8080/",
     "height": 1000
    },
    "colab_type": "code",
    "executionInfo": {
     "elapsed": 483388,
     "status": "ok",
     "timestamp": 1562716934113,
     "user": {
      "displayName": "Dayana Hernandez",
      "photoUrl": "",
      "userId": "08700700604867881888"
     },
     "user_tz": 240
    },
    "id": "JsfeoKOD0Q0S",
    "outputId": "db6b6bec-3f59-457a-f096-6115b215606e"
   },
   "outputs": [
    {
     "name": "stdout",
     "output_type": "stream",
     "text": [
      "Hour=1, Predicted=3.702822, Expected=3.796000\n",
      "Hour=2, Predicted=3.783205, Expected=3.393000\n",
      "Hour=3, Predicted=3.355390, Expected=3.710000\n",
      "Hour=4, Predicted=3.682240, Expected=3.659000\n",
      "Hour=5, Predicted=3.564439, Expected=2.525000\n",
      "Hour=6, Predicted=2.467407, Expected=1.507000\n",
      "Hour=7, Predicted=1.434552, Expected=1.398000\n",
      "Hour=8, Predicted=1.380760, Expected=1.341000\n",
      "Hour=9, Predicted=1.312485, Expected=1.229000\n",
      "Hour=10, Predicted=1.267263, Expected=1.333000\n",
      "Hour=11, Predicted=1.354095, Expected=1.479000\n",
      "Hour=12, Predicted=1.534038, Expected=1.783000\n",
      "Hour=13, Predicted=1.821665, Expected=1.469000\n",
      "Hour=14, Predicted=1.490887, Expected=1.876000\n",
      "Hour=15, Predicted=1.891510, Expected=1.813000\n",
      "Hour=16, Predicted=1.851363, Expected=3.625000\n",
      "Hour=17, Predicted=3.632840, Expected=2.532000\n",
      "Hour=18, Predicted=2.540068, Expected=1.656000\n",
      "Hour=19, Predicted=1.651167, Expected=2.544000\n",
      "Hour=20, Predicted=2.530862, Expected=1.994000\n",
      "Hour=21, Predicted=2.003294, Expected=2.689000\n",
      "Hour=22, Predicted=2.656397, Expected=2.385000\n",
      "Hour=23, Predicted=2.423767, Expected=1.337000\n",
      "Hour=24, Predicted=1.344326, Expected=1.148000\n",
      "Hour=25, Predicted=1.200778, Expected=1.213000\n",
      "Hour=26, Predicted=1.246207, Expected=1.333000\n",
      "Hour=27, Predicted=1.367792, Expected=1.662000\n",
      "Hour=28, Predicted=1.687250, Expected=2.756000\n",
      "Hour=29, Predicted=2.776867, Expected=2.743000\n",
      "Hour=30, Predicted=2.755360, Expected=2.410000\n",
      "Hour=31, Predicted=2.420245, Expected=2.261000\n",
      "Hour=32, Predicted=2.268121, Expected=2.508000\n",
      "Hour=33, Predicted=2.518040, Expected=3.998000\n",
      "Hour=34, Predicted=4.008650, Expected=2.756000\n",
      "Hour=35, Predicted=2.771380, Expected=2.676000\n",
      "Hour=36, Predicted=2.693393, Expected=3.200000\n",
      "Hour=37, Predicted=3.219658, Expected=4.202000\n",
      "Hour=38, Predicted=4.222059, Expected=5.057000\n",
      "Hour=39, Predicted=5.077093, Expected=3.997000\n",
      "Hour=40, Predicted=4.015910, Expected=3.389000\n",
      "Hour=41, Predicted=3.407035, Expected=4.066000\n",
      "Hour=42, Predicted=4.082140, Expected=4.984000\n",
      "Hour=43, Predicted=4.998295, Expected=4.474000\n",
      "Hour=44, Predicted=4.487685, Expected=3.417000\n",
      "Hour=45, Predicted=3.428542, Expected=3.574000\n",
      "Hour=46, Predicted=3.587051, Expected=3.699000\n",
      "Hour=47, Predicted=3.711101, Expected=2.826000\n",
      "Hour=48, Predicted=2.840650, Expected=4.965000\n",
      "Hour=49, Predicted=4.980122, Expected=3.858000\n",
      "Hour=50, Predicted=3.874822, Expected=3.759000\n",
      "Hour=51, Predicted=3.776180, Expected=3.700000\n",
      "Hour=52, Predicted=3.717520, Expected=3.462000\n",
      "Hour=53, Predicted=3.479109, Expected=3.233000\n",
      "Hour=54, Predicted=3.249641, Expected=1.806000\n",
      "Hour=55, Predicted=1.821875, Expected=1.024000\n",
      "Hour=56, Predicted=1.039386, Expected=1.035000\n",
      "Hour=57, Predicted=1.049937, Expected=1.660000\n",
      "Hour=58, Predicted=1.674920, Expected=1.072000\n",
      "Hour=59, Predicted=1.087023, Expected=1.259000\n",
      "Hour=60, Predicted=1.274386, Expected=1.310000\n",
      "Hour=61, Predicted=1.325764, Expected=1.240000\n",
      "Hour=62, Predicted=1.256141, Expected=1.474000\n",
      "Hour=63, Predicted=1.490402, Expected=1.777000\n",
      "Hour=64, Predicted=1.793548, Expected=1.720000\n",
      "Hour=65, Predicted=1.736544, Expected=1.822000\n",
      "Hour=66, Predicted=1.838420, Expected=1.997000\n",
      "Hour=67, Predicted=2.013242, Expected=1.963000\n",
      "Hour=68, Predicted=1.978971, Expected=2.939000\n",
      "Hour=69, Predicted=2.954802, Expected=2.480000\n",
      "Hour=70, Predicted=2.495590, Expected=3.218000\n",
      "Hour=71, Predicted=3.233559, Expected=4.211000\n",
      "Hour=72, Predicted=4.226531, Expected=3.282000\n",
      "Hour=73, Predicted=3.297637, Expected=2.196000\n",
      "Hour=74, Predicted=2.211737, Expected=2.240000\n",
      "Hour=75, Predicted=2.255870, Expected=1.878000\n",
      "Hour=76, Predicted=1.893956, Expected=4.102000\n",
      "Hour=77, Predicted=4.118010, Expected=3.976000\n",
      "Hour=78, Predicted=3.992003, Expected=2.304000\n",
      "Hour=79, Predicted=2.319961, Expected=3.030000\n",
      "Hour=80, Predicted=3.045885, Expected=2.717000\n",
      "Hour=81, Predicted=2.732809, Expected=2.250000\n",
      "Hour=82, Predicted=2.265740, Expected=2.487000\n",
      "Hour=83, Predicted=2.502702, Expected=3.245000\n",
      "Hour=84, Predicted=3.260691, Expected=3.438000\n",
      "Hour=85, Predicted=3.453712, Expected=4.060000\n",
      "Hour=86, Predicted=4.075751, Expected=3.511000\n",
      "Hour=87, Predicted=3.526800, Expected=3.037000\n",
      "Hour=88, Predicted=3.052847, Expected=2.893000\n",
      "Hour=89, Predicted=2.908882, Expected=4.254000\n",
      "Hour=90, Predicted=4.269903, Expected=5.497000\n",
      "Hour=91, Predicted=5.512904, Expected=4.599000\n",
      "Hour=92, Predicted=4.614895, Expected=4.866000\n",
      "Hour=93, Predicted=4.881872, Expected=4.438000\n",
      "Hour=94, Predicted=4.453850, Expected=2.997000\n",
      "Hour=95, Predicted=3.012828, Expected=2.883000\n",
      "Hour=96, Predicted=2.898816, Expected=3.429000\n",
      "Hour=97, Predicted=3.444811, Expected=3.207000\n",
      "Hour=98, Predicted=3.222817, Expected=3.270000\n",
      "Hour=99, Predicted=3.285829, Expected=3.390000\n",
      "Hour=100, Predicted=3.405843, Expected=3.322000\n",
      "Hour=101, Predicted=3.337857, Expected=3.297000\n",
      "Hour=102, Predicted=3.312867, Expected=1.746000\n",
      "Hour=103, Predicted=1.761870, Expected=1.849000\n",
      "Hour=104, Predicted=1.864869, Expected=2.992000\n",
      "Hour=105, Predicted=3.007862, Expected=2.379000\n",
      "Hour=106, Predicted=2.394853, Expected=1.875000\n",
      "Hour=107, Predicted=1.890843, Expected=1.474000\n",
      "Hour=108, Predicted=1.489834, Expected=1.221000\n",
      "Hour=109, Predicted=1.236829, Expected=1.455000\n",
      "Hour=110, Predicted=1.470828, Expected=1.319000\n",
      "Hour=111, Predicted=1.334829, Expected=1.751000\n",
      "Hour=112, Predicted=1.766832, Expected=2.311000\n",
      "Hour=113, Predicted=2.326838, Expected=2.108000\n",
      "Hour=114, Predicted=2.123842, Expected=2.084000\n",
      "Hour=115, Predicted=2.099845, Expected=2.161000\n",
      "Hour=116, Predicted=2.176847, Expected=3.516000\n",
      "Hour=117, Predicted=3.531847, Expected=1.729000\n",
      "Hour=118, Predicted=1.744845, Expected=1.339000\n",
      "Hour=119, Predicted=1.354842, Expected=1.854000\n",
      "Hour=120, Predicted=1.869840, Expected=1.538000\n",
      "Hour=121, Predicted=1.553837, Expected=1.664000\n",
      "Hour=122, Predicted=1.679837, Expected=3.331000\n",
      "Hour=123, Predicted=3.346836, Expected=2.375000\n",
      "Hour=124, Predicted=2.390837, Expected=1.841000\n",
      "Hour=125, Predicted=1.856839, Expected=2.042000\n",
      "Hour=126, Predicted=2.057841, Expected=3.009000\n",
      "Hour=127, Predicted=3.024842, Expected=2.486000\n",
      "Hour=128, Predicted=2.501844, Expected=4.096000\n",
      "Hour=129, Predicted=4.111845, Expected=2.594000\n",
      "Hour=130, Predicted=2.609844, Expected=4.025000\n",
      "Hour=131, Predicted=4.040844, Expected=5.328000\n",
      "Hour=132, Predicted=5.343843, Expected=4.657000\n",
      "Hour=133, Predicted=4.672841, Expected=2.963000\n",
      "Hour=134, Predicted=2.978841, Expected=4.227000\n",
      "Hour=135, Predicted=4.242841, Expected=4.552000\n",
      "Hour=136, Predicted=4.567841, Expected=4.797000\n",
      "Hour=137, Predicted=4.812841, Expected=3.458000\n",
      "Hour=138, Predicted=3.473841, Expected=2.960000\n",
      "Hour=139, Predicted=2.975842, Expected=3.137000\n",
      "Hour=140, Predicted=3.152842, Expected=2.501000\n",
      "Hour=141, Predicted=2.516842, Expected=3.096000\n",
      "Hour=142, Predicted=3.111842, Expected=2.726000\n",
      "Hour=143, Predicted=2.741842, Expected=2.217000\n",
      "Hour=144, Predicted=2.232842, Expected=3.310000\n",
      "Hour=145, Predicted=3.325842, Expected=3.580000\n",
      "Hour=146, Predicted=3.595841, Expected=3.166000\n",
      "Hour=147, Predicted=3.181841, Expected=3.302000\n",
      "Hour=148, Predicted=3.317841, Expected=2.919000\n",
      "Hour=149, Predicted=2.934841, Expected=2.906000\n",
      "Hour=150, Predicted=2.921841, Expected=2.017000\n",
      "Hour=151, Predicted=2.032841, Expected=1.359000\n",
      "Hour=152, Predicted=1.374841, Expected=1.134000\n",
      "Hour=153, Predicted=1.149841, Expected=1.205000\n",
      "Hour=154, Predicted=1.220842, Expected=1.262000\n",
      "Hour=155, Predicted=1.277842, Expected=2.237000\n",
      "Hour=156, Predicted=2.252842, Expected=2.956000\n",
      "Hour=157, Predicted=2.971842, Expected=2.373000\n",
      "Hour=158, Predicted=2.388842, Expected=1.823000\n",
      "Hour=159, Predicted=1.838842, Expected=1.982000\n",
      "Hour=160, Predicted=1.997842, Expected=2.532000\n",
      "Hour=161, Predicted=2.547842, Expected=1.885000\n",
      "Hour=162, Predicted=1.900842, Expected=2.001000\n",
      "Hour=163, Predicted=2.016842, Expected=2.017000\n",
      "Hour=164, Predicted=2.032841, Expected=1.526000\n",
      "Hour=165, Predicted=1.541842, Expected=1.431000\n",
      "Hour=166, Predicted=1.446841, Expected=1.404000\n",
      "Hour=167, Predicted=1.419842, Expected=1.765000\n",
      "Hour=168, Predicted=1.780841, Expected=1.499000\n",
      "Hour=169, Predicted=1.514842, Expected=1.370000\n",
      "Hour=170, Predicted=1.385842, Expected=1.230000\n",
      "Hour=171, Predicted=1.245842, Expected=1.062000\n",
      "Hour=172, Predicted=1.077841, Expected=3.358000\n",
      "Hour=173, Predicted=3.373841, Expected=1.909000\n",
      "Hour=174, Predicted=1.924841, Expected=1.460000\n",
      "Hour=175, Predicted=1.475842, Expected=1.925000\n",
      "Hour=176, Predicted=1.940841, Expected=1.529000\n",
      "Hour=177, Predicted=1.544842, Expected=1.544000\n",
      "Hour=178, Predicted=1.559841, Expected=1.995000\n",
      "Hour=179, Predicted=2.010842, Expected=2.851000\n",
      "Hour=180, Predicted=2.866841, Expected=3.221000\n",
      "Hour=181, Predicted=3.236842, Expected=3.772000\n",
      "Hour=182, Predicted=3.787842, Expected=3.340000\n",
      "Hour=183, Predicted=3.355842, Expected=3.343000\n",
      "Hour=184, Predicted=3.358841, Expected=3.720000\n",
      "Hour=185, Predicted=3.735842, Expected=4.458000\n",
      "Hour=186, Predicted=4.473841, Expected=4.317000\n",
      "Hour=187, Predicted=4.332842, Expected=3.253000\n",
      "Hour=188, Predicted=3.268841, Expected=2.177000\n",
      "Hour=189, Predicted=2.192842, Expected=2.610000\n",
      "Hour=190, Predicted=2.625841, Expected=2.319000\n",
      "Hour=191, Predicted=2.334842, Expected=1.954000\n",
      "Hour=192, Predicted=1.969842, Expected=3.805000\n",
      "Hour=193, Predicted=3.820841, Expected=3.082000\n",
      "Hour=194, Predicted=3.097842, Expected=3.256000\n",
      "Hour=195, Predicted=3.271842, Expected=2.867000\n",
      "Hour=196, Predicted=2.882841, Expected=3.002000\n",
      "Hour=197, Predicted=3.017842, Expected=1.798000\n",
      "Hour=198, Predicted=1.813841, Expected=1.391000\n",
      "Hour=199, Predicted=1.406842, Expected=1.940000\n",
      "Hour=200, Predicted=1.955841, Expected=1.009000\n",
      "Hour=201, Predicted=1.024842, Expected=1.036000\n",
      "Hour=202, Predicted=1.051842, Expected=1.181000\n",
      "Hour=203, Predicted=1.196842, Expected=2.040000\n",
      "Hour=204, Predicted=2.055842, Expected=1.760000\n",
      "Hour=205, Predicted=1.775842, Expected=2.179000\n",
      "Hour=206, Predicted=2.194842, Expected=1.683000\n",
      "Hour=207, Predicted=1.698841, Expected=2.265000\n",
      "Hour=208, Predicted=2.280841, Expected=1.837000\n",
      "Hour=209, Predicted=1.852842, Expected=2.264000\n",
      "Hour=210, Predicted=2.279842, Expected=1.847000\n",
      "Hour=211, Predicted=1.862842, Expected=1.652000\n",
      "Hour=212, Predicted=1.667841, Expected=1.259000\n",
      "Hour=213, Predicted=1.274842, Expected=1.590000\n",
      "Hour=214, Predicted=1.605842, Expected=1.946000\n",
      "Hour=215, Predicted=1.961842, Expected=3.502000\n",
      "Hour=216, Predicted=3.517841, Expected=1.379000\n",
      "Hour=217, Predicted=1.394842, Expected=1.556000\n",
      "Hour=218, Predicted=1.571842, Expected=1.367000\n",
      "Hour=219, Predicted=1.382842, Expected=1.311000\n",
      "Hour=220, Predicted=1.326842, Expected=1.611000\n",
      "Hour=221, Predicted=1.626842, Expected=1.630000\n",
      "Hour=222, Predicted=1.645841, Expected=2.094000\n",
      "Hour=223, Predicted=2.109842, Expected=1.680000\n",
      "Hour=224, Predicted=1.695842, Expected=1.772000\n",
      "Hour=225, Predicted=1.787842, Expected=2.235000\n",
      "Hour=226, Predicted=2.250841, Expected=2.338000\n",
      "Hour=227, Predicted=2.353842, Expected=2.244000\n",
      "Hour=228, Predicted=2.259841, Expected=2.734000\n",
      "Hour=229, Predicted=2.749842, Expected=3.657000\n",
      "Hour=230, Predicted=3.672841, Expected=3.816000\n",
      "Hour=231, Predicted=3.831842, Expected=3.834000\n",
      "Hour=232, Predicted=3.849841, Expected=4.246000\n",
      "Hour=233, Predicted=4.261842, Expected=3.555000\n",
      "Hour=234, Predicted=3.570841, Expected=3.271000\n",
      "Hour=235, Predicted=3.286842, Expected=3.382000\n",
      "Hour=236, Predicted=3.397841, Expected=2.891000\n",
      "Hour=237, Predicted=2.906842, Expected=2.172000\n",
      "Hour=238, Predicted=2.187841, Expected=2.321000\n",
      "Hour=239, Predicted=2.336842, Expected=2.060000\n",
      "Hour=240, Predicted=2.075841, Expected=3.740000\n",
      "Hour=241, Predicted=3.755842, Expected=3.293000\n",
      "Hour=242, Predicted=3.308842, Expected=3.178000\n",
      "Hour=243, Predicted=3.193842, Expected=3.348000\n",
      "Hour=244, Predicted=3.363841, Expected=3.086000\n",
      "Hour=245, Predicted=3.101842, Expected=2.211000\n",
      "Hour=246, Predicted=2.226842, Expected=1.071000\n",
      "Hour=247, Predicted=1.086842, Expected=1.128000\n",
      "Hour=248, Predicted=1.143841, Expected=1.086000\n",
      "Hour=249, Predicted=1.101842, Expected=1.116000\n",
      "Hour=250, Predicted=1.131841, Expected=1.199000\n",
      "Hour=251, Predicted=1.214842, Expected=1.274000\n",
      "Hour=252, Predicted=1.289841, Expected=2.296000\n",
      "Hour=253, Predicted=2.311842, Expected=2.497000\n",
      "Hour=254, Predicted=2.512841, Expected=2.933000\n",
      "Hour=255, Predicted=2.948842, Expected=2.627000\n",
      "Hour=256, Predicted=2.642842, Expected=2.003000\n",
      "Hour=257, Predicted=2.018842, Expected=1.967000\n",
      "Hour=258, Predicted=1.982841, Expected=2.040000\n",
      "Hour=259, Predicted=2.055842, Expected=3.107000\n",
      "Hour=260, Predicted=3.122841, Expected=3.548000\n",
      "Hour=261, Predicted=3.563842, Expected=2.809000\n",
      "Hour=262, Predicted=2.824841, Expected=3.179000\n",
      "Hour=263, Predicted=3.194842, Expected=2.438000\n",
      "Hour=264, Predicted=2.453841, Expected=2.571000\n",
      "Hour=265, Predicted=2.586842, Expected=2.449000\n",
      "Hour=266, Predicted=2.464841, Expected=2.419000\n",
      "Hour=267, Predicted=2.434842, Expected=2.107000\n",
      "Hour=268, Predicted=2.122842, Expected=1.609000\n",
      "Hour=269, Predicted=1.624842, Expected=1.468000\n",
      "Hour=270, Predicted=1.483841, Expected=1.342000\n",
      "Hour=271, Predicted=1.357842, Expected=1.367000\n",
      "Hour=272, Predicted=1.382841, Expected=1.445000\n",
      "Hour=273, Predicted=1.460842, Expected=1.418000\n",
      "Hour=274, Predicted=1.433841, Expected=1.549000\n",
      "Hour=275, Predicted=1.564842, Expected=2.062000\n",
      "Hour=276, Predicted=2.077842, Expected=3.138000\n",
      "Hour=277, Predicted=3.153842, Expected=3.845000\n",
      "Hour=278, Predicted=3.860841, Expected=4.272000\n",
      "Hour=279, Predicted=4.287841, Expected=5.008000\n",
      "Hour=280, Predicted=5.023842, Expected=3.463000\n",
      "Hour=281, Predicted=3.478842, Expected=3.535000\n",
      "Hour=282, Predicted=3.550842, Expected=3.205000\n",
      "Hour=283, Predicted=3.220842, Expected=3.742000\n",
      "Hour=284, Predicted=3.757842, Expected=2.807000\n",
      "Hour=285, Predicted=2.822842, Expected=2.843000\n",
      "Hour=286, Predicted=2.858841, Expected=2.188000\n",
      "Hour=287, Predicted=2.203842, Expected=1.775000\n",
      "Hour=288, Predicted=1.790842, Expected=3.333000\n",
      "Hour=289, Predicted=3.348842, Expected=3.309000\n",
      "Hour=290, Predicted=3.324841, Expected=3.107000\n",
      "Hour=291, Predicted=3.122842, Expected=3.306000\n",
      "Hour=292, Predicted=3.321841, Expected=3.149000\n",
      "Hour=293, Predicted=3.164841, Expected=3.250000\n",
      "Hour=294, Predicted=3.265841, Expected=2.806000\n",
      "Hour=295, Predicted=2.821842, Expected=1.563000\n",
      "Hour=296, Predicted=1.578842, Expected=1.315000\n",
      "Hour=297, Predicted=1.330841, Expected=1.926000\n",
      "Hour=298, Predicted=1.941842, Expected=1.270000\n",
      "Hour=299, Predicted=1.285841, Expected=1.438000\n",
      "Hour=300, Predicted=1.453842, Expected=2.111000\n",
      "Hour=301, Predicted=2.126841, Expected=2.973000\n",
      "Hour=302, Predicted=2.988842, Expected=2.536000\n",
      "Hour=303, Predicted=2.551842, Expected=3.533000\n",
      "Hour=304, Predicted=3.548841, Expected=3.597000\n",
      "Hour=305, Predicted=3.612842, Expected=2.319000\n",
      "Hour=306, Predicted=2.334842, Expected=1.653000\n",
      "Hour=307, Predicted=1.668841, Expected=1.670000\n",
      "Hour=308, Predicted=1.685842, Expected=2.052000\n",
      "Hour=309, Predicted=2.067842, Expected=1.751000\n",
      "Hour=310, Predicted=1.766842, Expected=1.668000\n",
      "Hour=311, Predicted=1.683841, Expected=1.622000\n",
      "Hour=312, Predicted=1.637842, Expected=1.474000\n",
      "Hour=313, Predicted=1.489841, Expected=1.571000\n",
      "Hour=314, Predicted=1.586842, Expected=1.807000\n",
      "Hour=315, Predicted=1.822841, Expected=2.011000\n",
      "Hour=316, Predicted=2.026842, Expected=1.556000\n",
      "Hour=317, Predicted=1.571841, Expected=1.793000\n",
      "Hour=318, Predicted=1.808842, Expected=1.757000\n",
      "Hour=319, Predicted=1.772841, Expected=1.534000\n",
      "Hour=320, Predicted=1.549842, Expected=2.427000\n",
      "Hour=321, Predicted=2.442841, Expected=1.768000\n",
      "Hour=322, Predicted=1.783842, Expected=2.177000\n",
      "Hour=323, Predicted=2.192841, Expected=2.210000\n",
      "Hour=324, Predicted=2.225842, Expected=2.399000\n",
      "Hour=325, Predicted=2.414841, Expected=3.522000\n",
      "Hour=326, Predicted=3.537841, Expected=2.925000\n",
      "Hour=327, Predicted=2.940842, Expected=3.621000\n",
      "Hour=328, Predicted=3.636842, Expected=2.997000\n",
      "Hour=329, Predicted=3.012841, Expected=2.559000\n",
      "Hour=330, Predicted=2.574842, Expected=3.282000\n",
      "Hour=331, Predicted=3.297841, Expected=2.888000\n",
      "Hour=332, Predicted=2.903842, Expected=3.137000\n",
      "Hour=333, Predicted=3.152841, Expected=2.610000\n",
      "Hour=334, Predicted=2.625842, Expected=2.268000\n",
      "Hour=335, Predicted=2.283841, Expected=1.626000\n",
      "Hour=336, Predicted=1.641842, Expected=3.459000\n"
     ]
    }
   ],
   "source": [
    "# Test de datos walk-forward validation \n",
    "predictions = list()\n",
    "expectations = list()\n",
    "test_pred = list()\n",
    "for i in range(len(test_scaled)):\n",
    "    # se hace una predicción one-step\n",
    "    X, y = test_scaled[i, 0:-1], test_scaled[i, -1]\n",
    "    yhat = forecast_lstm(lstm_model, 1, X)#batch_size_exp to 1\n",
    "    \n",
    "    # Se reemplaza el valor test scaled con el valor predecido.\n",
    "    test_pred = [yhat] + test_pred \n",
    "    if len(test_pred) > lag_exp+1:\n",
    "        test_pred = test_pred[:-1]\n",
    "    if i+1<len(test_scaled):\n",
    "        if i+1 > lag_exp+1:\n",
    "            test_scaled[i+1] = test_pred\n",
    "        else:\n",
    "            test_scaled[i+1] = np.concatenate((test_pred, test_scaled[i+1, i+1:]),axis=0)\n",
    "\n",
    "    # Se invierte el escalamiento\n",
    "    yhat = invert_scale(scaler, X, yhat)\n",
    "    # Se invierte la diferenciación\n",
    "    yhat = inverse_difference(raw_values, yhat, len(test_scaled)+1-i)\n",
    "    # Se almacena la predicción\n",
    "    expected = raw_values[len(train) + i + 1]\n",
    "    if expected != 0:\n",
    "        predictions.append(yhat)\n",
    "        expectations.append(expected)\n",
    "    print('Hour=%d, Predicted=%f, Expected=%f' % (i+1, yhat, expected))"
   ]
  },
  {
   "cell_type": "code",
   "execution_count": 70,
   "metadata": {
    "colab": {
     "base_uri": "https://localhost:8080/",
     "height": 35
    },
    "colab_type": "code",
    "executionInfo": {
     "elapsed": 565,
     "status": "ok",
     "timestamp": 1562717177277,
     "user": {
      "displayName": "Dayana Hernandez",
      "photoUrl": "",
      "userId": "08700700604867881888"
     },
     "user_tz": 240
    },
    "id": "eF4Q-siJ0Y5L",
    "outputId": "448f723f-f6b2-4ef7-92ee-e592ae4a2cdb"
   },
   "outputs": [
    {
     "name": "stdout",
     "output_type": "stream",
     "text": [
      "Mean Absolute Percent Error:  21.128958298888723\n"
     ]
    }
   ],
   "source": [
    "# Evaluar el desempeño\n",
    "expectations = np.array(expectations)\n",
    "predictions = np.array(predictions)\n",
    "print(\"Mean Absolute Percent Error: \",(np.mean(np.abs((expectations - predictions) / expectations))*100))"
   ]
  },
  {
   "cell_type": "code",
   "execution_count": 71,
   "metadata": {
    "colab": {
     "base_uri": "https://localhost:8080/",
     "height": 500
    },
    "colab_type": "code",
    "executionInfo": {
     "elapsed": 1422,
     "status": "ok",
     "timestamp": 1562717181807,
     "user": {
      "displayName": "Dayana Hernandez",
      "photoUrl": "",
      "userId": "08700700604867881888"
     },
     "user_tz": 240
    },
    "id": "7UJKqSG90bM5",
    "outputId": "7832b249-889a-48e5-9f13-082353e6bafd"
   },
   "outputs": [
    {
     "data": {
      "image/png": "[encoded data removed]",
      "text/plain": [
       "<Figure size 1080x576 with 1 Axes>"
      ]
     },
     "metadata": {
      "tags": []
     },
     "output_type": "display_data"
    }
   ],
   "source": [
    "# Plotting valores observados vs predicidos\n",
    "pyplot.figure(figsize=(15,8))\n",
    "pyplot.plot(expectations, label=\"True\")\n",
    "pyplot.plot(predictions, label=\"Predicted\")\n",
    "pyplot.legend(loc='upper right')\n",
    "pyplot.xlabel(\"Number of hours\")\n",
    "pyplot.ylabel(\"Power generated by system (kW/hora)\")\n",
    "pyplot.show()"
   ]
  }
 ],
 "metadata": {
  "accelerator": "TPU",
  "colab": {
   "collapsed_sections": [],
   "name": "Prueba 6 Consumo Agregado cada media hora 1week.ipynb",
   "provenance": [],
   "version": "0.3.2"
  },
  "kernelspec": {
   "display_name": "Python 3",
   "language": "python",
   "name": "python3"
  },
  "language_info": {
   "codemirror_mode": {
    "name": "ipython",
    "version": 3
   },
   "file_extension": ".py",
   "mimetype": "text/x-python",
   "name": "python",
   "nbconvert_exporter": "python",
   "pygments_lexer": "ipython3",
   "version": "3.7.1"
  }
 },
 "nbformat": 4,
 "nbformat_minor": 1
}
