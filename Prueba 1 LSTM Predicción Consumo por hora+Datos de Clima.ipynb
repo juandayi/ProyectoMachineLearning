{
 "cells": [
  {
   "cell_type": "code",
   "execution_count": 5,
   "metadata": {
    "colab": {
     "base_uri": "https://localhost:8080/",
     "height": 35
    },
    "colab_type": "code",
    "executionInfo": {
     "elapsed": 3267,
     "status": "ok",
     "timestamp": 1562698337352,
     "user": {
      "displayName": "Dayana Hernandez",
      "photoUrl": "",
      "userId": "08700700604867881888"
     },
     "user_tz": 240
    },
    "id": "2k9OoiRYbLO5",
    "outputId": "b816fca7-1ffa-4222-bda5-ff9057a85e29"
   },
   "outputs": [
    {
     "name": "stderr",
     "output_type": "stream",
     "text": [
      "Using TensorFlow backend.\n"
     ]
    }
   ],
   "source": [
    "#Librerias usadas en la prueba\n",
    "import pandas as pd\n",
    "import numpy as np\n",
    "from pandas import datetime\n",
    "from matplotlib import pyplot as plt\n",
    "from matplotlib import pyplot\n",
    "import os\n",
    "\n",
    "from sklearn.cluster import KMeans\n",
    "from sklearn.preprocessing import LabelEncoder\n",
    "from sklearn.preprocessing import MinMaxScaler\n",
    "\n",
    "from math import sqrt\n",
    "\n",
    "from sklearn.preprocessing import MinMaxScaler\n",
    "from sklearn.metrics import mean_squared_error\n",
    "\n",
    "from keras.models import Sequential\n",
    "from keras.layers import Dense\n",
    "from keras.layers import LSTM\n",
    "from keras.layers import Dropout"
   ]
  },
  {
   "cell_type": "code",
   "execution_count": 2,
   "metadata": {
    "colab": {
     "base_uri": "https://localhost:8080/",
     "height": 128
    },
    "colab_type": "code",
    "executionInfo": {
     "elapsed": 539520,
     "status": "ok",
     "timestamp": 1562698873633,
     "user": {
      "displayName": "Dayana Hernandez",
      "photoUrl": "",
      "userId": "08700700604867881888"
     },
     "user_tz": 240
    },
    "id": "9ertSedSbpHf",
    "outputId": "4f6fe269-fe9e-4919-d549-7b76df0c7f2a"
   },
   "outputs": [
    {
     "name": "stdout",
     "output_type": "stream",
     "text": [
      "Go to this URL in a browser: https://accounts.google.com/o/oauth2/auth?client_id=947318989803-6bn6qk8qdgf4n4g3pfee6491hc0brc4i.apps.googleusercontent.com&redirect_uri=urn%3Aietf%3Awg%3Aoauth%3A2.0%3Aoob&scope=email%20https%3A%2F%2Fwww.googleapis.com%2Fauth%2Fdocs.test%20https%3A%2F%2Fwww.googleapis.com%2Fauth%2Fdrive%20https%3A%2F%2Fwww.googleapis.com%2Fauth%2Fdrive.photos.readonly%20https%3A%2F%2Fwww.googleapis.com%2Fauth%2Fpeopleapi.readonly&response_type=code\n",
      "\n",
      "Enter your authorization code:\n",
      "··········\n",
      "Mounted at /content/gdrive\n"
     ]
    }
   ],
   "source": [
    "from google.colab import drive\n",
    "drive.mount('/content/gdrive')\n"
   ]
  },
  {
   "cell_type": "code",
   "execution_count": 0,
   "metadata": {
    "colab": {},
    "colab_type": "code",
    "id": "1AipRIagDPmz"
   },
   "outputs": [],
   "source": [
    "#Cargar Dataset de Energia con una resolución de media hora\n",
    "energy=pd.read_csv('gdrive/My Drive/Colab Notebooks/Proyecto/halfhourly_dataset/energy1.csv')\n"
   ]
  },
  {
   "cell_type": "code",
   "execution_count": 0,
   "metadata": {
    "colab": {},
    "colab_type": "code",
    "id": "QM1254sBd7ss"
   },
   "outputs": [],
   "source": []
  },
  {
   "cell_type": "code",
   "execution_count": 6,
   "metadata": {
    "colab": {
     "base_uri": "https://localhost:8080/",
     "height": 35
    },
    "colab_type": "code",
    "executionInfo": {
     "elapsed": 635,
     "status": "ok",
     "timestamp": 1562699200318,
     "user": {
      "displayName": "Dayana Hernandez",
      "photoUrl": "",
      "userId": "08700700604867881888"
     },
     "user_tz": 240
    },
    "id": "INpyXTBibLPI",
    "outputId": "0bad7912-54da-47cb-d1a7-bc0383caea11"
   },
   "outputs": [
    {
     "data": {
      "text/plain": [
       "169039691"
      ]
     },
     "execution_count": 6,
     "metadata": {
      "tags": []
     },
     "output_type": "execute_result"
    }
   ],
   "source": [
    "#energy = pd.read_csv('energy.csv')\n",
    "len(energy)"
   ]
  },
  {
   "cell_type": "code",
   "execution_count": 7,
   "metadata": {
    "colab": {
     "base_uri": "https://localhost:8080/",
     "height": 198
    },
    "colab_type": "code",
    "executionInfo": {
     "elapsed": 573,
     "status": "ok",
     "timestamp": 1562699203135,
     "user": {
      "displayName": "Dayana Hernandez",
      "photoUrl": "",
      "userId": "08700700604867881888"
     },
     "user_tz": 240
    },
    "id": "37IU_WhYbLPL",
    "outputId": "ff34343d-4d2a-4f9d-de85-ca727e158b7e"
   },
   "outputs": [
    {
     "data": {
      "text/html": [
       "<div>\n",
       "<style scoped>\n",
       "    .dataframe tbody tr th:only-of-type {\n",
       "        vertical-align: middle;\n",
       "    }\n",
       "\n",
       "    .dataframe tbody tr th {\n",
       "        vertical-align: top;\n",
       "    }\n",
       "\n",
       "    .dataframe thead th {\n",
       "        text-align: right;\n",
       "    }\n",
       "</style>\n",
       "<table border=\"1\" class=\"dataframe\">\n",
       "  <thead>\n",
       "    <tr style=\"text-align: right;\">\n",
       "      <th></th>\n",
       "      <th>LCLid</th>\n",
       "      <th>tstp</th>\n",
       "      <th>energy(kWh/hh)</th>\n",
       "    </tr>\n",
       "  </thead>\n",
       "  <tbody>\n",
       "    <tr>\n",
       "      <th>0</th>\n",
       "      <td>MAC000002</td>\n",
       "      <td>2012-10-12 00:30:00.0000000</td>\n",
       "      <td>0</td>\n",
       "    </tr>\n",
       "    <tr>\n",
       "      <th>1</th>\n",
       "      <td>MAC000002</td>\n",
       "      <td>2012-10-12 01:00:00.0000000</td>\n",
       "      <td>0</td>\n",
       "    </tr>\n",
       "    <tr>\n",
       "      <th>2</th>\n",
       "      <td>MAC000002</td>\n",
       "      <td>2012-10-12 01:30:00.0000000</td>\n",
       "      <td>0</td>\n",
       "    </tr>\n",
       "    <tr>\n",
       "      <th>3</th>\n",
       "      <td>MAC000002</td>\n",
       "      <td>2012-10-12 02:00:00.0000000</td>\n",
       "      <td>0</td>\n",
       "    </tr>\n",
       "    <tr>\n",
       "      <th>4</th>\n",
       "      <td>MAC000002</td>\n",
       "      <td>2012-10-12 02:30:00.0000000</td>\n",
       "      <td>0</td>\n",
       "    </tr>\n",
       "  </tbody>\n",
       "</table>\n",
       "</div>"
      ],
      "text/plain": [
       "       LCLid                         tstp energy(kWh/hh)\n",
       "0  MAC000002  2012-10-12 00:30:00.0000000             0 \n",
       "1  MAC000002  2012-10-12 01:00:00.0000000             0 \n",
       "2  MAC000002  2012-10-12 01:30:00.0000000             0 \n",
       "3  MAC000002  2012-10-12 02:00:00.0000000             0 \n",
       "4  MAC000002  2012-10-12 02:30:00.0000000             0 "
      ]
     },
     "execution_count": 7,
     "metadata": {
      "tags": []
     },
     "output_type": "execute_result"
    }
   ],
   "source": [
    "#Dataset del consumo energetico de todas las casas que registra el dataset households Londres Dataset 7GB\n",
    "energy.head()"
   ]
  },
  {
   "cell_type": "code",
   "execution_count": 0,
   "metadata": {
    "colab": {},
    "colab_type": "code",
    "id": "hPb0hRAiec4m"
   },
   "outputs": [],
   "source": []
  },
  {
   "cell_type": "code",
   "execution_count": 8,
   "metadata": {
    "colab": {
     "base_uri": "https://localhost:8080/",
     "height": 198
    },
    "colab_type": "code",
    "executionInfo": {
     "elapsed": 403,
     "status": "ok",
     "timestamp": 1562699215355,
     "user": {
      "displayName": "Dayana Hernandez",
      "photoUrl": "",
      "userId": "08700700604867881888"
     },
     "user_tz": 240
    },
    "id": "v52yWurybLPN",
    "outputId": "a066fc04-2ba4-4e7d-ef36-e35aca687452"
   },
   "outputs": [
    {
     "data": {
      "text/html": [
       "<div>\n",
       "<style scoped>\n",
       "    .dataframe tbody tr th:only-of-type {\n",
       "        vertical-align: middle;\n",
       "    }\n",
       "\n",
       "    .dataframe tbody tr th {\n",
       "        vertical-align: top;\n",
       "    }\n",
       "\n",
       "    .dataframe thead th {\n",
       "        text-align: right;\n",
       "    }\n",
       "</style>\n",
       "<table border=\"1\" class=\"dataframe\">\n",
       "  <thead>\n",
       "    <tr style=\"text-align: right;\">\n",
       "      <th></th>\n",
       "      <th>LCLid</th>\n",
       "      <th>tstp</th>\n",
       "      <th>energy(kWh/hh)</th>\n",
       "    </tr>\n",
       "  </thead>\n",
       "  <tbody>\n",
       "    <tr>\n",
       "      <th>169039686</th>\n",
       "      <td>MAC004828</td>\n",
       "      <td>2014-02-27 22:00:00.0000000</td>\n",
       "      <td>0</td>\n",
       "    </tr>\n",
       "    <tr>\n",
       "      <th>169039687</th>\n",
       "      <td>MAC004828</td>\n",
       "      <td>2014-02-27 22:30:00.0000000</td>\n",
       "      <td>0.001</td>\n",
       "    </tr>\n",
       "    <tr>\n",
       "      <th>169039688</th>\n",
       "      <td>MAC004828</td>\n",
       "      <td>2014-02-27 23:00:00.0000000</td>\n",
       "      <td>0.047</td>\n",
       "    </tr>\n",
       "    <tr>\n",
       "      <th>169039689</th>\n",
       "      <td>MAC004828</td>\n",
       "      <td>2014-02-27 23:30:00.0000000</td>\n",
       "      <td>0.008</td>\n",
       "    </tr>\n",
       "    <tr>\n",
       "      <th>169039690</th>\n",
       "      <td>MAC004828</td>\n",
       "      <td>2014-02-28 00:00:00.0000000</td>\n",
       "      <td>0</td>\n",
       "    </tr>\n",
       "  </tbody>\n",
       "</table>\n",
       "</div>"
      ],
      "text/plain": [
       "               LCLid                         tstp energy(kWh/hh)\n",
       "169039686  MAC004828  2014-02-27 22:00:00.0000000             0 \n",
       "169039687  MAC004828  2014-02-27 22:30:00.0000000         0.001 \n",
       "169039688  MAC004828  2014-02-27 23:00:00.0000000         0.047 \n",
       "169039689  MAC004828  2014-02-27 23:30:00.0000000         0.008 \n",
       "169039690  MAC004828  2014-02-28 00:00:00.0000000             0 "
      ]
     },
     "execution_count": 8,
     "metadata": {
      "tags": []
     },
     "output_type": "execute_result"
    }
   ],
   "source": [
    "energy.tail()"
   ]
  },
  {
   "cell_type": "code",
   "execution_count": 0,
   "metadata": {
    "colab": {},
    "colab_type": "code",
    "id": "kllFg_WRbLPQ"
   },
   "outputs": [],
   "source": [
    "#Se selecciona la casa con que se va a realizar la prueba\n",
    "CASA1=energy[['energy(kWh/hh)','tstp']][energy['LCLid']=='MAC000002']"
   ]
  },
  {
   "cell_type": "code",
   "execution_count": 10,
   "metadata": {
    "colab": {
     "base_uri": "https://localhost:8080/",
     "height": 35
    },
    "colab_type": "code",
    "executionInfo": {
     "elapsed": 610,
     "status": "ok",
     "timestamp": 1562699331819,
     "user": {
      "displayName": "Dayana Hernandez",
      "photoUrl": "",
      "userId": "08700700604867881888"
     },
     "user_tz": 240
    },
    "id": "8xDgX2J5bLPT",
    "outputId": "1b9b4b1d-f513-49c5-acd5-8e28492fc613"
   },
   "outputs": [
    {
     "data": {
      "text/plain": [
       "48282"
      ]
     },
     "execution_count": 10,
     "metadata": {
      "tags": []
     },
     "output_type": "execute_result"
    }
   ],
   "source": [
    "len(CASA1)"
   ]
  },
  {
   "cell_type": "code",
   "execution_count": 11,
   "metadata": {
    "colab": {
     "base_uri": "https://localhost:8080/",
     "height": 198
    },
    "colab_type": "code",
    "executionInfo": {
     "elapsed": 633,
     "status": "ok",
     "timestamp": 1562699336925,
     "user": {
      "displayName": "Dayana Hernandez",
      "photoUrl": "",
      "userId": "08700700604867881888"
     },
     "user_tz": 240
    },
    "id": "g7pb1H0bbLPW",
    "outputId": "1460ccbb-6456-4964-d62f-288ad6169267"
   },
   "outputs": [
    {
     "data": {
      "text/html": [
       "<div>\n",
       "<style scoped>\n",
       "    .dataframe tbody tr th:only-of-type {\n",
       "        vertical-align: middle;\n",
       "    }\n",
       "\n",
       "    .dataframe tbody tr th {\n",
       "        vertical-align: top;\n",
       "    }\n",
       "\n",
       "    .dataframe thead th {\n",
       "        text-align: right;\n",
       "    }\n",
       "</style>\n",
       "<table border=\"1\" class=\"dataframe\">\n",
       "  <thead>\n",
       "    <tr style=\"text-align: right;\">\n",
       "      <th></th>\n",
       "      <th>energy(kWh/hh)</th>\n",
       "      <th>tstp</th>\n",
       "    </tr>\n",
       "  </thead>\n",
       "  <tbody>\n",
       "    <tr>\n",
       "      <th>0</th>\n",
       "      <td>0</td>\n",
       "      <td>2012-10-12 00:30:00.0000000</td>\n",
       "    </tr>\n",
       "    <tr>\n",
       "      <th>1</th>\n",
       "      <td>0</td>\n",
       "      <td>2012-10-12 01:00:00.0000000</td>\n",
       "    </tr>\n",
       "    <tr>\n",
       "      <th>2</th>\n",
       "      <td>0</td>\n",
       "      <td>2012-10-12 01:30:00.0000000</td>\n",
       "    </tr>\n",
       "    <tr>\n",
       "      <th>3</th>\n",
       "      <td>0</td>\n",
       "      <td>2012-10-12 02:00:00.0000000</td>\n",
       "    </tr>\n",
       "    <tr>\n",
       "      <th>4</th>\n",
       "      <td>0</td>\n",
       "      <td>2012-10-12 02:30:00.0000000</td>\n",
       "    </tr>\n",
       "  </tbody>\n",
       "</table>\n",
       "</div>"
      ],
      "text/plain": [
       "  energy(kWh/hh)                         tstp\n",
       "0             0   2012-10-12 00:30:00.0000000\n",
       "1             0   2012-10-12 01:00:00.0000000\n",
       "2             0   2012-10-12 01:30:00.0000000\n",
       "3             0   2012-10-12 02:00:00.0000000\n",
       "4             0   2012-10-12 02:30:00.0000000"
      ]
     },
     "execution_count": 11,
     "metadata": {
      "tags": []
     },
     "output_type": "execute_result"
    }
   ],
   "source": [
    "CASA1.head()"
   ]
  },
  {
   "cell_type": "code",
   "execution_count": 0,
   "metadata": {
    "colab": {},
    "colab_type": "code",
    "id": "Z3lnELnIbLPZ"
   },
   "outputs": [],
   "source": [
    "#Se convierte el tstp a datetime64\n",
    "CASA1['tstp']=pd.to_datetime(CASA1['tstp'])"
   ]
  },
  {
   "cell_type": "code",
   "execution_count": 13,
   "metadata": {
    "colab": {
     "base_uri": "https://localhost:8080/",
     "height": 198
    },
    "colab_type": "code",
    "executionInfo": {
     "elapsed": 729,
     "status": "ok",
     "timestamp": 1562699341694,
     "user": {
      "displayName": "Dayana Hernandez",
      "photoUrl": "",
      "userId": "08700700604867881888"
     },
     "user_tz": 240
    },
    "id": "KUYf64KQbLPb",
    "outputId": "4259ba19-0909-4dec-a7e1-1349ff1b4ce7"
   },
   "outputs": [
    {
     "data": {
      "text/html": [
       "<div>\n",
       "<style scoped>\n",
       "    .dataframe tbody tr th:only-of-type {\n",
       "        vertical-align: middle;\n",
       "    }\n",
       "\n",
       "    .dataframe tbody tr th {\n",
       "        vertical-align: top;\n",
       "    }\n",
       "\n",
       "    .dataframe thead th {\n",
       "        text-align: right;\n",
       "    }\n",
       "</style>\n",
       "<table border=\"1\" class=\"dataframe\">\n",
       "  <thead>\n",
       "    <tr style=\"text-align: right;\">\n",
       "      <th></th>\n",
       "      <th>energy(kWh/hh)</th>\n",
       "      <th>tstp</th>\n",
       "    </tr>\n",
       "  </thead>\n",
       "  <tbody>\n",
       "    <tr>\n",
       "      <th>0</th>\n",
       "      <td>0</td>\n",
       "      <td>2012-10-12 00:30:00</td>\n",
       "    </tr>\n",
       "    <tr>\n",
       "      <th>1</th>\n",
       "      <td>0</td>\n",
       "      <td>2012-10-12 01:00:00</td>\n",
       "    </tr>\n",
       "    <tr>\n",
       "      <th>2</th>\n",
       "      <td>0</td>\n",
       "      <td>2012-10-12 01:30:00</td>\n",
       "    </tr>\n",
       "    <tr>\n",
       "      <th>3</th>\n",
       "      <td>0</td>\n",
       "      <td>2012-10-12 02:00:00</td>\n",
       "    </tr>\n",
       "    <tr>\n",
       "      <th>4</th>\n",
       "      <td>0</td>\n",
       "      <td>2012-10-12 02:30:00</td>\n",
       "    </tr>\n",
       "  </tbody>\n",
       "</table>\n",
       "</div>"
      ],
      "text/plain": [
       "  energy(kWh/hh)                tstp\n",
       "0             0  2012-10-12 00:30:00\n",
       "1             0  2012-10-12 01:00:00\n",
       "2             0  2012-10-12 01:30:00\n",
       "3             0  2012-10-12 02:00:00\n",
       "4             0  2012-10-12 02:30:00"
      ]
     },
     "execution_count": 13,
     "metadata": {
      "tags": []
     },
     "output_type": "execute_result"
    }
   ],
   "source": [
    "CASA1.head()"
   ]
  },
  {
   "cell_type": "code",
   "execution_count": 14,
   "metadata": {
    "colab": {
     "base_uri": "https://localhost:8080/",
     "height": 228
    },
    "colab_type": "code",
    "executionInfo": {
     "elapsed": 590,
     "status": "ok",
     "timestamp": 1562699346103,
     "user": {
      "displayName": "Dayana Hernandez",
      "photoUrl": "",
      "userId": "08700700604867881888"
     },
     "user_tz": 240
    },
    "id": "ttouwtacbLPf",
    "outputId": "3ff85334-707a-43bd-e605-02835e656343"
   },
   "outputs": [
    {
     "data": {
      "text/html": [
       "<div>\n",
       "<style scoped>\n",
       "    .dataframe tbody tr th:only-of-type {\n",
       "        vertical-align: middle;\n",
       "    }\n",
       "\n",
       "    .dataframe tbody tr th {\n",
       "        vertical-align: top;\n",
       "    }\n",
       "\n",
       "    .dataframe thead th {\n",
       "        text-align: right;\n",
       "    }\n",
       "</style>\n",
       "<table border=\"1\" class=\"dataframe\">\n",
       "  <thead>\n",
       "    <tr style=\"text-align: right;\">\n",
       "      <th></th>\n",
       "      <th>energy(kWh/hh)</th>\n",
       "    </tr>\n",
       "    <tr>\n",
       "      <th>tstp</th>\n",
       "      <th></th>\n",
       "    </tr>\n",
       "  </thead>\n",
       "  <tbody>\n",
       "    <tr>\n",
       "      <th>2012-10-12 00:30:00</th>\n",
       "      <td>0</td>\n",
       "    </tr>\n",
       "    <tr>\n",
       "      <th>2012-10-12 01:00:00</th>\n",
       "      <td>0</td>\n",
       "    </tr>\n",
       "    <tr>\n",
       "      <th>2012-10-12 01:30:00</th>\n",
       "      <td>0</td>\n",
       "    </tr>\n",
       "    <tr>\n",
       "      <th>2012-10-12 02:00:00</th>\n",
       "      <td>0</td>\n",
       "    </tr>\n",
       "    <tr>\n",
       "      <th>2012-10-12 02:30:00</th>\n",
       "      <td>0</td>\n",
       "    </tr>\n",
       "  </tbody>\n",
       "</table>\n",
       "</div>"
      ],
      "text/plain": [
       "                    energy(kWh/hh)\n",
       "tstp                              \n",
       "2012-10-12 00:30:00             0 \n",
       "2012-10-12 01:00:00             0 \n",
       "2012-10-12 01:30:00             0 \n",
       "2012-10-12 02:00:00             0 \n",
       "2012-10-12 02:30:00             0 "
      ]
     },
     "execution_count": 14,
     "metadata": {
      "tags": []
     },
     "output_type": "execute_result"
    }
   ],
   "source": [
    "#Se establece tstp como indice\n",
    "CASA1.set_index('tstp').head()"
   ]
  },
  {
   "cell_type": "code",
   "execution_count": 0,
   "metadata": {
    "colab": {},
    "colab_type": "code",
    "id": "CiU4o3oKbLPi"
   },
   "outputs": [],
   "source": [
    "#clima=pd.read_csv('gdrive/My Drive/Colab Notebooks/Proyecto/halfhourly_dataset/weather_hourly_darksky.csv', parse_dates=['time'], index_col=\"time\")"
   ]
  },
  {
   "cell_type": "code",
   "execution_count": 0,
   "metadata": {
    "colab": {},
    "colab_type": "code",
    "id": "MFXw0d6IbLPl"
   },
   "outputs": [],
   "source": [
    "#Se carga el dataset de clima con resolución de una hora\n",
    "clima=pd.read_csv(\"weather_hourly_darksky.csv\", parse_dates=['time'], index_col=\"time\")"
   ]
  },
  {
   "cell_type": "code",
   "execution_count": 16,
   "metadata": {
    "colab": {
     "base_uri": "https://localhost:8080/",
     "height": 228
    },
    "colab_type": "code",
    "executionInfo": {
     "elapsed": 569,
     "status": "ok",
     "timestamp": 1562699385020,
     "user": {
      "displayName": "Dayana Hernandez",
      "photoUrl": "",
      "userId": "08700700604867881888"
     },
     "user_tz": 240
    },
    "id": "U3C-injybLPo",
    "outputId": "68f33788-6216-4827-a353-afef8253103c"
   },
   "outputs": [
    {
     "data": {
      "text/html": [
       "<div>\n",
       "<style scoped>\n",
       "    .dataframe tbody tr th:only-of-type {\n",
       "        vertical-align: middle;\n",
       "    }\n",
       "\n",
       "    .dataframe tbody tr th {\n",
       "        vertical-align: top;\n",
       "    }\n",
       "\n",
       "    .dataframe thead th {\n",
       "        text-align: right;\n",
       "    }\n",
       "</style>\n",
       "<table border=\"1\" class=\"dataframe\">\n",
       "  <thead>\n",
       "    <tr style=\"text-align: right;\">\n",
       "      <th></th>\n",
       "      <th>visibility</th>\n",
       "      <th>windBearing</th>\n",
       "      <th>temperature</th>\n",
       "      <th>dewPoint</th>\n",
       "      <th>pressure</th>\n",
       "      <th>apparentTemperature</th>\n",
       "      <th>windSpeed</th>\n",
       "      <th>precipType</th>\n",
       "      <th>icon</th>\n",
       "      <th>humidity</th>\n",
       "      <th>summary</th>\n",
       "    </tr>\n",
       "    <tr>\n",
       "      <th>time</th>\n",
       "      <th></th>\n",
       "      <th></th>\n",
       "      <th></th>\n",
       "      <th></th>\n",
       "      <th></th>\n",
       "      <th></th>\n",
       "      <th></th>\n",
       "      <th></th>\n",
       "      <th></th>\n",
       "      <th></th>\n",
       "      <th></th>\n",
       "    </tr>\n",
       "  </thead>\n",
       "  <tbody>\n",
       "    <tr>\n",
       "      <th>2011-11-11 00:00:00</th>\n",
       "      <td>5.97</td>\n",
       "      <td>104</td>\n",
       "      <td>10.24</td>\n",
       "      <td>8.86</td>\n",
       "      <td>1016.76</td>\n",
       "      <td>10.24</td>\n",
       "      <td>2.77</td>\n",
       "      <td>rain</td>\n",
       "      <td>partly-cloudy-night</td>\n",
       "      <td>0.91</td>\n",
       "      <td>Partly Cloudy</td>\n",
       "    </tr>\n",
       "    <tr>\n",
       "      <th>2011-11-11 01:00:00</th>\n",
       "      <td>4.88</td>\n",
       "      <td>99</td>\n",
       "      <td>9.76</td>\n",
       "      <td>8.83</td>\n",
       "      <td>1016.63</td>\n",
       "      <td>8.24</td>\n",
       "      <td>2.95</td>\n",
       "      <td>rain</td>\n",
       "      <td>partly-cloudy-night</td>\n",
       "      <td>0.94</td>\n",
       "      <td>Partly Cloudy</td>\n",
       "    </tr>\n",
       "    <tr>\n",
       "      <th>2011-11-11 02:00:00</th>\n",
       "      <td>3.70</td>\n",
       "      <td>98</td>\n",
       "      <td>9.46</td>\n",
       "      <td>8.79</td>\n",
       "      <td>1016.36</td>\n",
       "      <td>7.76</td>\n",
       "      <td>3.17</td>\n",
       "      <td>rain</td>\n",
       "      <td>partly-cloudy-night</td>\n",
       "      <td>0.96</td>\n",
       "      <td>Partly Cloudy</td>\n",
       "    </tr>\n",
       "    <tr>\n",
       "      <th>2011-11-11 03:00:00</th>\n",
       "      <td>3.12</td>\n",
       "      <td>99</td>\n",
       "      <td>9.23</td>\n",
       "      <td>8.63</td>\n",
       "      <td>1016.28</td>\n",
       "      <td>7.44</td>\n",
       "      <td>3.25</td>\n",
       "      <td>rain</td>\n",
       "      <td>fog</td>\n",
       "      <td>0.96</td>\n",
       "      <td>Foggy</td>\n",
       "    </tr>\n",
       "    <tr>\n",
       "      <th>2011-11-11 04:00:00</th>\n",
       "      <td>1.85</td>\n",
       "      <td>111</td>\n",
       "      <td>9.26</td>\n",
       "      <td>9.21</td>\n",
       "      <td>1015.98</td>\n",
       "      <td>7.24</td>\n",
       "      <td>3.70</td>\n",
       "      <td>rain</td>\n",
       "      <td>fog</td>\n",
       "      <td>1.00</td>\n",
       "      <td>Foggy</td>\n",
       "    </tr>\n",
       "  </tbody>\n",
       "</table>\n",
       "</div>"
      ],
      "text/plain": [
       "                     visibility  windBearing  ...  humidity        summary\n",
       "time                                          ...                         \n",
       "2011-11-11 00:00:00        5.97          104  ...      0.91  Partly Cloudy\n",
       "2011-11-11 01:00:00        4.88           99  ...      0.94  Partly Cloudy\n",
       "2011-11-11 02:00:00        3.70           98  ...      0.96  Partly Cloudy\n",
       "2011-11-11 03:00:00        3.12           99  ...      0.96          Foggy\n",
       "2011-11-11 04:00:00        1.85          111  ...      1.00          Foggy\n",
       "\n",
       "[5 rows x 11 columns]"
      ]
     },
     "execution_count": 16,
     "metadata": {
      "tags": []
     },
     "output_type": "execute_result"
    }
   ],
   "source": [
    "clima.head()"
   ]
  },
  {
   "cell_type": "code",
   "execution_count": 17,
   "metadata": {
    "colab": {
     "base_uri": "https://localhost:8080/",
     "height": 35
    },
    "colab_type": "code",
    "executionInfo": {
     "elapsed": 594,
     "status": "ok",
     "timestamp": 1562699388678,
     "user": {
      "displayName": "Dayana Hernandez",
      "photoUrl": "",
      "userId": "08700700604867881888"
     },
     "user_tz": 240
    },
    "id": "A1sgS93-bLPt",
    "outputId": "aee3a802-eba1-4c2d-c5af-96b17ebbd1a2"
   },
   "outputs": [
    {
     "data": {
      "text/plain": [
       "Int64Index([2011, 2012, 2013, 2014], dtype='int64', name='time')"
      ]
     },
     "execution_count": 17,
     "metadata": {
      "tags": []
     },
     "output_type": "execute_result"
    }
   ],
   "source": [
    "clima.index.year.unique()"
   ]
  },
  {
   "cell_type": "code",
   "execution_count": 0,
   "metadata": {
    "colab": {},
    "colab_type": "code",
    "id": "VqoPItzUbLPz"
   },
   "outputs": [],
   "source": [
    "#Se seleccionan las variables con mayor correlación con el consumo energético\n",
    "clima1=clima[['temperature', 'windSpeed', 'humidity']]"
   ]
  },
  {
   "cell_type": "code",
   "execution_count": 19,
   "metadata": {
    "colab": {
     "base_uri": "https://localhost:8080/",
     "height": 228
    },
    "colab_type": "code",
    "executionInfo": {
     "elapsed": 616,
     "status": "ok",
     "timestamp": 1562699396435,
     "user": {
      "displayName": "Dayana Hernandez",
      "photoUrl": "",
      "userId": "08700700604867881888"
     },
     "user_tz": 240
    },
    "id": "Iol30TFibLP1",
    "outputId": "f85dc047-1cac-487a-c130-0e83fa8eab60"
   },
   "outputs": [
    {
     "data": {
      "text/html": [
       "<div>\n",
       "<style scoped>\n",
       "    .dataframe tbody tr th:only-of-type {\n",
       "        vertical-align: middle;\n",
       "    }\n",
       "\n",
       "    .dataframe tbody tr th {\n",
       "        vertical-align: top;\n",
       "    }\n",
       "\n",
       "    .dataframe thead th {\n",
       "        text-align: right;\n",
       "    }\n",
       "</style>\n",
       "<table border=\"1\" class=\"dataframe\">\n",
       "  <thead>\n",
       "    <tr style=\"text-align: right;\">\n",
       "      <th></th>\n",
       "      <th>temperature</th>\n",
       "      <th>windSpeed</th>\n",
       "      <th>humidity</th>\n",
       "    </tr>\n",
       "    <tr>\n",
       "      <th>time</th>\n",
       "      <th></th>\n",
       "      <th></th>\n",
       "      <th></th>\n",
       "    </tr>\n",
       "  </thead>\n",
       "  <tbody>\n",
       "    <tr>\n",
       "      <th>2011-11-11 00:00:00</th>\n",
       "      <td>10.24</td>\n",
       "      <td>2.77</td>\n",
       "      <td>0.91</td>\n",
       "    </tr>\n",
       "    <tr>\n",
       "      <th>2011-11-11 01:00:00</th>\n",
       "      <td>9.76</td>\n",
       "      <td>2.95</td>\n",
       "      <td>0.94</td>\n",
       "    </tr>\n",
       "    <tr>\n",
       "      <th>2011-11-11 02:00:00</th>\n",
       "      <td>9.46</td>\n",
       "      <td>3.17</td>\n",
       "      <td>0.96</td>\n",
       "    </tr>\n",
       "    <tr>\n",
       "      <th>2011-11-11 03:00:00</th>\n",
       "      <td>9.23</td>\n",
       "      <td>3.25</td>\n",
       "      <td>0.96</td>\n",
       "    </tr>\n",
       "    <tr>\n",
       "      <th>2011-11-11 04:00:00</th>\n",
       "      <td>9.26</td>\n",
       "      <td>3.70</td>\n",
       "      <td>1.00</td>\n",
       "    </tr>\n",
       "  </tbody>\n",
       "</table>\n",
       "</div>"
      ],
      "text/plain": [
       "                     temperature  windSpeed  humidity\n",
       "time                                                 \n",
       "2011-11-11 00:00:00        10.24       2.77      0.91\n",
       "2011-11-11 01:00:00         9.76       2.95      0.94\n",
       "2011-11-11 02:00:00         9.46       3.17      0.96\n",
       "2011-11-11 03:00:00         9.23       3.25      0.96\n",
       "2011-11-11 04:00:00         9.26       3.70      1.00"
      ]
     },
     "execution_count": 19,
     "metadata": {
      "tags": []
     },
     "output_type": "execute_result"
    }
   ],
   "source": [
    "clima1.head()"
   ]
  },
  {
   "cell_type": "code",
   "execution_count": 0,
   "metadata": {
    "colab": {},
    "colab_type": "code",
    "id": "YQ0vxKSnbLP7"
   },
   "outputs": [],
   "source": []
  },
  {
   "cell_type": "code",
   "execution_count": 0,
   "metadata": {
    "colab": {},
    "colab_type": "code",
    "id": "HlgAGO_HbLP-"
   },
   "outputs": [],
   "source": []
  },
  {
   "cell_type": "code",
   "execution_count": 0,
   "metadata": {
    "colab": {},
    "colab_type": "code",
    "id": "vpCqFiCcbLQB"
   },
   "outputs": [],
   "source": [
    "#Se unen los dataset de consumo energético y de clima \n",
    "df1=pd.merge(CASA1, clima1,  left_on='tstp', right_on='time', how=\"left\")"
   ]
  },
  {
   "cell_type": "code",
   "execution_count": 21,
   "metadata": {
    "colab": {
     "base_uri": "https://localhost:8080/",
     "height": 198
    },
    "colab_type": "code",
    "executionInfo": {
     "elapsed": 606,
     "status": "ok",
     "timestamp": 1562699402517,
     "user": {
      "displayName": "Dayana Hernandez",
      "photoUrl": "",
      "userId": "08700700604867881888"
     },
     "user_tz": 240
    },
    "id": "IpYxzvQzbLQD",
    "outputId": "ca01a99d-9dbe-470f-97c7-19caaaa193dc"
   },
   "outputs": [
    {
     "data": {
      "text/html": [
       "<div>\n",
       "<style scoped>\n",
       "    .dataframe tbody tr th:only-of-type {\n",
       "        vertical-align: middle;\n",
       "    }\n",
       "\n",
       "    .dataframe tbody tr th {\n",
       "        vertical-align: top;\n",
       "    }\n",
       "\n",
       "    .dataframe thead th {\n",
       "        text-align: right;\n",
       "    }\n",
       "</style>\n",
       "<table border=\"1\" class=\"dataframe\">\n",
       "  <thead>\n",
       "    <tr style=\"text-align: right;\">\n",
       "      <th></th>\n",
       "      <th>energy(kWh/hh)</th>\n",
       "      <th>tstp</th>\n",
       "      <th>temperature</th>\n",
       "      <th>windSpeed</th>\n",
       "      <th>humidity</th>\n",
       "    </tr>\n",
       "  </thead>\n",
       "  <tbody>\n",
       "    <tr>\n",
       "      <th>0</th>\n",
       "      <td>0</td>\n",
       "      <td>2012-10-12 00:30:00</td>\n",
       "      <td>NaN</td>\n",
       "      <td>NaN</td>\n",
       "      <td>NaN</td>\n",
       "    </tr>\n",
       "    <tr>\n",
       "      <th>1</th>\n",
       "      <td>0</td>\n",
       "      <td>2012-10-12 01:00:00</td>\n",
       "      <td>13.09</td>\n",
       "      <td>6.77</td>\n",
       "      <td>0.89</td>\n",
       "    </tr>\n",
       "    <tr>\n",
       "      <th>2</th>\n",
       "      <td>0</td>\n",
       "      <td>2012-10-12 01:30:00</td>\n",
       "      <td>NaN</td>\n",
       "      <td>NaN</td>\n",
       "      <td>NaN</td>\n",
       "    </tr>\n",
       "    <tr>\n",
       "      <th>3</th>\n",
       "      <td>0</td>\n",
       "      <td>2012-10-12 02:00:00</td>\n",
       "      <td>12.54</td>\n",
       "      <td>6.46</td>\n",
       "      <td>0.86</td>\n",
       "    </tr>\n",
       "    <tr>\n",
       "      <th>4</th>\n",
       "      <td>0</td>\n",
       "      <td>2012-10-12 02:30:00</td>\n",
       "      <td>NaN</td>\n",
       "      <td>NaN</td>\n",
       "      <td>NaN</td>\n",
       "    </tr>\n",
       "  </tbody>\n",
       "</table>\n",
       "</div>"
      ],
      "text/plain": [
       "  energy(kWh/hh)                tstp  temperature  windSpeed  humidity\n",
       "0             0  2012-10-12 00:30:00          NaN        NaN       NaN\n",
       "1             0  2012-10-12 01:00:00        13.09       6.77      0.89\n",
       "2             0  2012-10-12 01:30:00          NaN        NaN       NaN\n",
       "3             0  2012-10-12 02:00:00        12.54       6.46      0.86\n",
       "4             0  2012-10-12 02:30:00          NaN        NaN       NaN"
      ]
     },
     "execution_count": 21,
     "metadata": {
      "tags": []
     },
     "output_type": "execute_result"
    }
   ],
   "source": [
    "df1.head()"
   ]
  },
  {
   "cell_type": "code",
   "execution_count": 22,
   "metadata": {
    "colab": {
     "base_uri": "https://localhost:8080/",
     "height": 35
    },
    "colab_type": "code",
    "executionInfo": {
     "elapsed": 595,
     "status": "ok",
     "timestamp": 1562699406673,
     "user": {
      "displayName": "Dayana Hernandez",
      "photoUrl": "",
      "userId": "08700700604867881888"
     },
     "user_tz": 240
    },
    "id": "SRdHQ6TjbLQG",
    "outputId": "eeab3a58-3fe3-4860-8d63-ad503ced2037"
   },
   "outputs": [
    {
     "data": {
      "text/plain": [
       "48282"
      ]
     },
     "execution_count": 22,
     "metadata": {
      "tags": []
     },
     "output_type": "execute_result"
    }
   ],
   "source": [
    "len(df1)"
   ]
  },
  {
   "cell_type": "code",
   "execution_count": 0,
   "metadata": {
    "colab": {},
    "colab_type": "code",
    "id": "27ZflJ_5bLQI"
   },
   "outputs": [],
   "source": [
    "#Quita todas las filas donde hay valores nulos\n",
    "df2=df1.dropna()"
   ]
  },
  {
   "cell_type": "code",
   "execution_count": 25,
   "metadata": {
    "colab": {
     "base_uri": "https://localhost:8080/",
     "height": 198
    },
    "colab_type": "code",
    "executionInfo": {
     "elapsed": 579,
     "status": "ok",
     "timestamp": 1562699430652,
     "user": {
      "displayName": "Dayana Hernandez",
      "photoUrl": "",
      "userId": "08700700604867881888"
     },
     "user_tz": 240
    },
    "id": "kb6ZR9wwbLQL",
    "outputId": "bdea2814-5e1f-4ed5-f30c-f2a97836c763"
   },
   "outputs": [
    {
     "data": {
      "text/html": [
       "<div>\n",
       "<style scoped>\n",
       "    .dataframe tbody tr th:only-of-type {\n",
       "        vertical-align: middle;\n",
       "    }\n",
       "\n",
       "    .dataframe tbody tr th {\n",
       "        vertical-align: top;\n",
       "    }\n",
       "\n",
       "    .dataframe thead th {\n",
       "        text-align: right;\n",
       "    }\n",
       "</style>\n",
       "<table border=\"1\" class=\"dataframe\">\n",
       "  <thead>\n",
       "    <tr style=\"text-align: right;\">\n",
       "      <th></th>\n",
       "      <th>energy(kWh/hh)</th>\n",
       "      <th>tstp</th>\n",
       "      <th>temperature</th>\n",
       "      <th>windSpeed</th>\n",
       "      <th>humidity</th>\n",
       "    </tr>\n",
       "  </thead>\n",
       "  <tbody>\n",
       "    <tr>\n",
       "      <th>1</th>\n",
       "      <td>0</td>\n",
       "      <td>2012-10-12 01:00:00</td>\n",
       "      <td>13.09</td>\n",
       "      <td>6.77</td>\n",
       "      <td>0.89</td>\n",
       "    </tr>\n",
       "    <tr>\n",
       "      <th>3</th>\n",
       "      <td>0</td>\n",
       "      <td>2012-10-12 02:00:00</td>\n",
       "      <td>12.54</td>\n",
       "      <td>6.46</td>\n",
       "      <td>0.86</td>\n",
       "    </tr>\n",
       "    <tr>\n",
       "      <th>5</th>\n",
       "      <td>0</td>\n",
       "      <td>2012-10-12 03:00:00</td>\n",
       "      <td>11.94</td>\n",
       "      <td>6.37</td>\n",
       "      <td>0.84</td>\n",
       "    </tr>\n",
       "    <tr>\n",
       "      <th>7</th>\n",
       "      <td>0</td>\n",
       "      <td>2012-10-12 04:00:00</td>\n",
       "      <td>11.47</td>\n",
       "      <td>6.63</td>\n",
       "      <td>0.86</td>\n",
       "    </tr>\n",
       "    <tr>\n",
       "      <th>9</th>\n",
       "      <td>0</td>\n",
       "      <td>2012-10-12 05:00:00</td>\n",
       "      <td>10.87</td>\n",
       "      <td>6.55</td>\n",
       "      <td>0.86</td>\n",
       "    </tr>\n",
       "  </tbody>\n",
       "</table>\n",
       "</div>"
      ],
      "text/plain": [
       "  energy(kWh/hh)                tstp  temperature  windSpeed  humidity\n",
       "1             0  2012-10-12 01:00:00        13.09       6.77      0.89\n",
       "3             0  2012-10-12 02:00:00        12.54       6.46      0.86\n",
       "5             0  2012-10-12 03:00:00        11.94       6.37      0.84\n",
       "7             0  2012-10-12 04:00:00        11.47       6.63      0.86\n",
       "9             0  2012-10-12 05:00:00        10.87       6.55      0.86"
      ]
     },
     "execution_count": 25,
     "metadata": {
      "tags": []
     },
     "output_type": "execute_result"
    }
   ],
   "source": [
    "df2.head()"
   ]
  },
  {
   "cell_type": "code",
   "execution_count": 26,
   "metadata": {
    "colab": {
     "base_uri": "https://localhost:8080/",
     "height": 198
    },
    "colab_type": "code",
    "executionInfo": {
     "elapsed": 576,
     "status": "ok",
     "timestamp": 1562699436335,
     "user": {
      "displayName": "Dayana Hernandez",
      "photoUrl": "",
      "userId": "08700700604867881888"
     },
     "user_tz": 240
    },
    "id": "_-yuf1JbIMQQ",
    "outputId": "ea282346-d40e-4dcc-daa6-9b8ad6f534ab"
   },
   "outputs": [
    {
     "data": {
      "text/html": [
       "<div>\n",
       "<style scoped>\n",
       "    .dataframe tbody tr th:only-of-type {\n",
       "        vertical-align: middle;\n",
       "    }\n",
       "\n",
       "    .dataframe tbody tr th {\n",
       "        vertical-align: top;\n",
       "    }\n",
       "\n",
       "    .dataframe thead th {\n",
       "        text-align: right;\n",
       "    }\n",
       "</style>\n",
       "<table border=\"1\" class=\"dataframe\">\n",
       "  <thead>\n",
       "    <tr style=\"text-align: right;\">\n",
       "      <th></th>\n",
       "      <th>energy(kWh/hh)</th>\n",
       "      <th>tstp</th>\n",
       "      <th>temperature</th>\n",
       "      <th>windSpeed</th>\n",
       "      <th>humidity</th>\n",
       "    </tr>\n",
       "  </thead>\n",
       "  <tbody>\n",
       "    <tr>\n",
       "      <th>48273</th>\n",
       "      <td>1.296</td>\n",
       "      <td>2014-02-27 20:00:00</td>\n",
       "      <td>5.94</td>\n",
       "      <td>3.25</td>\n",
       "      <td>0.76</td>\n",
       "    </tr>\n",
       "    <tr>\n",
       "      <th>48275</th>\n",
       "      <td>0.517</td>\n",
       "      <td>2014-02-27 21:00:00</td>\n",
       "      <td>5.03</td>\n",
       "      <td>3.06</td>\n",
       "      <td>0.79</td>\n",
       "    </tr>\n",
       "    <tr>\n",
       "      <th>48277</th>\n",
       "      <td>0.416</td>\n",
       "      <td>2014-02-27 22:00:00</td>\n",
       "      <td>4.10</td>\n",
       "      <td>3.02</td>\n",
       "      <td>0.84</td>\n",
       "    </tr>\n",
       "    <tr>\n",
       "      <th>48279</th>\n",
       "      <td>1.247</td>\n",
       "      <td>2014-02-27 23:00:00</td>\n",
       "      <td>3.93</td>\n",
       "      <td>2.75</td>\n",
       "      <td>0.85</td>\n",
       "    </tr>\n",
       "    <tr>\n",
       "      <th>48281</th>\n",
       "      <td>1.387</td>\n",
       "      <td>2014-02-28 00:00:00</td>\n",
       "      <td>3.81</td>\n",
       "      <td>2.53</td>\n",
       "      <td>0.85</td>\n",
       "    </tr>\n",
       "  </tbody>\n",
       "</table>\n",
       "</div>"
      ],
      "text/plain": [
       "      energy(kWh/hh)                tstp  temperature  windSpeed  humidity\n",
       "48273         1.296  2014-02-27 20:00:00         5.94       3.25      0.76\n",
       "48275         0.517  2014-02-27 21:00:00         5.03       3.06      0.79\n",
       "48277         0.416  2014-02-27 22:00:00         4.10       3.02      0.84\n",
       "48279         1.247  2014-02-27 23:00:00         3.93       2.75      0.85\n",
       "48281         1.387  2014-02-28 00:00:00         3.81       2.53      0.85"
      ]
     },
     "execution_count": 26,
     "metadata": {
      "tags": []
     },
     "output_type": "execute_result"
    }
   ],
   "source": [
    "df2.tail()"
   ]
  },
  {
   "cell_type": "code",
   "execution_count": 0,
   "metadata": {
    "colab": {},
    "colab_type": "code",
    "id": "cS8uL-g6JeXN"
   },
   "outputs": [],
   "source": []
  },
  {
   "cell_type": "code",
   "execution_count": 0,
   "metadata": {
    "colab": {},
    "colab_type": "code",
    "id": "QZ5aNfpVIPBe"
   },
   "outputs": [],
   "source": []
  },
  {
   "cell_type": "code",
   "execution_count": 27,
   "metadata": {
    "colab": {
     "base_uri": "https://localhost:8080/",
     "height": 35
    },
    "colab_type": "code",
    "executionInfo": {
     "elapsed": 568,
     "status": "ok",
     "timestamp": 1562699443315,
     "user": {
      "displayName": "Dayana Hernandez",
      "photoUrl": "",
      "userId": "08700700604867881888"
     },
     "user_tz": 240
    },
    "id": "VOfMsb1cbLQO",
    "outputId": "5c81c0fa-246e-421e-868b-fb147c6541a1"
   },
   "outputs": [
    {
     "data": {
      "text/plain": [
       "24136"
      ]
     },
     "execution_count": 27,
     "metadata": {
      "tags": []
     },
     "output_type": "execute_result"
    }
   ],
   "source": [
    "len(df2)"
   ]
  },
  {
   "cell_type": "code",
   "execution_count": 28,
   "metadata": {
    "colab": {
     "base_uri": "https://localhost:8080/",
     "height": 126
    },
    "colab_type": "code",
    "executionInfo": {
     "elapsed": 586,
     "status": "ok",
     "timestamp": 1562699453028,
     "user": {
      "displayName": "Dayana Hernandez",
      "photoUrl": "",
      "userId": "08700700604867881888"
     },
     "user_tz": 240
    },
    "id": "d9lPItPQbLQR",
    "outputId": "7d391997-8c5e-4fae-8bad-aee84bec6a1c"
   },
   "outputs": [
    {
     "data": {
      "text/plain": [
       "energy(kWh/hh)            object\n",
       "tstp              datetime64[ns]\n",
       "temperature              float64\n",
       "windSpeed                float64\n",
       "humidity                 float64\n",
       "dtype: object"
      ]
     },
     "execution_count": 28,
     "metadata": {
      "tags": []
     },
     "output_type": "execute_result"
    }
   ],
   "source": [
    "df2.dtypes"
   ]
  },
  {
   "cell_type": "code",
   "execution_count": 0,
   "metadata": {
    "colab": {},
    "colab_type": "code",
    "id": "V7QwtwzjbLQU"
   },
   "outputs": [],
   "source": [
    "df2.set_index('tstp', inplace=True)"
   ]
  },
  {
   "cell_type": "code",
   "execution_count": 30,
   "metadata": {
    "colab": {
     "base_uri": "https://localhost:8080/",
     "height": 228
    },
    "colab_type": "code",
    "executionInfo": {
     "elapsed": 713,
     "status": "ok",
     "timestamp": 1562699460219,
     "user": {
      "displayName": "Dayana Hernandez",
      "photoUrl": "",
      "userId": "08700700604867881888"
     },
     "user_tz": 240
    },
    "id": "RWPQ-HCubLQW",
    "outputId": "a11ffd2c-ebbf-4420-c9a9-c20795b3ef22"
   },
   "outputs": [
    {
     "data": {
      "text/html": [
       "<div>\n",
       "<style scoped>\n",
       "    .dataframe tbody tr th:only-of-type {\n",
       "        vertical-align: middle;\n",
       "    }\n",
       "\n",
       "    .dataframe tbody tr th {\n",
       "        vertical-align: top;\n",
       "    }\n",
       "\n",
       "    .dataframe thead th {\n",
       "        text-align: right;\n",
       "    }\n",
       "</style>\n",
       "<table border=\"1\" class=\"dataframe\">\n",
       "  <thead>\n",
       "    <tr style=\"text-align: right;\">\n",
       "      <th></th>\n",
       "      <th>energy(kWh/hh)</th>\n",
       "      <th>temperature</th>\n",
       "      <th>windSpeed</th>\n",
       "      <th>humidity</th>\n",
       "    </tr>\n",
       "    <tr>\n",
       "      <th>tstp</th>\n",
       "      <th></th>\n",
       "      <th></th>\n",
       "      <th></th>\n",
       "      <th></th>\n",
       "    </tr>\n",
       "  </thead>\n",
       "  <tbody>\n",
       "    <tr>\n",
       "      <th>2012-10-12 01:00:00</th>\n",
       "      <td>0</td>\n",
       "      <td>13.09</td>\n",
       "      <td>6.77</td>\n",
       "      <td>0.89</td>\n",
       "    </tr>\n",
       "    <tr>\n",
       "      <th>2012-10-12 02:00:00</th>\n",
       "      <td>0</td>\n",
       "      <td>12.54</td>\n",
       "      <td>6.46</td>\n",
       "      <td>0.86</td>\n",
       "    </tr>\n",
       "    <tr>\n",
       "      <th>2012-10-12 03:00:00</th>\n",
       "      <td>0</td>\n",
       "      <td>11.94</td>\n",
       "      <td>6.37</td>\n",
       "      <td>0.84</td>\n",
       "    </tr>\n",
       "    <tr>\n",
       "      <th>2012-10-12 04:00:00</th>\n",
       "      <td>0</td>\n",
       "      <td>11.47</td>\n",
       "      <td>6.63</td>\n",
       "      <td>0.86</td>\n",
       "    </tr>\n",
       "    <tr>\n",
       "      <th>2012-10-12 05:00:00</th>\n",
       "      <td>0</td>\n",
       "      <td>10.87</td>\n",
       "      <td>6.55</td>\n",
       "      <td>0.86</td>\n",
       "    </tr>\n",
       "  </tbody>\n",
       "</table>\n",
       "</div>"
      ],
      "text/plain": [
       "                    energy(kWh/hh)  temperature  windSpeed  humidity\n",
       "tstp                                                                \n",
       "2012-10-12 01:00:00             0         13.09       6.77      0.89\n",
       "2012-10-12 02:00:00             0         12.54       6.46      0.86\n",
       "2012-10-12 03:00:00             0         11.94       6.37      0.84\n",
       "2012-10-12 04:00:00             0         11.47       6.63      0.86\n",
       "2012-10-12 05:00:00             0         10.87       6.55      0.86"
      ]
     },
     "execution_count": 30,
     "metadata": {
      "tags": []
     },
     "output_type": "execute_result"
    }
   ],
   "source": [
    "df2.head()"
   ]
  },
  {
   "cell_type": "code",
   "execution_count": 31,
   "metadata": {
    "colab": {
     "base_uri": "https://localhost:8080/",
     "height": 35
    },
    "colab_type": "code",
    "executionInfo": {
     "elapsed": 585,
     "status": "ok",
     "timestamp": 1562699464201,
     "user": {
      "displayName": "Dayana Hernandez",
      "photoUrl": "",
      "userId": "08700700604867881888"
     },
     "user_tz": 240
    },
    "id": "RtGjNMZabLQZ",
    "outputId": "3a176357-f7fc-4e64-aea0-c457552fda22"
   },
   "outputs": [
    {
     "data": {
      "text/plain": [
       "Index([], dtype='object')"
      ]
     },
     "execution_count": 31,
     "metadata": {
      "tags": []
     },
     "output_type": "execute_result"
    }
   ],
   "source": [
    "#Saber que columnas del dataset tienen valores nulos en sus celdas\n",
    "null_columns=df2.columns[df2.isnull().any()]\n",
    "null_columns"
   ]
  },
  {
   "cell_type": "code",
   "execution_count": 32,
   "metadata": {
    "colab": {
     "base_uri": "https://localhost:8080/",
     "height": 126
    },
    "colab_type": "code",
    "executionInfo": {
     "elapsed": 777,
     "status": "ok",
     "timestamp": 1562699468089,
     "user": {
      "displayName": "Dayana Hernandez",
      "photoUrl": "",
      "userId": "08700700604867881888"
     },
     "user_tz": 240
    },
    "id": "Z_wr-GPkbLQc",
    "outputId": "1c706788-cec3-4240-ae72-3862ad5d9d0c"
   },
   "outputs": [
    {
     "name": "stderr",
     "output_type": "stream",
     "text": [
      "/usr/local/lib/python3.6/dist-packages/ipykernel_launcher.py:1: SettingWithCopyWarning: \n",
      "A value is trying to be set on a copy of a slice from a DataFrame.\n",
      "Try using .loc[row_indexer,col_indexer] = value instead\n",
      "\n",
      "See the caveats in the documentation: http://pandas.pydata.org/pandas-docs/stable/indexing.html#indexing-view-versus-copy\n",
      "  \"\"\"Entry point for launching an IPython kernel.\n"
     ]
    }
   ],
   "source": [
    "df2['energy(kWh/hh)']=df2['energy(kWh/hh)'].astype('float64')\n"
   ]
  },
  {
   "cell_type": "code",
   "execution_count": 33,
   "metadata": {
    "colab": {
     "base_uri": "https://localhost:8080/",
     "height": 108
    },
    "colab_type": "code",
    "executionInfo": {
     "elapsed": 573,
     "status": "ok",
     "timestamp": 1562699471328,
     "user": {
      "displayName": "Dayana Hernandez",
      "photoUrl": "",
      "userId": "08700700604867881888"
     },
     "user_tz": 240
    },
    "id": "ONtZnok1bLQf",
    "outputId": "6c88897c-e3f7-474d-a4eb-a6fff340b35d"
   },
   "outputs": [
    {
     "data": {
      "text/plain": [
       "energy(kWh/hh)    float64\n",
       "temperature       float64\n",
       "windSpeed         float64\n",
       "humidity          float64\n",
       "dtype: object"
      ]
     },
     "execution_count": 33,
     "metadata": {
      "tags": []
     },
     "output_type": "execute_result"
    }
   ],
   "source": [
    "df2.dtypes"
   ]
  },
  {
   "cell_type": "code",
   "execution_count": 0,
   "metadata": {
    "colab": {},
    "colab_type": "code",
    "id": "N5gK4obobLQi"
   },
   "outputs": [],
   "source": [
    "df2.to_csv('gdrive/My Drive/Colab Notebooks/Proyecto/halfhourly_dataset/casa2.csv')"
   ]
  },
  {
   "cell_type": "code",
   "execution_count": 6,
   "metadata": {},
   "outputs": [],
   "source": [
    "df2 = pd.read_csv('casa2.csv', parse_dates=['tstp'], index_col=\"tstp\")"
   ]
  },
  {
   "cell_type": "code",
   "execution_count": 7,
   "metadata": {
    "colab": {},
    "colab_type": "code",
    "id": "wmjHkg42bLQj"
   },
   "outputs": [],
   "source": [
    "#Visualizacion de los datos \n",
    "import seaborn as sns\n",
    "# Use seaborn style defaults and set the default figure size\n",
    "sns.set(rc={'figure.figsize':(11, 4)})"
   ]
  },
  {
   "cell_type": "code",
   "execution_count": 8,
   "metadata": {
    "colab": {
     "base_uri": "https://localhost:8080/",
     "height": 309
    },
    "colab_type": "code",
    "executionInfo": {
     "elapsed": 1296,
     "status": "ok",
     "timestamp": 1562699481709,
     "user": {
      "displayName": "Dayana Hernandez",
      "photoUrl": "",
      "userId": "08700700604867881888"
     },
     "user_tz": 240
    },
    "id": "Jn7GT0CobLQm",
    "outputId": "8ee40a1c-7645-4f82-cfae-bedc92666ee4"
   },
   "outputs": [
    {
     "data": {
      "text/plain": [
       "<matplotlib.axes._subplots.AxesSubplot at 0x2706e0185f8>"
      ]
     },
     "execution_count": 8,
     "metadata": {},
     "output_type": "execute_result"
    },
    {
     "data": {
      "image/png": "[encoded data removed]",
      "text/plain": [
       "<Figure size 792x288 with 1 Axes>"
      ]
     },
     "metadata": {},
     "output_type": "display_data"
    }
   ],
   "source": [
    "df2['energy(kWh/hh)'].plot(linewidth=0.5)"
   ]
  },
  {
   "cell_type": "code",
   "execution_count": 9,
   "metadata": {
    "colab": {
     "base_uri": "https://localhost:8080/",
     "height": 309
    },
    "colab_type": "code",
    "executionInfo": {
     "elapsed": 1090,
     "status": "ok",
     "timestamp": 1562699485580,
     "user": {
      "displayName": "Dayana Hernandez",
      "photoUrl": "",
      "userId": "08700700604867881888"
     },
     "user_tz": 240
    },
    "id": "phFTUybxbLQv",
    "outputId": "fc3f9f96-a4b8-4dd6-913c-1aca3758f0a7"
   },
   "outputs": [
    {
     "data": {
      "text/plain": [
       "<matplotlib.axes._subplots.AxesSubplot at 0x2706e2280b8>"
      ]
     },
     "execution_count": 9,
     "metadata": {},
     "output_type": "execute_result"
    },
    {
     "data": {
      "image/png": "[encoded data removed]",
      "text/plain": [
       "<Figure size 792x288 with 1 Axes>"
      ]
     },
     "metadata": {},
     "output_type": "display_data"
    }
   ],
   "source": [
    "df2['temperature'].plot(linewidth=0.5)"
   ]
  },
  {
   "cell_type": "code",
   "execution_count": 10,
   "metadata": {
    "colab": {
     "base_uri": "https://localhost:8080/",
     "height": 536
    },
    "colab_type": "code",
    "executionInfo": {
     "elapsed": 2701,
     "status": "ok",
     "timestamp": 1562699522839,
     "user": {
      "displayName": "Dayana Hernandez",
      "photoUrl": "",
      "userId": "08700700604867881888"
     },
     "user_tz": 240
    },
    "id": "vN9zge-mbLQy",
    "outputId": "086a4cdd-e055-4163-c525-bf83d5267d8a"
   },
   "outputs": [
    {
     "data": {
      "image/png": "[encoded data removed]",
      "text/plain": [
       "<Figure size 792x648 with 4 Axes>"
      ]
     },
     "metadata": {},
     "output_type": "display_data"
    }
   ],
   "source": [
    "#Relación entre las distintas variables del dataset\n",
    "cols_plot = ['energy(kWh/hh)', 'temperature', 'windSpeed', 'humidity']\n",
    "axes = df2[cols_plot].plot(marker='.', alpha=0.5, linestyle='None', figsize=(11, 9), subplots=True)\n",
    "for ax in axes:\n",
    "    ax.set_ylabel('Dataset')"
   ]
  },
  {
   "cell_type": "code",
   "execution_count": 39,
   "metadata": {
    "colab": {
     "base_uri": "https://localhost:8080/",
     "height": 318
    },
    "colab_type": "code",
    "executionInfo": {
     "elapsed": 1120,
     "status": "ok",
     "timestamp": 1562699541833,
     "user": {
      "displayName": "Dayana Hernandez",
      "photoUrl": "",
      "userId": "08700700604867881888"
     },
     "user_tz": 240
    },
    "id": "GSA43X7xbLQ1",
    "outputId": "3320927c-d326-4e64-e902-7b5044f36454"
   },
   "outputs": [
    {
     "data": {
      "text/plain": [
       "Text(0, 0.5, 'Daily Consumption (kWh/hh)')"
      ]
     },
     "execution_count": 39,
     "metadata": {
      "tags": []
     },
     "output_type": "execute_result"
    },
    {
     "data": {
      "image/png": "[encoded data removed]",
      "text/plain": [
       "<Figure size 792x288 with 1 Axes>"
      ]
     },
     "metadata": {
      "tags": []
     },
     "output_type": "display_data"
    }
   ],
   "source": [
    "#Comportamiento del consumo energético de una casa durante una semana\n",
    "ax = df2.loc['2013-03-04':'2013-03-10', 'energy(kWh/hh)'].plot(marker='o', linestyle='-')\n",
    "ax.set_ylabel('Daily Consumption (kWh/hh)')"
   ]
  },
  {
   "cell_type": "code",
   "execution_count": 40,
   "metadata": {
    "colab": {
     "base_uri": "https://localhost:8080/",
     "height": 312
    },
    "colab_type": "code",
    "executionInfo": {
     "elapsed": 1049,
     "status": "ok",
     "timestamp": 1562699545354,
     "user": {
      "displayName": "Dayana Hernandez",
      "photoUrl": "",
      "userId": "08700700604867881888"
     },
     "user_tz": 240
    },
    "id": "i2mYq6u9bLQ5",
    "outputId": "f1cc8e02-159c-4cdc-ee4c-7615efb8544c"
   },
   "outputs": [
    {
     "data": {
      "text/plain": [
       "Text(0, 0.5, 'Daily Consumption (kWh/hh)')"
      ]
     },
     "execution_count": 40,
     "metadata": {
      "tags": []
     },
     "output_type": "execute_result"
    },
    {
     "data": {
      "image/png": "[encoded data removed]",
      "text/plain": [
       "<Figure size 792x288 with 1 Axes>"
      ]
     },
     "metadata": {
      "tags": []
     },
     "output_type": "display_data"
    }
   ],
   "source": [
    "#Comportamiento del consumo energético de la casa seleccionada durante un lunes\n",
    "ax = df2.loc['2013-03-04', 'energy(kWh/hh)'].plot(marker='o', linestyle='-')\n",
    "ax.set_ylabel('Daily Consumption (kWh/hh)')"
   ]
  },
  {
   "cell_type": "code",
   "execution_count": 42,
   "metadata": {
    "colab": {
     "base_uri": "https://localhost:8080/",
     "height": 312
    },
    "colab_type": "code",
    "executionInfo": {
     "elapsed": 1019,
     "status": "ok",
     "timestamp": 1562699590936,
     "user": {
      "displayName": "Dayana Hernandez",
      "photoUrl": "",
      "userId": "08700700604867881888"
     },
     "user_tz": 240
    },
    "id": "vCFrzDNrbLQ9",
    "outputId": "f5d4b26c-b696-43d6-854b-500e93252442"
   },
   "outputs": [
    {
     "data": {
      "text/plain": [
       "Text(0, 0.5, 'Daily Consumption (kWh/hh)')"
      ]
     },
     "execution_count": 42,
     "metadata": {
      "tags": []
     },
     "output_type": "execute_result"
    },
    {
     "data": {
      "image/png": "[encoded data removed]",
      "text/plain": [
       "<Figure size 792x288 with 1 Axes>"
      ]
     },
     "metadata": {
      "tags": []
     },
     "output_type": "display_data"
    }
   ],
   "source": [
    "#Comportamiento del consumo energético de la casa seleccionada durante el proximo lunes\n",
    "ax = df2.loc['2013-03-11', 'energy(kWh/hh)'].plot(marker='o', linestyle='-')\n",
    "ax.set_ylabel('Daily Consumption (kWh/hh)')"
   ]
  },
  {
   "cell_type": "code",
   "execution_count": 11,
   "metadata": {
    "colab": {},
    "colab_type": "code",
    "id": "EBPkn4kkbLRg"
   },
   "outputs": [],
   "source": [
    "df3=df2.copy()"
   ]
  },
  {
   "cell_type": "code",
   "execution_count": 12,
   "metadata": {
    "colab": {
     "base_uri": "https://localhost:8080/",
     "height": 228
    },
    "colab_type": "code",
    "executionInfo": {
     "elapsed": 565,
     "status": "ok",
     "timestamp": 1562699602273,
     "user": {
      "displayName": "Dayana Hernandez",
      "photoUrl": "",
      "userId": "08700700604867881888"
     },
     "user_tz": 240
    },
    "id": "rS_M7ZCbbLRi",
    "outputId": "c8356abf-22a7-4b45-a13f-b24e31645cbf"
   },
   "outputs": [
    {
     "data": {
      "text/html": [
       "<div>\n",
       "<style scoped>\n",
       "    .dataframe tbody tr th:only-of-type {\n",
       "        vertical-align: middle;\n",
       "    }\n",
       "\n",
       "    .dataframe tbody tr th {\n",
       "        vertical-align: top;\n",
       "    }\n",
       "\n",
       "    .dataframe thead th {\n",
       "        text-align: right;\n",
       "    }\n",
       "</style>\n",
       "<table border=\"1\" class=\"dataframe\">\n",
       "  <thead>\n",
       "    <tr style=\"text-align: right;\">\n",
       "      <th></th>\n",
       "      <th>energy(kWh/hh)</th>\n",
       "      <th>temperature</th>\n",
       "      <th>windSpeed</th>\n",
       "      <th>humidity</th>\n",
       "    </tr>\n",
       "    <tr>\n",
       "      <th>tstp</th>\n",
       "      <th></th>\n",
       "      <th></th>\n",
       "      <th></th>\n",
       "      <th></th>\n",
       "    </tr>\n",
       "  </thead>\n",
       "  <tbody>\n",
       "    <tr>\n",
       "      <th>2012-10-12 01:00:00</th>\n",
       "      <td>0.0</td>\n",
       "      <td>13.09</td>\n",
       "      <td>6.77</td>\n",
       "      <td>0.89</td>\n",
       "    </tr>\n",
       "    <tr>\n",
       "      <th>2012-10-12 02:00:00</th>\n",
       "      <td>0.0</td>\n",
       "      <td>12.54</td>\n",
       "      <td>6.46</td>\n",
       "      <td>0.86</td>\n",
       "    </tr>\n",
       "    <tr>\n",
       "      <th>2012-10-12 03:00:00</th>\n",
       "      <td>0.0</td>\n",
       "      <td>11.94</td>\n",
       "      <td>6.37</td>\n",
       "      <td>0.84</td>\n",
       "    </tr>\n",
       "    <tr>\n",
       "      <th>2012-10-12 04:00:00</th>\n",
       "      <td>0.0</td>\n",
       "      <td>11.47</td>\n",
       "      <td>6.63</td>\n",
       "      <td>0.86</td>\n",
       "    </tr>\n",
       "    <tr>\n",
       "      <th>2012-10-12 05:00:00</th>\n",
       "      <td>0.0</td>\n",
       "      <td>10.87</td>\n",
       "      <td>6.55</td>\n",
       "      <td>0.86</td>\n",
       "    </tr>\n",
       "  </tbody>\n",
       "</table>\n",
       "</div>"
      ],
      "text/plain": [
       "                     energy(kWh/hh)  temperature  windSpeed  humidity\n",
       "tstp                                                                 \n",
       "2012-10-12 01:00:00             0.0        13.09       6.77      0.89\n",
       "2012-10-12 02:00:00             0.0        12.54       6.46      0.86\n",
       "2012-10-12 03:00:00             0.0        11.94       6.37      0.84\n",
       "2012-10-12 04:00:00             0.0        11.47       6.63      0.86\n",
       "2012-10-12 05:00:00             0.0        10.87       6.55      0.86"
      ]
     },
     "execution_count": 12,
     "metadata": {},
     "output_type": "execute_result"
    }
   ],
   "source": [
    "df3.head()"
   ]
  },
  {
   "cell_type": "code",
   "execution_count": 13,
   "metadata": {
    "colab": {},
    "colab_type": "code",
    "id": "YG56rl9EbLRm"
   },
   "outputs": [],
   "source": [
    "# Add columns with year, month, and weekday name\n",
    "\n",
    "df3['Year'] = df3.index.year\n",
    "df3['Month'] = df3.index.month\n",
    "df3['Weekday Name'] = df3.index.weekday_name"
   ]
  },
  {
   "cell_type": "code",
   "execution_count": 14,
   "metadata": {
    "colab": {
     "base_uri": "https://localhost:8080/",
     "height": 228
    },
    "colab_type": "code",
    "executionInfo": {
     "elapsed": 599,
     "status": "ok",
     "timestamp": 1562699608113,
     "user": {
      "displayName": "Dayana Hernandez",
      "photoUrl": "",
      "userId": "08700700604867881888"
     },
     "user_tz": 240
    },
    "id": "klxGGhombLRo",
    "outputId": "ab53abcd-c4a3-4f71-9fd0-a5d0f49cfc52"
   },
   "outputs": [
    {
     "data": {
      "text/html": [
       "<div>\n",
       "<style scoped>\n",
       "    .dataframe tbody tr th:only-of-type {\n",
       "        vertical-align: middle;\n",
       "    }\n",
       "\n",
       "    .dataframe tbody tr th {\n",
       "        vertical-align: top;\n",
       "    }\n",
       "\n",
       "    .dataframe thead th {\n",
       "        text-align: right;\n",
       "    }\n",
       "</style>\n",
       "<table border=\"1\" class=\"dataframe\">\n",
       "  <thead>\n",
       "    <tr style=\"text-align: right;\">\n",
       "      <th></th>\n",
       "      <th>energy(kWh/hh)</th>\n",
       "      <th>temperature</th>\n",
       "      <th>windSpeed</th>\n",
       "      <th>humidity</th>\n",
       "      <th>Year</th>\n",
       "      <th>Month</th>\n",
       "      <th>Weekday Name</th>\n",
       "    </tr>\n",
       "    <tr>\n",
       "      <th>tstp</th>\n",
       "      <th></th>\n",
       "      <th></th>\n",
       "      <th></th>\n",
       "      <th></th>\n",
       "      <th></th>\n",
       "      <th></th>\n",
       "      <th></th>\n",
       "    </tr>\n",
       "  </thead>\n",
       "  <tbody>\n",
       "    <tr>\n",
       "      <th>2012-10-12 01:00:00</th>\n",
       "      <td>0.0</td>\n",
       "      <td>13.09</td>\n",
       "      <td>6.77</td>\n",
       "      <td>0.89</td>\n",
       "      <td>2012</td>\n",
       "      <td>10</td>\n",
       "      <td>Friday</td>\n",
       "    </tr>\n",
       "    <tr>\n",
       "      <th>2012-10-12 02:00:00</th>\n",
       "      <td>0.0</td>\n",
       "      <td>12.54</td>\n",
       "      <td>6.46</td>\n",
       "      <td>0.86</td>\n",
       "      <td>2012</td>\n",
       "      <td>10</td>\n",
       "      <td>Friday</td>\n",
       "    </tr>\n",
       "    <tr>\n",
       "      <th>2012-10-12 03:00:00</th>\n",
       "      <td>0.0</td>\n",
       "      <td>11.94</td>\n",
       "      <td>6.37</td>\n",
       "      <td>0.84</td>\n",
       "      <td>2012</td>\n",
       "      <td>10</td>\n",
       "      <td>Friday</td>\n",
       "    </tr>\n",
       "    <tr>\n",
       "      <th>2012-10-12 04:00:00</th>\n",
       "      <td>0.0</td>\n",
       "      <td>11.47</td>\n",
       "      <td>6.63</td>\n",
       "      <td>0.86</td>\n",
       "      <td>2012</td>\n",
       "      <td>10</td>\n",
       "      <td>Friday</td>\n",
       "    </tr>\n",
       "    <tr>\n",
       "      <th>2012-10-12 05:00:00</th>\n",
       "      <td>0.0</td>\n",
       "      <td>10.87</td>\n",
       "      <td>6.55</td>\n",
       "      <td>0.86</td>\n",
       "      <td>2012</td>\n",
       "      <td>10</td>\n",
       "      <td>Friday</td>\n",
       "    </tr>\n",
       "  </tbody>\n",
       "</table>\n",
       "</div>"
      ],
      "text/plain": [
       "                     energy(kWh/hh)  temperature  windSpeed  humidity  Year  \\\n",
       "tstp                                                                          \n",
       "2012-10-12 01:00:00             0.0        13.09       6.77      0.89  2012   \n",
       "2012-10-12 02:00:00             0.0        12.54       6.46      0.86  2012   \n",
       "2012-10-12 03:00:00             0.0        11.94       6.37      0.84  2012   \n",
       "2012-10-12 04:00:00             0.0        11.47       6.63      0.86  2012   \n",
       "2012-10-12 05:00:00             0.0        10.87       6.55      0.86  2012   \n",
       "\n",
       "                     Month Weekday Name  \n",
       "tstp                                     \n",
       "2012-10-12 01:00:00     10       Friday  \n",
       "2012-10-12 02:00:00     10       Friday  \n",
       "2012-10-12 03:00:00     10       Friday  \n",
       "2012-10-12 04:00:00     10       Friday  \n",
       "2012-10-12 05:00:00     10       Friday  "
      ]
     },
     "execution_count": 14,
     "metadata": {},
     "output_type": "execute_result"
    }
   ],
   "source": [
    "df3.head()"
   ]
  },
  {
   "cell_type": "code",
   "execution_count": 48,
   "metadata": {
    "colab": {
     "base_uri": "https://localhost:8080/",
     "height": 627
    },
    "colab_type": "code",
    "executionInfo": {
     "elapsed": 2158,
     "status": "ok",
     "timestamp": 1562699639876,
     "user": {
      "displayName": "Dayana Hernandez",
      "photoUrl": "",
      "userId": "08700700604867881888"
     },
     "user_tz": 240
    },
    "id": "qBkun7oPbLRr",
    "outputId": "8e0de948-bf94-46fd-a527-f7ea377cdb51"
   },
   "outputs": [
    {
     "data": {
      "image/png": "[encoded data removed]",
      "text/plain": [
       "<Figure size 792x720 with 4 Axes>"
      ]
     },
     "metadata": {
      "tags": []
     },
     "output_type": "display_data"
    }
   ],
   "source": [
    "#Comportamiento de las variables del dataset dado los meses\n",
    "fig, axes = plt.subplots(4, 1, figsize=(11, 10), sharex=True)\n",
    "for name, ax in zip(['energy(kWh/hh)', 'temperature', 'windSpeed', 'humidity'], axes):\n",
    "    sns.boxplot(data=df3, x='Month', y=name, ax=ax)\n",
    "    ax.set_ylabel('Dataset')\n",
    "    ax.set_title(name)\n",
    "# Remove the automatic x-axis label from all but the bottom subplot\n",
    "    if ax != axes[-1]:\n",
    "     ax.set_xlabel('')"
   ]
  },
  {
   "cell_type": "code",
   "execution_count": 20,
   "metadata": {},
   "outputs": [
    {
     "data": {
      "image/png": "[encoded data removed]",
      "text/plain": [
       "<Figure size 792x720 with 2 Axes>"
      ]
     },
     "metadata": {},
     "output_type": "display_data"
    }
   ],
   "source": [
    "#Comportamiento de las variables del dataset dado los dias de la semana\n",
    "fig, axes = plt.subplots(2, 1, figsize=(11, 10), sharex=True)\n",
    "for name, ax in zip(['energy(kWh/hh)', 'temperature'], axes):\n",
    "    sns.boxplot(data=df3, x='Weekday Name', y=name, ax=ax)\n",
    "    ax.set_ylabel('Dataset')\n",
    "    ax.set_title(name)\n",
    "# Remove the automatic x-axis label from all but the bottom subplot\n",
    "    if ax != axes[-1]:\n",
    "     ax.set_xlabel('')"
   ]
  },
  {
   "cell_type": "code",
   "execution_count": 0,
   "metadata": {
    "colab": {},
    "colab_type": "code",
    "id": "rzD5y0LtbLSw"
   },
   "outputs": [],
   "source": [
    "#LSTM Multivariable Consumo Energético de una casa dado los datos de clima"
   ]
  },
  {
   "cell_type": "code",
   "execution_count": 0,
   "metadata": {
    "colab": {},
    "colab_type": "code",
    "id": "J3AuGz61K3dA"
   },
   "outputs": [],
   "source": [
    "df2 = pd.read_csv('gdrive/My Drive/Colab Notebooks/Proyecto/halfhourly_dataset/casa2.csv', parse_dates=['tstp'], index_col=\"tstp\")"
   ]
  },
  {
   "cell_type": "code",
   "execution_count": 57,
   "metadata": {
    "colab": {
     "base_uri": "https://localhost:8080/",
     "height": 228
    },
    "colab_type": "code",
    "executionInfo": {
     "elapsed": 603,
     "status": "ok",
     "timestamp": 1562700065723,
     "user": {
      "displayName": "Dayana Hernandez",
      "photoUrl": "",
      "userId": "08700700604867881888"
     },
     "user_tz": 240
    },
    "id": "c0D84vSvbLTV",
    "outputId": "dcae7d3d-e8e4-4f51-c807-0c7e5d86b5e2"
   },
   "outputs": [
    {
     "data": {
      "text/html": [
       "<div>\n",
       "<style scoped>\n",
       "    .dataframe tbody tr th:only-of-type {\n",
       "        vertical-align: middle;\n",
       "    }\n",
       "\n",
       "    .dataframe tbody tr th {\n",
       "        vertical-align: top;\n",
       "    }\n",
       "\n",
       "    .dataframe thead th {\n",
       "        text-align: right;\n",
       "    }\n",
       "</style>\n",
       "<table border=\"1\" class=\"dataframe\">\n",
       "  <thead>\n",
       "    <tr style=\"text-align: right;\">\n",
       "      <th></th>\n",
       "      <th>energy(kWh/hh)</th>\n",
       "      <th>temperature</th>\n",
       "      <th>windSpeed</th>\n",
       "      <th>humidity</th>\n",
       "    </tr>\n",
       "    <tr>\n",
       "      <th>tstp</th>\n",
       "      <th></th>\n",
       "      <th></th>\n",
       "      <th></th>\n",
       "      <th></th>\n",
       "    </tr>\n",
       "  </thead>\n",
       "  <tbody>\n",
       "    <tr>\n",
       "      <th>2012-10-13 00:00:00</th>\n",
       "      <td>0.263</td>\n",
       "      <td>8.78</td>\n",
       "      <td>2.28</td>\n",
       "      <td>0.84</td>\n",
       "    </tr>\n",
       "    <tr>\n",
       "      <th>2012-10-13 01:00:00</th>\n",
       "      <td>0.275</td>\n",
       "      <td>8.27</td>\n",
       "      <td>1.81</td>\n",
       "      <td>0.87</td>\n",
       "    </tr>\n",
       "    <tr>\n",
       "      <th>2012-10-13 02:00:00</th>\n",
       "      <td>0.211</td>\n",
       "      <td>7.87</td>\n",
       "      <td>1.95</td>\n",
       "      <td>0.89</td>\n",
       "    </tr>\n",
       "    <tr>\n",
       "      <th>2012-10-13 03:00:00</th>\n",
       "      <td>0.161</td>\n",
       "      <td>7.89</td>\n",
       "      <td>1.83</td>\n",
       "      <td>0.93</td>\n",
       "    </tr>\n",
       "    <tr>\n",
       "      <th>2012-10-13 04:00:00</th>\n",
       "      <td>0.167</td>\n",
       "      <td>7.74</td>\n",
       "      <td>1.38</td>\n",
       "      <td>0.90</td>\n",
       "    </tr>\n",
       "  </tbody>\n",
       "</table>\n",
       "</div>"
      ],
      "text/plain": [
       "                     energy(kWh/hh)  temperature  windSpeed  humidity\n",
       "tstp                                                                 \n",
       "2012-10-13 00:00:00           0.263         8.78       2.28      0.84\n",
       "2012-10-13 01:00:00           0.275         8.27       1.81      0.87\n",
       "2012-10-13 02:00:00           0.211         7.87       1.95      0.89\n",
       "2012-10-13 03:00:00           0.161         7.89       1.83      0.93\n",
       "2012-10-13 04:00:00           0.167         7.74       1.38      0.90"
      ]
     },
     "execution_count": 57,
     "metadata": {
      "tags": []
     },
     "output_type": "execute_result"
    }
   ],
   "source": [
    "df2[22:27]"
   ]
  },
  {
   "cell_type": "code",
   "execution_count": 58,
   "metadata": {
    "colab": {
     "base_uri": "https://localhost:8080/",
     "height": 35
    },
    "colab_type": "code",
    "executionInfo": {
     "elapsed": 608,
     "status": "ok",
     "timestamp": 1562700396164,
     "user": {
      "displayName": "Dayana Hernandez",
      "photoUrl": "",
      "userId": "08700700604867881888"
     },
     "user_tz": 240
    },
    "id": "mrSmJKd2KwU4",
    "outputId": "19f6db98-8779-44d1-db43-6850c40a4cd3"
   },
   "outputs": [
    {
     "data": {
      "text/plain": [
       "24136"
      ]
     },
     "execution_count": 58,
     "metadata": {
      "tags": []
     },
     "output_type": "execute_result"
    }
   ],
   "source": [
    "len(df2)"
   ]
  },
  {
   "cell_type": "code",
   "execution_count": 0,
   "metadata": {
    "colab": {},
    "colab_type": "code",
    "id": "TPVkk7NFKyLM"
   },
   "outputs": [],
   "source": []
  },
  {
   "cell_type": "code",
   "execution_count": 59,
   "metadata": {
    "colab": {
     "base_uri": "https://localhost:8080/",
     "height": 35
    },
    "colab_type": "code",
    "executionInfo": {
     "elapsed": 579,
     "status": "ok",
     "timestamp": 1562700399403,
     "user": {
      "displayName": "Dayana Hernandez",
      "photoUrl": "",
      "userId": "08700700604867881888"
     },
     "user_tz": 240
    },
    "id": "SqNfWpYrmDKA",
    "outputId": "8ac063cd-bf91-48cf-8213-76e32a654264"
   },
   "outputs": [
    {
     "name": "stdout",
     "output_type": "stream",
     "text": [
      "16895 7241\n"
     ]
    }
   ],
   "source": [
    "''' Dividiendo el dataset en training y test '''\n",
    "dataset = df2.values\n",
    "train_size = int(len(dataset) * 0.70)\n",
    "test_size = len(dataset) - train_size\n",
    "train, test = dataset[0:train_size,:], dataset[train_size:len(dataset),:]\n",
    "print(len(train), len(test))"
   ]
  },
  {
   "cell_type": "code",
   "execution_count": 60,
   "metadata": {
    "colab": {
     "base_uri": "https://localhost:8080/",
     "height": 35
    },
    "colab_type": "code",
    "executionInfo": {
     "elapsed": 586,
     "status": "ok",
     "timestamp": 1562700406938,
     "user": {
      "displayName": "Dayana Hernandez",
      "photoUrl": "",
      "userId": "08700700604867881888"
     },
     "user_tz": 240
    },
    "id": "4_CbJ-yUbLTX",
    "outputId": "b3e77e6d-b706-4345-861e-75f773ceb9a1"
   },
   "outputs": [
    {
     "data": {
      "text/plain": [
       "array([ 0.  , 13.09,  6.77,  0.89])"
      ]
     },
     "execution_count": 60,
     "metadata": {
      "tags": []
     },
     "output_type": "execute_result"
    }
   ],
   "source": [
    "train[0]"
   ]
  },
  {
   "cell_type": "code",
   "execution_count": 0,
   "metadata": {
    "colab": {},
    "colab_type": "code",
    "id": "8flHMmwmbLTZ"
   },
   "outputs": [],
   "source": [
    "'''Funcion para crear tramas de tiempo con look backs '''\n",
    "def create_dataset(dataset, look_back=1):\n",
    "    dataX, dataY = [], []\n",
    "    for i in range(len(dataset) - look_back):\n",
    "        a = dataset[i:(i + look_back), :]\n",
    "        dataX.append(a)\n",
    "        dataY.append(dataset[i + look_back, 0])\n",
    "    print(len(dataY))\n",
    "    return np.array(dataX), np.array(dataY)"
   ]
  },
  {
   "cell_type": "code",
   "execution_count": 0,
   "metadata": {
    "colab": {
     "base_uri": "https://localhost:8080/",
     "height": 50
    },
    "colab_type": "code",
    "executionInfo": {
     "elapsed": 639,
     "status": "ok",
     "timestamp": 1562187190897,
     "user": {
      "displayName": "Dayana Hernandez",
      "photoUrl": "",
      "userId": "08700700604867881888"
     },
     "user_tz": 240
    },
    "id": "hZqiKnn1bLTb",
    "outputId": "af5894da-df45-4d18-8cc2-7651c3de7a3a"
   },
   "outputs": [
    {
     "name": "stdout",
     "output_type": "stream",
     "text": [
      "16875\n",
      "7221\n"
     ]
    }
   ],
   "source": [
    "''' Creando tramas de tiempo con look backs '''\n",
    "look_back = 20\n",
    "trainX, trainY = create_dataset(train, look_back)\n",
    "testX, testY = create_dataset(test, look_back)"
   ]
  },
  {
   "cell_type": "code",
   "execution_count": 0,
   "metadata": {
    "colab": {
     "base_uri": "https://localhost:8080/",
     "height": 34
    },
    "colab_type": "code",
    "executionInfo": {
     "elapsed": 629,
     "status": "ok",
     "timestamp": 1562187193429,
     "user": {
      "displayName": "Dayana Hernandez",
      "photoUrl": "",
      "userId": "08700700604867881888"
     },
     "user_tz": 240
    },
    "id": "AatttFLDbLTe",
    "outputId": "a150da90-07ca-488e-ab10-f8f4b41fede2"
   },
   "outputs": [
    {
     "data": {
      "text/plain": [
       "(16875, 20, 4)"
      ]
     },
     "execution_count": 175,
     "metadata": {
      "tags": []
     },
     "output_type": "execute_result"
    }
   ],
   "source": [
    "trainX.shape"
   ]
  },
  {
   "cell_type": "code",
   "execution_count": 0,
   "metadata": {
    "colab": {},
    "colab_type": "code",
    "id": "T5J0H60WbLTf"
   },
   "outputs": [],
   "source": [
    "''' Re-shaping de los datos según los requisitos del modelo '''\n",
    "trainX = np.reshape(trainX, (trainX.shape[0], 20, trainX.shape[2]))\n",
    "testX = np.reshape(testX, (testX.shape[0], 20, testX.shape[2]))"
   ]
  },
  {
   "cell_type": "code",
   "execution_count": 0,
   "metadata": {
    "colab": {},
    "colab_type": "code",
    "id": "gMRz7luDbLTh"
   },
   "outputs": [],
   "source": [
    "''' Ajuste de los datos en el modelo LSTM Deep Learning '''\n",
    "model = Sequential()\n",
    "model.add(LSTM(100, input_shape=(trainX.shape[1], trainX.shape[2])))\n",
    "#model.add(Dropout(0.1))\n",
    "model.add(Dense(1))\n",
    "model.compile(loss='mse', optimizer='adam')\n",
    "history = model.fit(trainX, trainY, epochs=200, batch_size=100, validation_data=(testX, testY), verbose=0, shuffle=True)"
   ]
  },
  {
   "cell_type": "code",
   "execution_count": 0,
   "metadata": {
    "colab": {
     "base_uri": "https://localhost:8080/",
     "height": 202
    },
    "colab_type": "code",
    "executionInfo": {
     "elapsed": 616,
     "status": "ok",
     "timestamp": 1562188541451,
     "user": {
      "displayName": "Dayana Hernandez",
      "photoUrl": "",
      "userId": "08700700604867881888"
     },
     "user_tz": 240
    },
    "id": "F6qSEAPeuWs_",
    "outputId": "c895f82b-ca30-432c-d558-057792970003"
   },
   "outputs": [
    {
     "name": "stdout",
     "output_type": "stream",
     "text": [
      "_________________________________________________________________\n",
      "Layer (type)                 Output Shape              Param #   \n",
      "=================================================================\n",
      "lstm_18 (LSTM)               (None, 100)               42000     \n",
      "_________________________________________________________________\n",
      "dense_17 (Dense)             (None, 1)                 101       \n",
      "=================================================================\n",
      "Total params: 42,101\n",
      "Trainable params: 42,101\n",
      "Non-trainable params: 0\n",
      "_________________________________________________________________\n"
     ]
    }
   ],
   "source": [
    "model.summary()"
   ]
  },
  {
   "cell_type": "code",
   "execution_count": 0,
   "metadata": {
    "colab": {
     "base_uri": "https://localhost:8080/",
     "height": 101
    },
    "colab_type": "code",
    "executionInfo": {
     "elapsed": 4032,
     "status": "ok",
     "timestamp": 1562188547035,
     "user": {
      "displayName": "Dayana Hernandez",
      "photoUrl": "",
      "userId": "08700700604867881888"
     },
     "user_tz": 240
    },
    "id": "Bz3f3MaDbLTl",
    "outputId": "2d90f5c9-f237-4d52-e9b0-cd5e4f2a5341"
   },
   "outputs": [
    {
     "data": {
      "text/plain": [
       "array([[0.11342725],\n",
       "       [0.09374037],\n",
       "       [0.09891025],\n",
       "       [0.09841844],\n",
       "       [0.09084938]], dtype=float32)"
      ]
     },
     "execution_count": 179,
     "metadata": {
      "tags": []
     },
     "output_type": "execute_result"
    }
   ],
   "source": [
    "''' Haciendo la predicción de los datos '''\n",
    "yhat = model.predict(testX)\n",
    "yhat[0:5]"
   ]
  },
  {
   "cell_type": "code",
   "execution_count": 0,
   "metadata": {
    "colab": {},
    "colab_type": "code",
    "id": "6ljq5wyUbLTm"
   },
   "outputs": [],
   "source": [
    "yhat1= yhat[:,0]"
   ]
  },
  {
   "cell_type": "code",
   "execution_count": 0,
   "metadata": {
    "colab": {},
    "colab_type": "code",
    "id": "LEkQSfSLbLTr"
   },
   "outputs": [],
   "source": []
  },
  {
   "cell_type": "code",
   "execution_count": 0,
   "metadata": {
    "colab": {
     "base_uri": "https://localhost:8080/",
     "height": 486
    },
    "colab_type": "code",
    "executionInfo": {
     "elapsed": 1162,
     "status": "ok",
     "timestamp": 1562188554324,
     "user": {
      "displayName": "Dayana Hernandez",
      "photoUrl": "",
      "userId": "08700700604867881888"
     },
     "user_tz": 240
    },
    "id": "rZfXsCxIbLTv",
    "outputId": "84e6d762-e51c-438a-fcfa-e68b5fc6ca94"
   },
   "outputs": [
    {
     "data": {
      "image/png": "[encoded data removed]",
      "text/plain": [
       "<Figure size 1440x576 with 1 Axes>"
      ]
     },
     "metadata": {
      "tags": []
     },
     "output_type": "display_data"
    }
   ],
   "source": [
    "''' Plotting las primeras 100 entradas de la predicción '''\n",
    "pyplot.figure(figsize=(20,8))\n",
    "pyplot.plot(yhat1[0:100], label='predict')\n",
    "pyplot.plot(testY[0:100], label='true')\n",
    "pyplot.legend()\n",
    "pyplot.show()"
   ]
  },
  {
   "cell_type": "code",
   "execution_count": 0,
   "metadata": {
    "colab": {
     "base_uri": "https://localhost:8080/",
     "height": 34
    },
    "colab_type": "code",
    "executionInfo": {
     "elapsed": 594,
     "status": "ok",
     "timestamp": 1562188560858,
     "user": {
      "displayName": "Dayana Hernandez",
      "photoUrl": "",
      "userId": "08700700604867881888"
     },
     "user_tz": 240
    },
    "id": "FQeVjUMLbLTz",
    "outputId": "c429c8b7-ad74-4403-ae29-136563958020"
   },
   "outputs": [
    {
     "name": "stdout",
     "output_type": "stream",
     "text": [
      "Mean squared error: 0.007\n"
     ]
    }
   ],
   "source": [
    "print(\"Mean squared error: %.3f\" % mean_squared_error(testY, yhat1))"
   ]
  },
  {
   "cell_type": "code",
   "execution_count": 0,
   "metadata": {
    "colab": {
     "base_uri": "https://localhost:8080/",
     "height": 34
    },
    "colab_type": "code",
    "executionInfo": {
     "elapsed": 620,
     "status": "ok",
     "timestamp": 1562188565650,
     "user": {
      "displayName": "Dayana Hernandez",
      "photoUrl": "",
      "userId": "08700700604867881888"
     },
     "user_tz": 240
    },
    "id": "kddYGPq5bLT1",
    "outputId": "a01bbcda-60cf-44c7-d0a5-8dea5ef91579"
   },
   "outputs": [
    {
     "name": "stdout",
     "output_type": "stream",
     "text": [
      "Root mean squared error: 0.082\n"
     ]
    }
   ],
   "source": [
    "print(\"Root mean squared error: %.3f\" % sqrt(mean_squared_error(testY, yhat1)))"
   ]
  },
  {
   "cell_type": "code",
   "execution_count": 0,
   "metadata": {
    "colab": {
     "base_uri": "https://localhost:8080/",
     "height": 34
    },
    "colab_type": "code",
    "executionInfo": {
     "elapsed": 599,
     "status": "ok",
     "timestamp": 1562188569465,
     "user": {
      "displayName": "Dayana Hernandez",
      "photoUrl": "",
      "userId": "08700700604867881888"
     },
     "user_tz": 240
    },
    "id": "ICSL8vObbLT4",
    "outputId": "d498441b-ba9a-4259-fd44-87c95810ddb5"
   },
   "outputs": [
    {
     "name": "stdout",
     "output_type": "stream",
     "text": [
      "Variance : 0.890\n"
     ]
    }
   ],
   "source": [
    "#El coeficiente de determinación es una medida estadística de qué tan bien las predicciones de regresión se aproximan a los puntos de datos reales\n",
    "from sklearn.metrics import mean_squared_error, r2_score\n",
    "print('Variance : %.3f' % r2_score(testY, yhat))"
   ]
  },
  {
   "cell_type": "code",
   "execution_count": 0,
   "metadata": {
    "colab": {},
    "colab_type": "code",
    "id": "CnhohqKNbLT5"
   },
   "outputs": [],
   "source": [
    "#Probando con solo datos de clima y haciendo una predicción de consumo energético"
   ]
  },
  {
   "cell_type": "code",
   "execution_count": 0,
   "metadata": {
    "colab": {
     "base_uri": "https://localhost:8080/",
     "height": 225
    },
    "colab_type": "code",
    "executionInfo": {
     "elapsed": 603,
     "status": "ok",
     "timestamp": 1562347548329,
     "user": {
      "displayName": "Dayana Hernandez",
      "photoUrl": "",
      "userId": "08700700604867881888"
     },
     "user_tz": 240
    },
    "id": "RHm_0F16bLT7",
    "outputId": "beba9d2f-9ec5-4cab-b082-d4f5fe85c4a5"
   },
   "outputs": [
    {
     "data": {
      "text/html": [
       "<div>\n",
       "<style scoped>\n",
       "    .dataframe tbody tr th:only-of-type {\n",
       "        vertical-align: middle;\n",
       "    }\n",
       "\n",
       "    .dataframe tbody tr th {\n",
       "        vertical-align: top;\n",
       "    }\n",
       "\n",
       "    .dataframe thead th {\n",
       "        text-align: right;\n",
       "    }\n",
       "</style>\n",
       "<table border=\"1\" class=\"dataframe\">\n",
       "  <thead>\n",
       "    <tr style=\"text-align: right;\">\n",
       "      <th></th>\n",
       "      <th>energy(kWh/hh)</th>\n",
       "      <th>temperature</th>\n",
       "      <th>windSpeed</th>\n",
       "      <th>humidity</th>\n",
       "    </tr>\n",
       "    <tr>\n",
       "      <th>tstp</th>\n",
       "      <th></th>\n",
       "      <th></th>\n",
       "      <th></th>\n",
       "      <th></th>\n",
       "    </tr>\n",
       "  </thead>\n",
       "  <tbody>\n",
       "    <tr>\n",
       "      <th>2012-10-12 01:00:00</th>\n",
       "      <td>0.0</td>\n",
       "      <td>13.09</td>\n",
       "      <td>6.77</td>\n",
       "      <td>0.89</td>\n",
       "    </tr>\n",
       "    <tr>\n",
       "      <th>2012-10-12 02:00:00</th>\n",
       "      <td>0.0</td>\n",
       "      <td>12.54</td>\n",
       "      <td>6.46</td>\n",
       "      <td>0.86</td>\n",
       "    </tr>\n",
       "    <tr>\n",
       "      <th>2012-10-12 03:00:00</th>\n",
       "      <td>0.0</td>\n",
       "      <td>11.94</td>\n",
       "      <td>6.37</td>\n",
       "      <td>0.84</td>\n",
       "    </tr>\n",
       "    <tr>\n",
       "      <th>2012-10-12 04:00:00</th>\n",
       "      <td>0.0</td>\n",
       "      <td>11.47</td>\n",
       "      <td>6.63</td>\n",
       "      <td>0.86</td>\n",
       "    </tr>\n",
       "    <tr>\n",
       "      <th>2012-10-12 05:00:00</th>\n",
       "      <td>0.0</td>\n",
       "      <td>10.87</td>\n",
       "      <td>6.55</td>\n",
       "      <td>0.86</td>\n",
       "    </tr>\n",
       "  </tbody>\n",
       "</table>\n",
       "</div>"
      ],
      "text/plain": [
       "                     energy(kWh/hh)  temperature  windSpeed  humidity\n",
       "tstp                                                                 \n",
       "2012-10-12 01:00:00             0.0        13.09       6.77      0.89\n",
       "2012-10-12 02:00:00             0.0        12.54       6.46      0.86\n",
       "2012-10-12 03:00:00             0.0        11.94       6.37      0.84\n",
       "2012-10-12 04:00:00             0.0        11.47       6.63      0.86\n",
       "2012-10-12 05:00:00             0.0        10.87       6.55      0.86"
      ]
     },
     "execution_count": 52,
     "metadata": {
      "tags": []
     },
     "output_type": "execute_result"
    }
   ],
   "source": [
    "df2.head()"
   ]
  },
  {
   "cell_type": "code",
   "execution_count": 0,
   "metadata": {
    "colab": {
     "base_uri": "https://localhost:8080/",
     "height": 101
    },
    "colab_type": "code",
    "executionInfo": {
     "elapsed": 577,
     "status": "ok",
     "timestamp": 1562347553242,
     "user": {
      "displayName": "Dayana Hernandez",
      "photoUrl": "",
      "userId": "08700700604867881888"
     },
     "user_tz": 240
    },
    "id": "FLCOe1LUEhjZ",
    "outputId": "5db41cac-ce19-4ff7-b1d9-1919f2dee77d"
   },
   "outputs": [
    {
     "data": {
      "text/plain": [
       "energy(kWh/hh)    float64\n",
       "temperature       float64\n",
       "windSpeed         float64\n",
       "humidity          float64\n",
       "dtype: object"
      ]
     },
     "execution_count": 53,
     "metadata": {
      "tags": []
     },
     "output_type": "execute_result"
    }
   ],
   "source": [
    "df2.dtypes"
   ]
  },
  {
   "cell_type": "code",
   "execution_count": 0,
   "metadata": {
    "colab": {},
    "colab_type": "code",
    "id": "oq_K7bJFEjGa"
   },
   "outputs": [],
   "source": []
  },
  {
   "cell_type": "code",
   "execution_count": 0,
   "metadata": {
    "colab": {
     "base_uri": "https://localhost:8080/",
     "height": 34
    },
    "colab_type": "code",
    "executionInfo": {
     "elapsed": 585,
     "status": "ok",
     "timestamp": 1562347555923,
     "user": {
      "displayName": "Dayana Hernandez",
      "photoUrl": "",
      "userId": "08700700604867881888"
     },
     "user_tz": 240
    },
    "id": "F-kxvLICbLT8",
    "outputId": "3f0bf13c-3e04-4c30-dd7b-62b94f217d12"
   },
   "outputs": [
    {
     "name": "stdout",
     "output_type": "stream",
     "text": [
      "16895 7241\n"
     ]
    }
   ],
   "source": [
    "''' Dividiendo el dataset en training y test '''\n",
    "dataset = df2.values\n",
    "train_size = int(len(dataset) * 0.70)\n",
    "test_size = len(dataset) - train_size\n",
    "train, test = dataset[0:train_size,:], dataset[train_size:len(dataset),:]\n",
    "print(len(train), len(test))"
   ]
  },
  {
   "cell_type": "code",
   "execution_count": 0,
   "metadata": {
    "colab": {},
    "colab_type": "code",
    "id": "SCfZGYylbLT9"
   },
   "outputs": [],
   "source": [
    "'''Helper to create time frames with look backs '''\n",
    "def create_dataset(dataset, look_back=1):\n",
    "    dataX, dataY = [], []\n",
    "    for i in range(len(dataset) - look_back):\n",
    "        a = dataset[i:(i + look_back), 1:4]\n",
    "        dataX.append(a)\n",
    "        dataY.append(dataset[i + look_back, 0])\n",
    "    print(len(dataY))\n",
    "    return np.array(dataX), np.array(dataY)"
   ]
  },
  {
   "cell_type": "code",
   "execution_count": 0,
   "metadata": {
    "colab": {
     "base_uri": "https://localhost:8080/",
     "height": 50
    },
    "colab_type": "code",
    "executionInfo": {
     "elapsed": 580,
     "status": "ok",
     "timestamp": 1562347603898,
     "user": {
      "displayName": "Dayana Hernandez",
      "photoUrl": "",
      "userId": "08700700604867881888"
     },
     "user_tz": 240
    },
    "id": "F4oa1002bLT-",
    "outputId": "3e5fb00b-c546-4c60-86d1-e3f930262bf7"
   },
   "outputs": [
    {
     "name": "stdout",
     "output_type": "stream",
     "text": [
      "16875\n",
      "7221\n"
     ]
    }
   ],
   "source": [
    "''' Creando tramas de tiempo con look backs '''\n",
    "look_back = 20\n",
    "trainX, trainY = create_dataset(train, look_back)\n",
    "testX, testY = create_dataset(test, look_back)"
   ]
  },
  {
   "cell_type": "code",
   "execution_count": 0,
   "metadata": {
    "colab": {
     "base_uri": "https://localhost:8080/",
     "height": 353
    },
    "colab_type": "code",
    "executionInfo": {
     "elapsed": 476,
     "status": "ok",
     "timestamp": 1562347621613,
     "user": {
      "displayName": "Dayana Hernandez",
      "photoUrl": "",
      "userId": "08700700604867881888"
     },
     "user_tz": 240
    },
    "id": "H2aNCak6LJOH",
    "outputId": "df89d9ed-e997-4977-ba60-6b541c422f49"
   },
   "outputs": [
    {
     "data": {
      "text/plain": [
       "array([[13.09,  6.77,  0.89],\n",
       "       [12.54,  6.46,  0.86],\n",
       "       [11.94,  6.37,  0.84],\n",
       "       [11.47,  6.63,  0.86],\n",
       "       [10.87,  6.55,  0.86],\n",
       "       [10.37,  6.11,  0.89],\n",
       "       [10.39,  6.71,  0.87],\n",
       "       [10.29,  6.59,  0.83],\n",
       "       [10.94,  6.75,  0.76],\n",
       "       [12.32,  7.15,  0.64],\n",
       "       [13.86,  6.92,  0.53],\n",
       "       [13.99,  7.  ,  0.53],\n",
       "       [13.52,  6.63,  0.55],\n",
       "       [12.69,  6.5 ,  0.62],\n",
       "       [12.46,  5.98,  0.55],\n",
       "       [11.31,  4.71,  0.62],\n",
       "       [10.39,  3.7 ,  0.7 ],\n",
       "       [ 9.38,  3.2 ,  0.75],\n",
       "       [ 8.93,  3.12,  0.78],\n",
       "       [ 8.93,  2.15,  0.78]])"
      ]
     },
     "execution_count": 57,
     "metadata": {
      "tags": []
     },
     "output_type": "execute_result"
    }
   ],
   "source": [
    "trainX[0]"
   ]
  },
  {
   "cell_type": "code",
   "execution_count": 0,
   "metadata": {
    "colab": {
     "base_uri": "https://localhost:8080/",
     "height": 34
    },
    "colab_type": "code",
    "executionInfo": {
     "elapsed": 690,
     "status": "ok",
     "timestamp": 1562347645552,
     "user": {
      "displayName": "Dayana Hernandez",
      "photoUrl": "",
      "userId": "08700700604867881888"
     },
     "user_tz": 240
    },
    "id": "aU0IZu-FLMqb",
    "outputId": "f74db548-ac15-4d79-9d91-70346dfc3337"
   },
   "outputs": [
    {
     "data": {
      "text/plain": [
       "0.27"
      ]
     },
     "execution_count": 58,
     "metadata": {
      "tags": []
     },
     "output_type": "execute_result"
    }
   ],
   "source": [
    "trainY[0]"
   ]
  },
  {
   "cell_type": "code",
   "execution_count": 0,
   "metadata": {
    "colab": {},
    "colab_type": "code",
    "id": "cZM-teI1LSdj"
   },
   "outputs": [],
   "source": []
  },
  {
   "cell_type": "code",
   "execution_count": 0,
   "metadata": {
    "colab": {},
    "colab_type": "code",
    "id": "u7uyybFCbLUB"
   },
   "outputs": [],
   "source": [
    "''' Re-shaping de los datos según los requisitos del modelo '''\n",
    "trainX = np.reshape(trainX, (trainX.shape[0], 20, trainX.shape[2]))\n",
    "testX = np.reshape(testX, (testX.shape[0], 20, testX.shape[2]))"
   ]
  },
  {
   "cell_type": "code",
   "execution_count": 0,
   "metadata": {
    "colab": {
     "base_uri": "https://localhost:8080/",
     "height": 558
    },
    "colab_type": "code",
    "executionInfo": {
     "elapsed": 1092562,
     "status": "ok",
     "timestamp": 1562348758819,
     "user": {
      "displayName": "Dayana Hernandez",
      "photoUrl": "",
      "userId": "08700700604867881888"
     },
     "user_tz": 240
    },
    "id": "G6bUA_7cbLUC",
    "outputId": "049a849e-7441-431c-d650-02ec279195ed"
   },
   "outputs": [
    {
     "name": "stderr",
     "output_type": "stream",
     "text": [
      "WARNING: Logging before flag parsing goes to stderr.\n",
      "W0705 17:27:46.903688 140107020904320 deprecation_wrapper.py:119] From /usr/local/lib/python3.6/dist-packages/keras/backend/tensorflow_backend.py:74: The name tf.get_default_graph is deprecated. Please use tf.compat.v1.get_default_graph instead.\n",
      "\n",
      "W0705 17:27:46.982258 140107020904320 deprecation_wrapper.py:119] From /usr/local/lib/python3.6/dist-packages/keras/backend/tensorflow_backend.py:517: The name tf.placeholder is deprecated. Please use tf.compat.v1.placeholder instead.\n",
      "\n",
      "W0705 17:27:47.003438 140107020904320 deprecation_wrapper.py:119] From /usr/local/lib/python3.6/dist-packages/keras/backend/tensorflow_backend.py:4138: The name tf.random_uniform is deprecated. Please use tf.random.uniform instead.\n",
      "\n",
      "W0705 17:27:47.290713 140107020904320 deprecation_wrapper.py:119] From /usr/local/lib/python3.6/dist-packages/keras/optimizers.py:790: The name tf.train.Optimizer is deprecated. Please use tf.compat.v1.train.Optimizer instead.\n",
      "\n",
      "W0705 17:27:47.515556 140107020904320 deprecation.py:323] From /usr/local/lib/python3.6/dist-packages/tensorflow/python/ops/math_grad.py:1250: add_dispatch_support.<locals>.wrapper (from tensorflow.python.ops.array_ops) is deprecated and will be removed in a future version.\n",
      "Instructions for updating:\n",
      "Use tf.where in 2.0, which has the same broadcast rule as np.where\n",
      "W0705 17:27:47.917670 140107020904320 deprecation_wrapper.py:119] From /usr/local/lib/python3.6/dist-packages/keras/backend/tensorflow_backend.py:986: The name tf.assign_add is deprecated. Please use tf.compat.v1.assign_add instead.\n",
      "\n",
      "W0705 17:27:47.988924 140107020904320 deprecation_wrapper.py:119] From /usr/local/lib/python3.6/dist-packages/keras/backend/tensorflow_backend.py:973: The name tf.assign is deprecated. Please use tf.compat.v1.assign instead.\n",
      "\n"
     ]
    },
    {
     "data": {
      "image/png": "[encoded data removed]",
      "text/plain": [
       "<Figure size 432x288 with 1 Axes>"
      ]
     },
     "metadata": {
      "tags": []
     },
     "output_type": "display_data"
    }
   ],
   "source": [
    "''' Ajuste de los datos en el modelo LSTM Deep Learning '''\n",
    "model = Sequential()\n",
    "model.add(LSTM(100, input_shape=(trainX.shape[1], trainX.shape[2])))\n",
    "#model.add(Dropout(0.1))\n",
    "model.add(Dense(1))\n",
    "model.compile(loss='mse', optimizer='adam')\n",
    "history = model.fit(trainX, trainY, epochs=200, batch_size=100, validation_data=(testX, testY), verbose=0, shuffle=True)\n",
    "# plot history\n",
    "pyplot.plot(history.history['loss'], label='train')\n",
    "pyplot.plot(history.history['val_loss'], label='test')\n",
    "pyplot.legend()\n",
    "pyplot.show()"
   ]
  },
  {
   "cell_type": "code",
   "execution_count": 0,
   "metadata": {
    "colab": {
     "base_uri": "https://localhost:8080/",
     "height": 202
    },
    "colab_type": "code",
    "executionInfo": {
     "elapsed": 599,
     "status": "ok",
     "timestamp": 1562349463855,
     "user": {
      "displayName": "Dayana Hernandez",
      "photoUrl": "",
      "userId": "08700700604867881888"
     },
     "user_tz": 240
    },
    "id": "N2_5DQAUbLUD",
    "outputId": "0282055b-ea9f-4a73-9b34-3fa3327766c5"
   },
   "outputs": [
    {
     "name": "stdout",
     "output_type": "stream",
     "text": [
      "_________________________________________________________________\n",
      "Layer (type)                 Output Shape              Param #   \n",
      "=================================================================\n",
      "lstm_1 (LSTM)                (None, 100)               41600     \n",
      "_________________________________________________________________\n",
      "dense_1 (Dense)              (None, 1)                 101       \n",
      "=================================================================\n",
      "Total params: 41,701\n",
      "Trainable params: 41,701\n",
      "Non-trainable params: 0\n",
      "_________________________________________________________________\n"
     ]
    }
   ],
   "source": [
    "model.summary()"
   ]
  },
  {
   "cell_type": "code",
   "execution_count": 0,
   "metadata": {
    "colab": {
     "base_uri": "https://localhost:8080/",
     "height": 101
    },
    "colab_type": "code",
    "executionInfo": {
     "elapsed": 3680,
     "status": "ok",
     "timestamp": 1562349470414,
     "user": {
      "displayName": "Dayana Hernandez",
      "photoUrl": "",
      "userId": "08700700604867881888"
     },
     "user_tz": 240
    },
    "id": "I--kJ8JEbLUG",
    "outputId": "3464ead9-3321-4a0d-efde-e506a0ae0d54"
   },
   "outputs": [
    {
     "data": {
      "text/plain": [
       "array([[0.0115067 ],\n",
       "       [0.0664138 ],\n",
       "       [0.01942026],\n",
       "       [0.04446337],\n",
       "       [0.08021378]], dtype=float32)"
      ]
     },
     "execution_count": 62,
     "metadata": {
      "tags": []
     },
     "output_type": "execute_result"
    }
   ],
   "source": [
    "''' Haciendo la predicción de los datos '''\n",
    "yhat = model.predict(testX)\n",
    "yhat[0:5]"
   ]
  },
  {
   "cell_type": "code",
   "execution_count": 0,
   "metadata": {
    "colab": {
     "base_uri": "https://localhost:8080/",
     "height": 486
    },
    "colab_type": "code",
    "executionInfo": {
     "elapsed": 1187,
     "status": "ok",
     "timestamp": 1562349486542,
     "user": {
      "displayName": "Dayana Hernandez",
      "photoUrl": "",
      "userId": "08700700604867881888"
     },
     "user_tz": 240
    },
    "id": "W73t5NvpbLUL",
    "outputId": "0f882bc4-8cdf-42ae-9cc7-9106c3b515a3"
   },
   "outputs": [
    {
     "data": {
      "image/png": "[encoded data removed]",
      "text/plain": [
       "<Figure size 1440x576 with 1 Axes>"
      ]
     },
     "metadata": {
      "tags": []
     },
     "output_type": "display_data"
    }
   ],
   "source": [
    "''' Plotting las primeras 100 entradas de la predicción '''\n",
    "pyplot.figure(figsize=(20,8))\n",
    "pyplot.plot(yhat[0:100], label='predict')\n",
    "pyplot.plot(testY[0:100], label='true')\n",
    "pyplot.legend()\n",
    "pyplot.show()"
   ]
  },
  {
   "cell_type": "code",
   "execution_count": 0,
   "metadata": {
    "colab": {
     "base_uri": "https://localhost:8080/",
     "height": 34
    },
    "colab_type": "code",
    "executionInfo": {
     "elapsed": 635,
     "status": "ok",
     "timestamp": 1562349503393,
     "user": {
      "displayName": "Dayana Hernandez",
      "photoUrl": "",
      "userId": "08700700604867881888"
     },
     "user_tz": 240
    },
    "id": "6TDtaittbLUM",
    "outputId": "827884a2-2e65-4d86-d33f-ee8f50206cd8"
   },
   "outputs": [
    {
     "name": "stdout",
     "output_type": "stream",
     "text": [
      "Mean squared error: 0.012\n"
     ]
    }
   ],
   "source": [
    "print(\"Mean squared error: %.3f\" % mean_squared_error(testY, yhat))"
   ]
  },
  {
   "cell_type": "code",
   "execution_count": 0,
   "metadata": {
    "colab": {
     "base_uri": "https://localhost:8080/",
     "height": 34
    },
    "colab_type": "code",
    "executionInfo": {
     "elapsed": 616,
     "status": "ok",
     "timestamp": 1562349510759,
     "user": {
      "displayName": "Dayana Hernandez",
      "photoUrl": "",
      "userId": "08700700604867881888"
     },
     "user_tz": 240
    },
    "id": "idmb9_y9bLUN",
    "outputId": "caea2757-cd6b-4c21-d674-726966093b2f"
   },
   "outputs": [
    {
     "name": "stdout",
     "output_type": "stream",
     "text": [
      "Root mean squared error: 0.109\n"
     ]
    }
   ],
   "source": [
    "print(\"Root mean squared error: %.3f\" % sqrt(mean_squared_error(testY, yhat)))"
   ]
  },
  {
   "cell_type": "code",
   "execution_count": 0,
   "metadata": {
    "colab": {
     "base_uri": "https://localhost:8080/",
     "height": 34
    },
    "colab_type": "code",
    "executionInfo": {
     "elapsed": 579,
     "status": "ok",
     "timestamp": 1562349518777,
     "user": {
      "displayName": "Dayana Hernandez",
      "photoUrl": "",
      "userId": "08700700604867881888"
     },
     "user_tz": 240
    },
    "id": "CFXRx5vTbLUO",
    "outputId": "0a46d4f9-fa07-4947-9551-13b9c1c3a535"
   },
   "outputs": [
    {
     "name": "stdout",
     "output_type": "stream",
     "text": [
      "Variance : 0.808\n"
     ]
    }
   ],
   "source": [
    "from sklearn.metrics import mean_squared_error, r2_score\n",
    "print('Variance : %.3f' % r2_score(testY, yhat))"
   ]
  },
  {
   "cell_type": "code",
   "execution_count": 0,
   "metadata": {
    "colab": {},
    "colab_type": "code",
    "id": "7Jp5iliTbLUP"
   },
   "outputs": [],
   "source": []
  },
  {
   "cell_type": "code",
   "execution_count": 0,
   "metadata": {
    "colab": {},
    "colab_type": "code",
    "id": "6gsFVWoIbLUQ"
   },
   "outputs": [],
   "source": []
  },
  {
   "cell_type": "code",
   "execution_count": 0,
   "metadata": {
    "colab": {},
    "colab_type": "code",
    "id": "Z8r1_MZWbLUR"
   },
   "outputs": [],
   "source": []
  },
  {
   "cell_type": "code",
   "execution_count": 0,
   "metadata": {
    "colab": {},
    "colab_type": "code",
    "id": "vIUt-hKVbLUS"
   },
   "outputs": [],
   "source": []
  },
  {
   "cell_type": "code",
   "execution_count": 0,
   "metadata": {
    "colab": {},
    "colab_type": "code",
    "id": "Tu1Cv_ODbLUT"
   },
   "outputs": [],
   "source": []
  },
  {
   "cell_type": "code",
   "execution_count": 0,
   "metadata": {
    "colab": {},
    "colab_type": "code",
    "id": "R4jgwbuCbLUU"
   },
   "outputs": [],
   "source": []
  },
  {
   "cell_type": "code",
   "execution_count": 0,
   "metadata": {
    "colab": {},
    "colab_type": "code",
    "id": "fYbiTi-NbLUV"
   },
   "outputs": [],
   "source": []
  },
  {
   "cell_type": "code",
   "execution_count": 0,
   "metadata": {
    "colab": {},
    "colab_type": "code",
    "id": "BHrnoFD1bLUW"
   },
   "outputs": [],
   "source": []
  },
  {
   "cell_type": "code",
   "execution_count": 0,
   "metadata": {
    "colab": {},
    "colab_type": "code",
    "id": "DC1fg3AvbLUZ"
   },
   "outputs": [],
   "source": []
  },
  {
   "cell_type": "code",
   "execution_count": 0,
   "metadata": {
    "colab": {},
    "colab_type": "code",
    "id": "KuNaKOjvbLUd"
   },
   "outputs": [],
   "source": []
  },
  {
   "cell_type": "code",
   "execution_count": 0,
   "metadata": {
    "colab": {},
    "colab_type": "code",
    "id": "Xjn2hmHIbLUf"
   },
   "outputs": [],
   "source": []
  },
  {
   "cell_type": "code",
   "execution_count": 0,
   "metadata": {
    "colab": {},
    "colab_type": "code",
    "id": "4iUaAiiQbLUg"
   },
   "outputs": [],
   "source": []
  },
  {
   "cell_type": "code",
   "execution_count": 0,
   "metadata": {
    "colab": {},
    "colab_type": "code",
    "id": "rqz8pDaTbLUh"
   },
   "outputs": [],
   "source": []
  },
  {
   "cell_type": "code",
   "execution_count": 0,
   "metadata": {
    "colab": {},
    "colab_type": "code",
    "id": "lVEEkW9rbLUi"
   },
   "outputs": [],
   "source": []
  }
 ],
 "metadata": {
  "accelerator": "TPU",
  "colab": {
   "collapsed_sections": [],
   "name": "Prueba 1 LSTM Predicción Consumo por hora+Datos de Clima.ipynb",
   "provenance": [],
   "version": "0.3.2"
  },
  "kernelspec": {
   "display_name": "Python 3",
   "language": "python",
   "name": "python3"
  },
  "language_info": {
   "codemirror_mode": {
    "name": "ipython",
    "version": 3
   },
   "file_extension": ".py",
   "mimetype": "text/x-python",
   "name": "python",
   "nbconvert_exporter": "python",
   "pygments_lexer": "ipython3",
   "version": "3.7.1"
  }
 },
 "nbformat": 4,
 "nbformat_minor": 1
}
