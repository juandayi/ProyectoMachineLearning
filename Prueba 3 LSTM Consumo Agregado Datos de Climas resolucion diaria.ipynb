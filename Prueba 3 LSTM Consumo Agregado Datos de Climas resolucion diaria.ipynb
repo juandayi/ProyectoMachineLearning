{
 "cells": [
  {
   "cell_type": "code",
   "execution_count": 2,
   "metadata": {
    "colab": {},
    "colab_type": "code",
    "id": "EbD1oJHKh-1a"
   },
   "outputs": [],
   "source": [
    "#Librerias usadas en la prueba\n",
    "import pandas as pd\n",
    "import numpy as np\n",
    "from pandas import datetime\n",
    "from matplotlib import pyplot as plt\n",
    "from matplotlib import pyplot\n",
    "import os\n",
    "\n",
    "from sklearn.cluster import KMeans\n",
    "from sklearn.preprocessing import LabelEncoder\n",
    "from sklearn.preprocessing import MinMaxScaler\n",
    "\n",
    "from math import sqrt\n",
    "import math\n",
    "\n",
    "from sklearn.preprocessing import MinMaxScaler\n",
    "from sklearn.metrics import mean_squared_error\n",
    "\n",
    "from keras.models import Sequential\n",
    "from keras.layers import Dense, Dropout\n",
    "from keras.layers import LSTM\n",
    "from keras.layers import Flatten\n",
    "from keras.layers import RepeatVector\n",
    "from keras.layers import TimeDistributed"
   ]
  },
  {
   "cell_type": "code",
   "execution_count": 3,
   "metadata": {
    "colab": {},
    "colab_type": "code",
    "id": "M8NphvXbrnXa"
   },
   "outputs": [],
   "source": [
    "#from google.colab import drive\n",
    "#drive.mount('/content/gdrive')"
   ]
  },
  {
   "cell_type": "code",
   "execution_count": 4,
   "metadata": {
    "colab": {},
    "colab_type": "code",
    "id": "mr2pyg9_h-1f"
   },
   "outputs": [],
   "source": [
    "block0= pd.read_csv('block_0.csv')\n",
    "#block0= pd.read_csv('gdrive/My Drive/Colab Notebooks/Proyecto/daily_dataset/block_0.csv')\n"
   ]
  },
  {
   "cell_type": "code",
   "execution_count": 5,
   "metadata": {
    "colab": {
     "base_uri": "https://localhost:8080/",
     "height": 198
    },
    "colab_type": "code",
    "executionInfo": {
     "elapsed": 3303,
     "status": "ok",
     "timestamp": 1562646624369,
     "user": {
      "displayName": "Dayana Hernandez",
      "photoUrl": "",
      "userId": "08700700604867881888"
     },
     "user_tz": 240
    },
    "id": "LIGlmRAzh-1k",
    "outputId": "f6fa61de-c0fb-40f9-d2ca-42cc0439acf1"
   },
   "outputs": [
    {
     "data": {
      "text/html": [
       "<div>\n",
       "<style scoped>\n",
       "    .dataframe tbody tr th:only-of-type {\n",
       "        vertical-align: middle;\n",
       "    }\n",
       "\n",
       "    .dataframe tbody tr th {\n",
       "        vertical-align: top;\n",
       "    }\n",
       "\n",
       "    .dataframe thead th {\n",
       "        text-align: right;\n",
       "    }\n",
       "</style>\n",
       "<table border=\"1\" class=\"dataframe\">\n",
       "  <thead>\n",
       "    <tr style=\"text-align: right;\">\n",
       "      <th></th>\n",
       "      <th>LCLid</th>\n",
       "      <th>day</th>\n",
       "      <th>energy_median</th>\n",
       "      <th>energy_mean</th>\n",
       "      <th>energy_max</th>\n",
       "      <th>energy_count</th>\n",
       "      <th>energy_std</th>\n",
       "      <th>energy_sum</th>\n",
       "      <th>energy_min</th>\n",
       "    </tr>\n",
       "  </thead>\n",
       "  <tbody>\n",
       "    <tr>\n",
       "      <th>0</th>\n",
       "      <td>MAC000002</td>\n",
       "      <td>2012-10-12</td>\n",
       "      <td>0.1385</td>\n",
       "      <td>0.154304</td>\n",
       "      <td>0.886</td>\n",
       "      <td>46</td>\n",
       "      <td>0.196034</td>\n",
       "      <td>7.098</td>\n",
       "      <td>0.000</td>\n",
       "    </tr>\n",
       "    <tr>\n",
       "      <th>1</th>\n",
       "      <td>MAC000002</td>\n",
       "      <td>2012-10-13</td>\n",
       "      <td>0.1800</td>\n",
       "      <td>0.230979</td>\n",
       "      <td>0.933</td>\n",
       "      <td>48</td>\n",
       "      <td>0.192329</td>\n",
       "      <td>11.087</td>\n",
       "      <td>0.076</td>\n",
       "    </tr>\n",
       "    <tr>\n",
       "      <th>2</th>\n",
       "      <td>MAC000002</td>\n",
       "      <td>2012-10-14</td>\n",
       "      <td>0.1580</td>\n",
       "      <td>0.275479</td>\n",
       "      <td>1.085</td>\n",
       "      <td>48</td>\n",
       "      <td>0.274647</td>\n",
       "      <td>13.223</td>\n",
       "      <td>0.070</td>\n",
       "    </tr>\n",
       "    <tr>\n",
       "      <th>3</th>\n",
       "      <td>MAC000002</td>\n",
       "      <td>2012-10-15</td>\n",
       "      <td>0.1310</td>\n",
       "      <td>0.213688</td>\n",
       "      <td>1.164</td>\n",
       "      <td>48</td>\n",
       "      <td>0.224483</td>\n",
       "      <td>10.257</td>\n",
       "      <td>0.070</td>\n",
       "    </tr>\n",
       "    <tr>\n",
       "      <th>4</th>\n",
       "      <td>MAC000002</td>\n",
       "      <td>2012-10-16</td>\n",
       "      <td>0.1450</td>\n",
       "      <td>0.203521</td>\n",
       "      <td>0.991</td>\n",
       "      <td>48</td>\n",
       "      <td>0.184115</td>\n",
       "      <td>9.769</td>\n",
       "      <td>0.087</td>\n",
       "    </tr>\n",
       "  </tbody>\n",
       "</table>\n",
       "</div>"
      ],
      "text/plain": [
       "       LCLid         day  energy_median  energy_mean  energy_max  \\\n",
       "0  MAC000002  2012-10-12         0.1385     0.154304       0.886   \n",
       "1  MAC000002  2012-10-13         0.1800     0.230979       0.933   \n",
       "2  MAC000002  2012-10-14         0.1580     0.275479       1.085   \n",
       "3  MAC000002  2012-10-15         0.1310     0.213688       1.164   \n",
       "4  MAC000002  2012-10-16         0.1450     0.203521       0.991   \n",
       "\n",
       "   energy_count  energy_std  energy_sum  energy_min  \n",
       "0            46    0.196034       7.098       0.000  \n",
       "1            48    0.192329      11.087       0.076  \n",
       "2            48    0.274647      13.223       0.070  \n",
       "3            48    0.224483      10.257       0.070  \n",
       "4            48    0.184115       9.769       0.087  "
      ]
     },
     "execution_count": 5,
     "metadata": {},
     "output_type": "execute_result"
    }
   ],
   "source": [
    "block0.head()"
   ]
  },
  {
   "cell_type": "code",
   "execution_count": null,
   "metadata": {
    "colab": {},
    "colab_type": "code",
    "id": "R0x4kYSHh-1p"
   },
   "outputs": [],
   "source": []
  },
  {
   "cell_type": "code",
   "execution_count": 6,
   "metadata": {
    "colab": {
     "base_uri": "https://localhost:8080/",
     "height": 34
    },
    "colab_type": "code",
    "executionInfo": {
     "elapsed": 6232,
     "status": "ok",
     "timestamp": 1562646627327,
     "user": {
      "displayName": "Dayana Hernandez",
      "photoUrl": "",
      "userId": "08700700604867881888"
     },
     "user_tz": 240
    },
    "id": "4eKMwizUh-1s",
    "outputId": "a4779540-7c9e-44d3-f1b4-814e1e020d9e"
   },
   "outputs": [
    {
     "data": {
      "text/plain": [
       "3536007"
      ]
     },
     "execution_count": 6,
     "metadata": {},
     "output_type": "execute_result"
    }
   ],
   "source": [
    "energy = pd.read_csv('energy.csv')\n",
    "#energy = pd.read_csv('gdrive/My Drive/Colab Notebooks/Proyecto/daily_dataset/energy.csv')\n",
    "len(energy)"
   ]
  },
  {
   "cell_type": "code",
   "execution_count": 7,
   "metadata": {
    "colab": {
     "base_uri": "https://localhost:8080/",
     "height": 198
    },
    "colab_type": "code",
    "executionInfo": {
     "elapsed": 6209,
     "status": "ok",
     "timestamp": 1562646627328,
     "user": {
      "displayName": "Dayana Hernandez",
      "photoUrl": "",
      "userId": "08700700604867881888"
     },
     "user_tz": 240
    },
    "id": "4Tb3gYWAh-1y",
    "outputId": "7b0a821f-678b-41a5-b1b1-2eb280068775"
   },
   "outputs": [
    {
     "data": {
      "text/html": [
       "<div>\n",
       "<style scoped>\n",
       "    .dataframe tbody tr th:only-of-type {\n",
       "        vertical-align: middle;\n",
       "    }\n",
       "\n",
       "    .dataframe tbody tr th {\n",
       "        vertical-align: top;\n",
       "    }\n",
       "\n",
       "    .dataframe thead th {\n",
       "        text-align: right;\n",
       "    }\n",
       "</style>\n",
       "<table border=\"1\" class=\"dataframe\">\n",
       "  <thead>\n",
       "    <tr style=\"text-align: right;\">\n",
       "      <th></th>\n",
       "      <th>Unnamed: 0</th>\n",
       "      <th>day</th>\n",
       "      <th>LCLid</th>\n",
       "      <th>energy_sum</th>\n",
       "    </tr>\n",
       "  </thead>\n",
       "  <tbody>\n",
       "    <tr>\n",
       "      <th>0</th>\n",
       "      <td>0</td>\n",
       "      <td>2012-10-12</td>\n",
       "      <td>MAC000002</td>\n",
       "      <td>7.098</td>\n",
       "    </tr>\n",
       "    <tr>\n",
       "      <th>1</th>\n",
       "      <td>1</td>\n",
       "      <td>2012-10-13</td>\n",
       "      <td>MAC000002</td>\n",
       "      <td>11.087</td>\n",
       "    </tr>\n",
       "    <tr>\n",
       "      <th>2</th>\n",
       "      <td>2</td>\n",
       "      <td>2012-10-14</td>\n",
       "      <td>MAC000002</td>\n",
       "      <td>13.223</td>\n",
       "    </tr>\n",
       "    <tr>\n",
       "      <th>3</th>\n",
       "      <td>3</td>\n",
       "      <td>2012-10-15</td>\n",
       "      <td>MAC000002</td>\n",
       "      <td>10.257</td>\n",
       "    </tr>\n",
       "    <tr>\n",
       "      <th>4</th>\n",
       "      <td>4</td>\n",
       "      <td>2012-10-16</td>\n",
       "      <td>MAC000002</td>\n",
       "      <td>9.769</td>\n",
       "    </tr>\n",
       "  </tbody>\n",
       "</table>\n",
       "</div>"
      ],
      "text/plain": [
       "   Unnamed: 0         day      LCLid  energy_sum\n",
       "0           0  2012-10-12  MAC000002       7.098\n",
       "1           1  2012-10-13  MAC000002      11.087\n",
       "2           2  2012-10-14  MAC000002      13.223\n",
       "3           3  2012-10-15  MAC000002      10.257\n",
       "4           4  2012-10-16  MAC000002       9.769"
      ]
     },
     "execution_count": 7,
     "metadata": {},
     "output_type": "execute_result"
    }
   ],
   "source": [
    "energy.head()"
   ]
  },
  {
   "cell_type": "code",
   "execution_count": 8,
   "metadata": {
    "colab": {},
    "colab_type": "code",
    "id": "MKxbzrCoh-12"
   },
   "outputs": [],
   "source": [
    "energy.drop(['Unnamed: 0'], axis=1, inplace=True)"
   ]
  },
  {
   "cell_type": "code",
   "execution_count": 9,
   "metadata": {
    "colab": {},
    "colab_type": "code",
    "id": "C7JuZnz0h-15"
   },
   "outputs": [],
   "source": [
    "energy['day']=pd.to_datetime(energy['day'])"
   ]
  },
  {
   "cell_type": "code",
   "execution_count": 10,
   "metadata": {
    "colab": {},
    "colab_type": "code",
    "id": "YlOGL_8hh-17"
   },
   "outputs": [],
   "source": [
    "energy.set_index('day', inplace=True)"
   ]
  },
  {
   "cell_type": "code",
   "execution_count": 11,
   "metadata": {
    "colab": {
     "base_uri": "https://localhost:8080/",
     "height": 228
    },
    "colab_type": "code",
    "executionInfo": {
     "elapsed": 6976,
     "status": "ok",
     "timestamp": 1562646628117,
     "user": {
      "displayName": "Dayana Hernandez",
      "photoUrl": "",
      "userId": "08700700604867881888"
     },
     "user_tz": 240
    },
    "id": "SGg8Mg_Dh-1-",
    "outputId": "6daaed9d-00e9-4737-a34d-0cd3c2273b8b"
   },
   "outputs": [
    {
     "data": {
      "text/html": [
       "<div>\n",
       "<style scoped>\n",
       "    .dataframe tbody tr th:only-of-type {\n",
       "        vertical-align: middle;\n",
       "    }\n",
       "\n",
       "    .dataframe tbody tr th {\n",
       "        vertical-align: top;\n",
       "    }\n",
       "\n",
       "    .dataframe thead th {\n",
       "        text-align: right;\n",
       "    }\n",
       "</style>\n",
       "<table border=\"1\" class=\"dataframe\">\n",
       "  <thead>\n",
       "    <tr style=\"text-align: right;\">\n",
       "      <th></th>\n",
       "      <th>LCLid</th>\n",
       "      <th>energy_sum</th>\n",
       "    </tr>\n",
       "    <tr>\n",
       "      <th>day</th>\n",
       "      <th></th>\n",
       "      <th></th>\n",
       "    </tr>\n",
       "  </thead>\n",
       "  <tbody>\n",
       "    <tr>\n",
       "      <th>2012-10-12</th>\n",
       "      <td>MAC000002</td>\n",
       "      <td>7.098</td>\n",
       "    </tr>\n",
       "    <tr>\n",
       "      <th>2012-10-13</th>\n",
       "      <td>MAC000002</td>\n",
       "      <td>11.087</td>\n",
       "    </tr>\n",
       "    <tr>\n",
       "      <th>2012-10-14</th>\n",
       "      <td>MAC000002</td>\n",
       "      <td>13.223</td>\n",
       "    </tr>\n",
       "    <tr>\n",
       "      <th>2012-10-15</th>\n",
       "      <td>MAC000002</td>\n",
       "      <td>10.257</td>\n",
       "    </tr>\n",
       "    <tr>\n",
       "      <th>2012-10-16</th>\n",
       "      <td>MAC000002</td>\n",
       "      <td>9.769</td>\n",
       "    </tr>\n",
       "  </tbody>\n",
       "</table>\n",
       "</div>"
      ],
      "text/plain": [
       "                LCLid  energy_sum\n",
       "day                              \n",
       "2012-10-12  MAC000002       7.098\n",
       "2012-10-13  MAC000002      11.087\n",
       "2012-10-14  MAC000002      13.223\n",
       "2012-10-15  MAC000002      10.257\n",
       "2012-10-16  MAC000002       9.769"
      ]
     },
     "execution_count": 11,
     "metadata": {},
     "output_type": "execute_result"
    }
   ],
   "source": [
    "energy.head()"
   ]
  },
  {
   "cell_type": "code",
   "execution_count": null,
   "metadata": {
    "colab": {},
    "colab_type": "code",
    "id": "x74HPIKPh-2E"
   },
   "outputs": [],
   "source": []
  },
  {
   "cell_type": "code",
   "execution_count": 12,
   "metadata": {
    "colab": {
     "base_uri": "https://localhost:8080/",
     "height": 52
    },
    "colab_type": "code",
    "executionInfo": {
     "elapsed": 37400,
     "status": "ok",
     "timestamp": 1562646658560,
     "user": {
      "displayName": "Dayana Hernandez",
      "photoUrl": "",
      "userId": "08700700604867881888"
     },
     "user_tz": 240
    },
    "id": "WS1gNBudh-2G",
    "outputId": "48152071-68d4-478a-cf80-916fde4c686f"
   },
   "outputs": [
    {
     "name": "stdout",
     "output_type": "stream",
     "text": [
      "Starting Point of Data at Day Level 2011-11-23 00:00:00\n",
      "Ending Point of Data at Day Level 2014-02-28 00:00:00\n"
     ]
    }
   ],
   "source": [
    "print(\"Starting Point of Data at Day Level\",min(energy.index))\n",
    "print(\"Ending Point of Data at Day Level\",max(energy.index))"
   ]
  },
  {
   "cell_type": "code",
   "execution_count": 14,
   "metadata": {
    "colab": {
     "base_uri": "https://localhost:8080/",
     "height": 1000
    },
    "colab_type": "code",
    "executionInfo": {
     "elapsed": 37386,
     "status": "ok",
     "timestamp": 1562646658562,
     "user": {
      "displayName": "Dayana Hernandez",
      "photoUrl": "",
      "userId": "08700700604867881888"
     },
     "user_tz": 240
    },
    "id": "fhstoGlWh-2K",
    "outputId": "0164e819-b52d-45a6-8c28-3c975ccf64c9"
   },
   "outputs": [],
   "source": [
    "a=energy.loc['2011-11-23']"
   ]
  },
  {
   "cell_type": "code",
   "execution_count": 15,
   "metadata": {},
   "outputs": [],
   "source": [
    "b=energy.loc['2014-02-28']"
   ]
  },
  {
   "cell_type": "code",
   "execution_count": 18,
   "metadata": {},
   "outputs": [],
   "source": [
    "c=pd.merge(a, b,  on='LCLid', how='inner')"
   ]
  },
  {
   "cell_type": "code",
   "execution_count": null,
   "metadata": {},
   "outputs": [],
   "source": []
  },
  {
   "cell_type": "code",
   "execution_count": 19,
   "metadata": {},
   "outputs": [
    {
     "data": {
      "text/html": [
       "<div>\n",
       "<style scoped>\n",
       "    .dataframe tbody tr th:only-of-type {\n",
       "        vertical-align: middle;\n",
       "    }\n",
       "\n",
       "    .dataframe tbody tr th {\n",
       "        vertical-align: top;\n",
       "    }\n",
       "\n",
       "    .dataframe thead th {\n",
       "        text-align: right;\n",
       "    }\n",
       "</style>\n",
       "<table border=\"1\" class=\"dataframe\">\n",
       "  <thead>\n",
       "    <tr style=\"text-align: right;\">\n",
       "      <th></th>\n",
       "      <th>LCLid</th>\n",
       "      <th>energy_sum_x</th>\n",
       "      <th>energy_sum_y</th>\n",
       "    </tr>\n",
       "  </thead>\n",
       "  <tbody>\n",
       "    <tr>\n",
       "      <th>0</th>\n",
       "      <td>MAC000155</td>\n",
       "      <td>9.281</td>\n",
       "      <td>0.218</td>\n",
       "    </tr>\n",
       "    <tr>\n",
       "      <th>1</th>\n",
       "      <td>MAC000150</td>\n",
       "      <td>9.254</td>\n",
       "      <td>0.113</td>\n",
       "    </tr>\n",
       "    <tr>\n",
       "      <th>2</th>\n",
       "      <td>MAC000152</td>\n",
       "      <td>5.969</td>\n",
       "      <td>0.123</td>\n",
       "    </tr>\n",
       "    <tr>\n",
       "      <th>3</th>\n",
       "      <td>MAC000153</td>\n",
       "      <td>21.702</td>\n",
       "      <td>2.249</td>\n",
       "    </tr>\n",
       "    <tr>\n",
       "      <th>4</th>\n",
       "      <td>MAC000145</td>\n",
       "      <td>8.952</td>\n",
       "      <td>0.167</td>\n",
       "    </tr>\n",
       "    <tr>\n",
       "      <th>5</th>\n",
       "      <td>MAC000148</td>\n",
       "      <td>1.283</td>\n",
       "      <td>0.141</td>\n",
       "    </tr>\n",
       "    <tr>\n",
       "      <th>6</th>\n",
       "      <td>MAC000149</td>\n",
       "      <td>2.287</td>\n",
       "      <td>0.000</td>\n",
       "    </tr>\n",
       "    <tr>\n",
       "      <th>7</th>\n",
       "      <td>MAC000156</td>\n",
       "      <td>6.523</td>\n",
       "      <td>0.161</td>\n",
       "    </tr>\n",
       "    <tr>\n",
       "      <th>8</th>\n",
       "      <td>MAC000147</td>\n",
       "      <td>3.036</td>\n",
       "      <td>0.048</td>\n",
       "    </tr>\n",
       "    <tr>\n",
       "      <th>9</th>\n",
       "      <td>MAC000151</td>\n",
       "      <td>3.273</td>\n",
       "      <td>0.026</td>\n",
       "    </tr>\n",
       "    <tr>\n",
       "      <th>10</th>\n",
       "      <td>MAC000157</td>\n",
       "      <td>7.408</td>\n",
       "      <td>0.213</td>\n",
       "    </tr>\n",
       "  </tbody>\n",
       "</table>\n",
       "</div>"
      ],
      "text/plain": [
       "        LCLid  energy_sum_x  energy_sum_y\n",
       "0   MAC000155         9.281         0.218\n",
       "1   MAC000150         9.254         0.113\n",
       "2   MAC000152         5.969         0.123\n",
       "3   MAC000153        21.702         2.249\n",
       "4   MAC000145         8.952         0.167\n",
       "5   MAC000148         1.283         0.141\n",
       "6   MAC000149         2.287         0.000\n",
       "7   MAC000156         6.523         0.161\n",
       "8   MAC000147         3.036         0.048\n",
       "9   MAC000151         3.273         0.026\n",
       "10  MAC000157         7.408         0.213"
      ]
     },
     "execution_count": 19,
     "metadata": {},
     "output_type": "execute_result"
    }
   ],
   "source": [
    "c"
   ]
  },
  {
   "cell_type": "code",
   "execution_count": null,
   "metadata": {},
   "outputs": [],
   "source": []
  },
  {
   "cell_type": "code",
   "execution_count": null,
   "metadata": {},
   "outputs": [],
   "source": [
    "#Se seleccionan las 11 casas que tienen registro del consumo desde el primer dia que presenta el dataset"
   ]
  },
  {
   "cell_type": "code",
   "execution_count": 20,
   "metadata": {
    "colab": {},
    "colab_type": "code",
    "id": "xfyHMOidh-2P"
   },
   "outputs": [],
   "source": [
    "casa1=energy[['energy_sum']][energy['LCLid']=='MAC000155']"
   ]
  },
  {
   "cell_type": "code",
   "execution_count": 21,
   "metadata": {},
   "outputs": [],
   "source": [
    "casa2=energy[['energy_sum']][energy['LCLid']=='MAC000150']"
   ]
  },
  {
   "cell_type": "code",
   "execution_count": 22,
   "metadata": {},
   "outputs": [],
   "source": [
    "casa3=energy[['energy_sum']][energy['LCLid']=='MAC000152']"
   ]
  },
  {
   "cell_type": "code",
   "execution_count": 23,
   "metadata": {},
   "outputs": [],
   "source": [
    "casa4=energy[['energy_sum']][energy['LCLid']=='MAC000145']"
   ]
  },
  {
   "cell_type": "code",
   "execution_count": 24,
   "metadata": {},
   "outputs": [],
   "source": [
    "casa5=energy[['energy_sum']][energy['LCLid']=='MAC000149']"
   ]
  },
  {
   "cell_type": "code",
   "execution_count": 25,
   "metadata": {},
   "outputs": [],
   "source": [
    "casa6=energy[['energy_sum']][energy['LCLid']=='MAC000156']"
   ]
  },
  {
   "cell_type": "code",
   "execution_count": 26,
   "metadata": {},
   "outputs": [],
   "source": [
    "casa7=energy[['energy_sum']][energy['LCLid']=='MAC000147']"
   ]
  },
  {
   "cell_type": "code",
   "execution_count": 27,
   "metadata": {},
   "outputs": [],
   "source": [
    "casa8=energy[['energy_sum']][energy['LCLid']=='MAC000151']"
   ]
  },
  {
   "cell_type": "code",
   "execution_count": 28,
   "metadata": {},
   "outputs": [],
   "source": [
    "casa9=energy[['energy_sum']][energy['LCLid']=='MAC000153']"
   ]
  },
  {
   "cell_type": "code",
   "execution_count": 29,
   "metadata": {},
   "outputs": [],
   "source": [
    "casa10=energy[['energy_sum']][energy['LCLid']=='MAC000148']"
   ]
  },
  {
   "cell_type": "code",
   "execution_count": 30,
   "metadata": {},
   "outputs": [],
   "source": [
    "casa11=energy[['energy_sum']][energy['LCLid']=='MAC000157']"
   ]
  },
  {
   "cell_type": "code",
   "execution_count": 31,
   "metadata": {
    "colab": {
     "base_uri": "https://localhost:8080/",
     "height": 228
    },
    "colab_type": "code",
    "executionInfo": {
     "elapsed": 37691,
     "status": "ok",
     "timestamp": 1562646658885,
     "user": {
      "displayName": "Dayana Hernandez",
      "photoUrl": "",
      "userId": "08700700604867881888"
     },
     "user_tz": 240
    },
    "id": "qRaWye8fh-2S",
    "outputId": "0cae311f-17bc-44b9-d21e-8ebd35f845a6"
   },
   "outputs": [
    {
     "data": {
      "text/html": [
       "<div>\n",
       "<style scoped>\n",
       "    .dataframe tbody tr th:only-of-type {\n",
       "        vertical-align: middle;\n",
       "    }\n",
       "\n",
       "    .dataframe tbody tr th {\n",
       "        vertical-align: top;\n",
       "    }\n",
       "\n",
       "    .dataframe thead th {\n",
       "        text-align: right;\n",
       "    }\n",
       "</style>\n",
       "<table border=\"1\" class=\"dataframe\">\n",
       "  <thead>\n",
       "    <tr style=\"text-align: right;\">\n",
       "      <th></th>\n",
       "      <th>energy_sum</th>\n",
       "    </tr>\n",
       "    <tr>\n",
       "      <th>day</th>\n",
       "      <th></th>\n",
       "    </tr>\n",
       "  </thead>\n",
       "  <tbody>\n",
       "    <tr>\n",
       "      <th>2011-11-23</th>\n",
       "      <td>9.281</td>\n",
       "    </tr>\n",
       "    <tr>\n",
       "      <th>2011-11-24</th>\n",
       "      <td>14.481</td>\n",
       "    </tr>\n",
       "    <tr>\n",
       "      <th>2011-11-25</th>\n",
       "      <td>13.689</td>\n",
       "    </tr>\n",
       "    <tr>\n",
       "      <th>2011-11-26</th>\n",
       "      <td>16.080</td>\n",
       "    </tr>\n",
       "    <tr>\n",
       "      <th>2011-11-27</th>\n",
       "      <td>16.060</td>\n",
       "    </tr>\n",
       "  </tbody>\n",
       "</table>\n",
       "</div>"
      ],
      "text/plain": [
       "            energy_sum\n",
       "day                   \n",
       "2011-11-23       9.281\n",
       "2011-11-24      14.481\n",
       "2011-11-25      13.689\n",
       "2011-11-26      16.080\n",
       "2011-11-27      16.060"
      ]
     },
     "execution_count": 31,
     "metadata": {},
     "output_type": "execute_result"
    }
   ],
   "source": [
    "casa1.head()"
   ]
  },
  {
   "cell_type": "code",
   "execution_count": 32,
   "metadata": {
    "colab": {
     "base_uri": "https://localhost:8080/",
     "height": 34
    },
    "colab_type": "code",
    "executionInfo": {
     "elapsed": 37677,
     "status": "ok",
     "timestamp": 1562646658886,
     "user": {
      "displayName": "Dayana Hernandez",
      "photoUrl": "",
      "userId": "08700700604867881888"
     },
     "user_tz": 240
    },
    "id": "T5QFP90gh-2W",
    "outputId": "f96af0be-92cf-489d-bb1d-473d1bd50deb"
   },
   "outputs": [
    {
     "data": {
      "text/plain": [
       "829"
      ]
     },
     "execution_count": 32,
     "metadata": {},
     "output_type": "execute_result"
    }
   ],
   "source": [
    "len(casa1)"
   ]
  },
  {
   "cell_type": "code",
   "execution_count": 33,
   "metadata": {},
   "outputs": [
    {
     "data": {
      "text/plain": [
       "829"
      ]
     },
     "execution_count": 33,
     "metadata": {},
     "output_type": "execute_result"
    }
   ],
   "source": [
    "len(casa11)"
   ]
  },
  {
   "cell_type": "code",
   "execution_count": 0,
   "metadata": {
    "colab": {
     "base_uri": "https://localhost:8080/",
     "height": 52
    },
    "colab_type": "code",
    "executionInfo": {
     "elapsed": 37664,
     "status": "ok",
     "timestamp": 1562646658887,
     "user": {
      "displayName": "Dayana Hernandez",
      "photoUrl": "",
      "userId": "08700700604867881888"
     },
     "user_tz": 240
    },
    "id": "0rtBDb6vh-2a",
    "outputId": "408f2209-1803-4dd6-bde8-62e353b08c4b"
   },
   "outputs": [
    {
     "name": "stdout",
     "output_type": "stream",
     "text": [
      "Starting Point of Data at Day Level 2011-11-23 00:00:00\n",
      "Ending Point of Data at Day Level 2014-02-28 00:00:00\n"
     ]
    }
   ],
   "source": [
    "print(\"Starting Point of Data at Day Level\",min(casa1.index))\n",
    "print(\"Ending Point of Data at Day Level\",max(casa1.index))"
   ]
  },
  {
   "cell_type": "code",
   "execution_count": 34,
   "metadata": {
    "colab": {
     "base_uri": "https://localhost:8080/",
     "height": 312
    },
    "colab_type": "code",
    "executionInfo": {
     "elapsed": 38267,
     "status": "ok",
     "timestamp": 1562646659502,
     "user": {
      "displayName": "Dayana Hernandez",
      "photoUrl": "",
      "userId": "08700700604867881888"
     },
     "user_tz": 240
    },
    "id": "7qoUyEnMh-2g",
    "outputId": "9b0af795-4f79-4d12-b5c2-67357385d14d"
   },
   "outputs": [
    {
     "data": {
      "text/plain": [
       "<matplotlib.axes._subplots.AxesSubplot at 0x1d414f9ef28>"
      ]
     },
     "execution_count": 34,
     "metadata": {},
     "output_type": "execute_result"
    },
    {
     "data": {
      "image/png": "[encoded data removed]",
      "text/plain": [
       "<Figure size 432x288 with 1 Axes>"
      ]
     },
     "metadata": {
      "needs_background": "light"
     },
     "output_type": "display_data"
    }
   ],
   "source": [
    "#Comportamiento del consumo de una casa durante el periodo registrado por el dataset\n",
    "casa1.plot()"
   ]
  },
  {
   "cell_type": "code",
   "execution_count": 44,
   "metadata": {},
   "outputs": [
    {
     "data": {
      "text/plain": [
       "<matplotlib.axes._subplots.AxesSubplot at 0x1d4154702b0>"
      ]
     },
     "execution_count": 44,
     "metadata": {},
     "output_type": "execute_result"
    },
    {
     "data": {
      "image/png": "[encoded data removed]",
      "text/plain": [
       "<Figure size 432x288 with 1 Axes>"
      ]
     },
     "metadata": {
      "needs_background": "light"
     },
     "output_type": "display_data"
    }
   ],
   "source": [
    "#Comportamiento del consumo de una casa durante el periodo registrado por el dataset\n",
    "casa9.plot()"
   ]
  },
  {
   "cell_type": "code",
   "execution_count": 42,
   "metadata": {},
   "outputs": [
    {
     "data": {
      "text/plain": [
       "829"
      ]
     },
     "execution_count": 42,
     "metadata": {},
     "output_type": "execute_result"
    }
   ],
   "source": [
    "len(casa7)"
   ]
  },
  {
   "cell_type": "code",
   "execution_count": 47,
   "metadata": {},
   "outputs": [],
   "source": [
    "houses1=pd.merge(casa1, casa2,  on='day', how='inner')"
   ]
  },
  {
   "cell_type": "code",
   "execution_count": 48,
   "metadata": {},
   "outputs": [],
   "source": [
    "houses2=pd.merge(casa3, casa4,  on='day', how='inner')"
   ]
  },
  {
   "cell_type": "code",
   "execution_count": 49,
   "metadata": {},
   "outputs": [],
   "source": [
    "houses3=pd.merge(casa5, casa6,  on='day', how='inner')"
   ]
  },
  {
   "cell_type": "code",
   "execution_count": 50,
   "metadata": {},
   "outputs": [],
   "source": [
    "houses4=pd.merge(casa7, casa8,  on='day', how='inner')"
   ]
  },
  {
   "cell_type": "code",
   "execution_count": 51,
   "metadata": {},
   "outputs": [],
   "source": [
    "houses5=pd.merge(casa9, casa10,  on='day', how='inner')"
   ]
  },
  {
   "cell_type": "code",
   "execution_count": 52,
   "metadata": {},
   "outputs": [
    {
     "data": {
      "text/html": [
       "<div>\n",
       "<style scoped>\n",
       "    .dataframe tbody tr th:only-of-type {\n",
       "        vertical-align: middle;\n",
       "    }\n",
       "\n",
       "    .dataframe tbody tr th {\n",
       "        vertical-align: top;\n",
       "    }\n",
       "\n",
       "    .dataframe thead th {\n",
       "        text-align: right;\n",
       "    }\n",
       "</style>\n",
       "<table border=\"1\" class=\"dataframe\">\n",
       "  <thead>\n",
       "    <tr style=\"text-align: right;\">\n",
       "      <th></th>\n",
       "      <th>energy_sum_x</th>\n",
       "      <th>energy_sum_y</th>\n",
       "    </tr>\n",
       "    <tr>\n",
       "      <th>day</th>\n",
       "      <th></th>\n",
       "      <th></th>\n",
       "    </tr>\n",
       "  </thead>\n",
       "  <tbody>\n",
       "    <tr>\n",
       "      <th>2011-11-23</th>\n",
       "      <td>9.281</td>\n",
       "      <td>9.254</td>\n",
       "    </tr>\n",
       "    <tr>\n",
       "      <th>2011-11-24</th>\n",
       "      <td>14.481</td>\n",
       "      <td>9.606</td>\n",
       "    </tr>\n",
       "    <tr>\n",
       "      <th>2011-11-25</th>\n",
       "      <td>13.689</td>\n",
       "      <td>12.685</td>\n",
       "    </tr>\n",
       "    <tr>\n",
       "      <th>2011-11-26</th>\n",
       "      <td>16.080</td>\n",
       "      <td>9.606</td>\n",
       "    </tr>\n",
       "    <tr>\n",
       "      <th>2011-11-27</th>\n",
       "      <td>16.060</td>\n",
       "      <td>14.387</td>\n",
       "    </tr>\n",
       "  </tbody>\n",
       "</table>\n",
       "</div>"
      ],
      "text/plain": [
       "            energy_sum_x  energy_sum_y\n",
       "day                                   \n",
       "2011-11-23         9.281         9.254\n",
       "2011-11-24        14.481         9.606\n",
       "2011-11-25        13.689        12.685\n",
       "2011-11-26        16.080         9.606\n",
       "2011-11-27        16.060        14.387"
      ]
     },
     "execution_count": 52,
     "metadata": {},
     "output_type": "execute_result"
    }
   ],
   "source": [
    "houses1.head()"
   ]
  },
  {
   "cell_type": "code",
   "execution_count": 54,
   "metadata": {},
   "outputs": [],
   "source": [
    "houses6=pd.merge(houses1, houses2,  on='day', how='inner')"
   ]
  },
  {
   "cell_type": "code",
   "execution_count": 55,
   "metadata": {},
   "outputs": [],
   "source": [
    "houses7=pd.merge(houses3, houses4,  on='day', how='inner')"
   ]
  },
  {
   "cell_type": "code",
   "execution_count": 56,
   "metadata": {},
   "outputs": [],
   "source": [
    "houses8=pd.merge(houses5, casa11,  on='day', how='inner')"
   ]
  },
  {
   "cell_type": "code",
   "execution_count": 57,
   "metadata": {},
   "outputs": [],
   "source": [
    "houses9=pd.merge(houses6, houses7,  on='day', how='inner')"
   ]
  },
  {
   "cell_type": "code",
   "execution_count": 60,
   "metadata": {},
   "outputs": [],
   "source": [
    "houses10=pd.merge(houses8, houses9,  on='day', how='inner')"
   ]
  },
  {
   "cell_type": "code",
   "execution_count": 61,
   "metadata": {},
   "outputs": [
    {
     "data": {
      "text/html": [
       "<div>\n",
       "<style scoped>\n",
       "    .dataframe tbody tr th:only-of-type {\n",
       "        vertical-align: middle;\n",
       "    }\n",
       "\n",
       "    .dataframe tbody tr th {\n",
       "        vertical-align: top;\n",
       "    }\n",
       "\n",
       "    .dataframe thead th {\n",
       "        text-align: right;\n",
       "    }\n",
       "</style>\n",
       "<table border=\"1\" class=\"dataframe\">\n",
       "  <thead>\n",
       "    <tr style=\"text-align: right;\">\n",
       "      <th></th>\n",
       "      <th>energy_sum_x</th>\n",
       "      <th>energy_sum_y</th>\n",
       "      <th>energy_sum</th>\n",
       "      <th>energy_sum_x_x_x</th>\n",
       "      <th>energy_sum_y_x_x</th>\n",
       "      <th>energy_sum_x_y_x</th>\n",
       "      <th>energy_sum_y_y_x</th>\n",
       "      <th>energy_sum_x_x_y</th>\n",
       "      <th>energy_sum_y_x_y</th>\n",
       "      <th>energy_sum_x_y_y</th>\n",
       "      <th>energy_sum_y_y_y</th>\n",
       "    </tr>\n",
       "    <tr>\n",
       "      <th>day</th>\n",
       "      <th></th>\n",
       "      <th></th>\n",
       "      <th></th>\n",
       "      <th></th>\n",
       "      <th></th>\n",
       "      <th></th>\n",
       "      <th></th>\n",
       "      <th></th>\n",
       "      <th></th>\n",
       "      <th></th>\n",
       "      <th></th>\n",
       "    </tr>\n",
       "  </thead>\n",
       "  <tbody>\n",
       "    <tr>\n",
       "      <th>2011-11-23</th>\n",
       "      <td>21.702</td>\n",
       "      <td>1.283</td>\n",
       "      <td>7.408</td>\n",
       "      <td>9.281</td>\n",
       "      <td>9.254</td>\n",
       "      <td>5.969</td>\n",
       "      <td>8.952</td>\n",
       "      <td>2.287</td>\n",
       "      <td>6.523</td>\n",
       "      <td>3.036</td>\n",
       "      <td>3.273</td>\n",
       "    </tr>\n",
       "    <tr>\n",
       "      <th>2011-11-24</th>\n",
       "      <td>29.722</td>\n",
       "      <td>2.304</td>\n",
       "      <td>14.258</td>\n",
       "      <td>14.481</td>\n",
       "      <td>9.606</td>\n",
       "      <td>8.394</td>\n",
       "      <td>12.135</td>\n",
       "      <td>4.331</td>\n",
       "      <td>12.689</td>\n",
       "      <td>7.489</td>\n",
       "      <td>4.620</td>\n",
       "    </tr>\n",
       "    <tr>\n",
       "      <th>2011-11-25</th>\n",
       "      <td>30.071</td>\n",
       "      <td>2.324</td>\n",
       "      <td>14.818</td>\n",
       "      <td>13.689</td>\n",
       "      <td>12.685</td>\n",
       "      <td>7.898</td>\n",
       "      <td>13.720</td>\n",
       "      <td>4.373</td>\n",
       "      <td>10.717</td>\n",
       "      <td>6.185</td>\n",
       "      <td>4.783</td>\n",
       "    </tr>\n",
       "    <tr>\n",
       "      <th>2011-11-26</th>\n",
       "      <td>33.384</td>\n",
       "      <td>2.295</td>\n",
       "      <td>11.265</td>\n",
       "      <td>16.080</td>\n",
       "      <td>9.606</td>\n",
       "      <td>9.074</td>\n",
       "      <td>15.234</td>\n",
       "      <td>4.335</td>\n",
       "      <td>12.442</td>\n",
       "      <td>6.964</td>\n",
       "      <td>4.935</td>\n",
       "    </tr>\n",
       "    <tr>\n",
       "      <th>2011-11-27</th>\n",
       "      <td>34.204</td>\n",
       "      <td>2.302</td>\n",
       "      <td>12.328</td>\n",
       "      <td>16.060</td>\n",
       "      <td>14.387</td>\n",
       "      <td>9.421</td>\n",
       "      <td>13.189</td>\n",
       "      <td>4.375</td>\n",
       "      <td>12.964</td>\n",
       "      <td>7.912</td>\n",
       "      <td>4.553</td>\n",
       "    </tr>\n",
       "  </tbody>\n",
       "</table>\n",
       "</div>"
      ],
      "text/plain": [
       "            energy_sum_x  energy_sum_y  energy_sum  energy_sum_x_x_x  \\\n",
       "day                                                                    \n",
       "2011-11-23        21.702         1.283       7.408             9.281   \n",
       "2011-11-24        29.722         2.304      14.258            14.481   \n",
       "2011-11-25        30.071         2.324      14.818            13.689   \n",
       "2011-11-26        33.384         2.295      11.265            16.080   \n",
       "2011-11-27        34.204         2.302      12.328            16.060   \n",
       "\n",
       "            energy_sum_y_x_x  energy_sum_x_y_x  energy_sum_y_y_x  \\\n",
       "day                                                                \n",
       "2011-11-23             9.254             5.969             8.952   \n",
       "2011-11-24             9.606             8.394            12.135   \n",
       "2011-11-25            12.685             7.898            13.720   \n",
       "2011-11-26             9.606             9.074            15.234   \n",
       "2011-11-27            14.387             9.421            13.189   \n",
       "\n",
       "            energy_sum_x_x_y  energy_sum_y_x_y  energy_sum_x_y_y  \\\n",
       "day                                                                \n",
       "2011-11-23             2.287             6.523             3.036   \n",
       "2011-11-24             4.331            12.689             7.489   \n",
       "2011-11-25             4.373            10.717             6.185   \n",
       "2011-11-26             4.335            12.442             6.964   \n",
       "2011-11-27             4.375            12.964             7.912   \n",
       "\n",
       "            energy_sum_y_y_y  \n",
       "day                           \n",
       "2011-11-23             3.273  \n",
       "2011-11-24             4.620  \n",
       "2011-11-25             4.783  \n",
       "2011-11-26             4.935  \n",
       "2011-11-27             4.553  "
      ]
     },
     "execution_count": 61,
     "metadata": {},
     "output_type": "execute_result"
    }
   ],
   "source": [
    "houses10.head()"
   ]
  },
  {
   "cell_type": "code",
   "execution_count": 62,
   "metadata": {},
   "outputs": [
    {
     "data": {
      "text/plain": [
       "energy_sum_x        float64\n",
       "energy_sum_y        float64\n",
       "energy_sum          float64\n",
       "energy_sum_x_x_x    float64\n",
       "energy_sum_y_x_x    float64\n",
       "energy_sum_x_y_x    float64\n",
       "energy_sum_y_y_x    float64\n",
       "energy_sum_x_x_y    float64\n",
       "energy_sum_y_x_y    float64\n",
       "energy_sum_x_y_y    float64\n",
       "energy_sum_y_y_y    float64\n",
       "dtype: object"
      ]
     },
     "execution_count": 62,
     "metadata": {},
     "output_type": "execute_result"
    }
   ],
   "source": [
    "houses10.dtypes"
   ]
  },
  {
   "cell_type": "code",
   "execution_count": 63,
   "metadata": {},
   "outputs": [
    {
     "data": {
      "text/plain": [
       "DatetimeIndex(['2011-11-23', '2011-11-24', '2011-11-25', '2011-11-26',\n",
       "               '2011-11-27', '2011-11-28', '2011-11-29', '2011-11-30',\n",
       "               '2011-12-01', '2011-12-02',\n",
       "               ...\n",
       "               '2014-02-19', '2014-02-20', '2014-02-21', '2014-02-22',\n",
       "               '2014-02-23', '2014-02-24', '2014-02-25', '2014-02-26',\n",
       "               '2014-02-27', '2014-02-28'],\n",
       "              dtype='datetime64[ns]', name='day', length=829, freq=None)"
      ]
     },
     "execution_count": 63,
     "metadata": {},
     "output_type": "execute_result"
    }
   ],
   "source": [
    "houses10.index"
   ]
  },
  {
   "cell_type": "code",
   "execution_count": 64,
   "metadata": {},
   "outputs": [],
   "source": [
    "houses10.columns = ['house1','house2','house3', 'house4','house5','house6','house7','house8','house9','house10', 'house11']"
   ]
  },
  {
   "cell_type": "code",
   "execution_count": 65,
   "metadata": {},
   "outputs": [
    {
     "data": {
      "text/html": [
       "<div>\n",
       "<style scoped>\n",
       "    .dataframe tbody tr th:only-of-type {\n",
       "        vertical-align: middle;\n",
       "    }\n",
       "\n",
       "    .dataframe tbody tr th {\n",
       "        vertical-align: top;\n",
       "    }\n",
       "\n",
       "    .dataframe thead th {\n",
       "        text-align: right;\n",
       "    }\n",
       "</style>\n",
       "<table border=\"1\" class=\"dataframe\">\n",
       "  <thead>\n",
       "    <tr style=\"text-align: right;\">\n",
       "      <th></th>\n",
       "      <th>house1</th>\n",
       "      <th>house2</th>\n",
       "      <th>house3</th>\n",
       "      <th>house4</th>\n",
       "      <th>house5</th>\n",
       "      <th>house6</th>\n",
       "      <th>house7</th>\n",
       "      <th>house8</th>\n",
       "      <th>house9</th>\n",
       "      <th>house10</th>\n",
       "      <th>house11</th>\n",
       "    </tr>\n",
       "    <tr>\n",
       "      <th>day</th>\n",
       "      <th></th>\n",
       "      <th></th>\n",
       "      <th></th>\n",
       "      <th></th>\n",
       "      <th></th>\n",
       "      <th></th>\n",
       "      <th></th>\n",
       "      <th></th>\n",
       "      <th></th>\n",
       "      <th></th>\n",
       "      <th></th>\n",
       "    </tr>\n",
       "  </thead>\n",
       "  <tbody>\n",
       "    <tr>\n",
       "      <th>2011-11-23</th>\n",
       "      <td>21.702</td>\n",
       "      <td>1.283</td>\n",
       "      <td>7.408</td>\n",
       "      <td>9.281</td>\n",
       "      <td>9.254</td>\n",
       "      <td>5.969</td>\n",
       "      <td>8.952</td>\n",
       "      <td>2.287</td>\n",
       "      <td>6.523</td>\n",
       "      <td>3.036</td>\n",
       "      <td>3.273</td>\n",
       "    </tr>\n",
       "    <tr>\n",
       "      <th>2011-11-24</th>\n",
       "      <td>29.722</td>\n",
       "      <td>2.304</td>\n",
       "      <td>14.258</td>\n",
       "      <td>14.481</td>\n",
       "      <td>9.606</td>\n",
       "      <td>8.394</td>\n",
       "      <td>12.135</td>\n",
       "      <td>4.331</td>\n",
       "      <td>12.689</td>\n",
       "      <td>7.489</td>\n",
       "      <td>4.620</td>\n",
       "    </tr>\n",
       "    <tr>\n",
       "      <th>2011-11-25</th>\n",
       "      <td>30.071</td>\n",
       "      <td>2.324</td>\n",
       "      <td>14.818</td>\n",
       "      <td>13.689</td>\n",
       "      <td>12.685</td>\n",
       "      <td>7.898</td>\n",
       "      <td>13.720</td>\n",
       "      <td>4.373</td>\n",
       "      <td>10.717</td>\n",
       "      <td>6.185</td>\n",
       "      <td>4.783</td>\n",
       "    </tr>\n",
       "    <tr>\n",
       "      <th>2011-11-26</th>\n",
       "      <td>33.384</td>\n",
       "      <td>2.295</td>\n",
       "      <td>11.265</td>\n",
       "      <td>16.080</td>\n",
       "      <td>9.606</td>\n",
       "      <td>9.074</td>\n",
       "      <td>15.234</td>\n",
       "      <td>4.335</td>\n",
       "      <td>12.442</td>\n",
       "      <td>6.964</td>\n",
       "      <td>4.935</td>\n",
       "    </tr>\n",
       "    <tr>\n",
       "      <th>2011-11-27</th>\n",
       "      <td>34.204</td>\n",
       "      <td>2.302</td>\n",
       "      <td>12.328</td>\n",
       "      <td>16.060</td>\n",
       "      <td>14.387</td>\n",
       "      <td>9.421</td>\n",
       "      <td>13.189</td>\n",
       "      <td>4.375</td>\n",
       "      <td>12.964</td>\n",
       "      <td>7.912</td>\n",
       "      <td>4.553</td>\n",
       "    </tr>\n",
       "  </tbody>\n",
       "</table>\n",
       "</div>"
      ],
      "text/plain": [
       "            house1  house2  house3  house4  house5  house6  house7  house8  \\\n",
       "day                                                                          \n",
       "2011-11-23  21.702   1.283   7.408   9.281   9.254   5.969   8.952   2.287   \n",
       "2011-11-24  29.722   2.304  14.258  14.481   9.606   8.394  12.135   4.331   \n",
       "2011-11-25  30.071   2.324  14.818  13.689  12.685   7.898  13.720   4.373   \n",
       "2011-11-26  33.384   2.295  11.265  16.080   9.606   9.074  15.234   4.335   \n",
       "2011-11-27  34.204   2.302  12.328  16.060  14.387   9.421  13.189   4.375   \n",
       "\n",
       "            house9  house10  house11  \n",
       "day                                   \n",
       "2011-11-23   6.523    3.036    3.273  \n",
       "2011-11-24  12.689    7.489    4.620  \n",
       "2011-11-25  10.717    6.185    4.783  \n",
       "2011-11-26  12.442    6.964    4.935  \n",
       "2011-11-27  12.964    7.912    4.553  "
      ]
     },
     "execution_count": 65,
     "metadata": {},
     "output_type": "execute_result"
    }
   ],
   "source": [
    "houses10.head()"
   ]
  },
  {
   "cell_type": "code",
   "execution_count": 66,
   "metadata": {},
   "outputs": [],
   "source": [
    "houses10['consumo_agregado'] = houses10.sum(axis=1)"
   ]
  },
  {
   "cell_type": "code",
   "execution_count": 67,
   "metadata": {},
   "outputs": [
    {
     "data": {
      "text/html": [
       "<div>\n",
       "<style scoped>\n",
       "    .dataframe tbody tr th:only-of-type {\n",
       "        vertical-align: middle;\n",
       "    }\n",
       "\n",
       "    .dataframe tbody tr th {\n",
       "        vertical-align: top;\n",
       "    }\n",
       "\n",
       "    .dataframe thead th {\n",
       "        text-align: right;\n",
       "    }\n",
       "</style>\n",
       "<table border=\"1\" class=\"dataframe\">\n",
       "  <thead>\n",
       "    <tr style=\"text-align: right;\">\n",
       "      <th></th>\n",
       "      <th>house1</th>\n",
       "      <th>house2</th>\n",
       "      <th>house3</th>\n",
       "      <th>house4</th>\n",
       "      <th>house5</th>\n",
       "      <th>house6</th>\n",
       "      <th>house7</th>\n",
       "      <th>house8</th>\n",
       "      <th>house9</th>\n",
       "      <th>house10</th>\n",
       "      <th>house11</th>\n",
       "      <th>consumo_agregado</th>\n",
       "    </tr>\n",
       "    <tr>\n",
       "      <th>day</th>\n",
       "      <th></th>\n",
       "      <th></th>\n",
       "      <th></th>\n",
       "      <th></th>\n",
       "      <th></th>\n",
       "      <th></th>\n",
       "      <th></th>\n",
       "      <th></th>\n",
       "      <th></th>\n",
       "      <th></th>\n",
       "      <th></th>\n",
       "      <th></th>\n",
       "    </tr>\n",
       "  </thead>\n",
       "  <tbody>\n",
       "    <tr>\n",
       "      <th>2011-11-23</th>\n",
       "      <td>21.702</td>\n",
       "      <td>1.283</td>\n",
       "      <td>7.408</td>\n",
       "      <td>9.281</td>\n",
       "      <td>9.254</td>\n",
       "      <td>5.969</td>\n",
       "      <td>8.952</td>\n",
       "      <td>2.287</td>\n",
       "      <td>6.523</td>\n",
       "      <td>3.036</td>\n",
       "      <td>3.273</td>\n",
       "      <td>78.968</td>\n",
       "    </tr>\n",
       "    <tr>\n",
       "      <th>2011-11-24</th>\n",
       "      <td>29.722</td>\n",
       "      <td>2.304</td>\n",
       "      <td>14.258</td>\n",
       "      <td>14.481</td>\n",
       "      <td>9.606</td>\n",
       "      <td>8.394</td>\n",
       "      <td>12.135</td>\n",
       "      <td>4.331</td>\n",
       "      <td>12.689</td>\n",
       "      <td>7.489</td>\n",
       "      <td>4.620</td>\n",
       "      <td>120.029</td>\n",
       "    </tr>\n",
       "    <tr>\n",
       "      <th>2011-11-25</th>\n",
       "      <td>30.071</td>\n",
       "      <td>2.324</td>\n",
       "      <td>14.818</td>\n",
       "      <td>13.689</td>\n",
       "      <td>12.685</td>\n",
       "      <td>7.898</td>\n",
       "      <td>13.720</td>\n",
       "      <td>4.373</td>\n",
       "      <td>10.717</td>\n",
       "      <td>6.185</td>\n",
       "      <td>4.783</td>\n",
       "      <td>121.263</td>\n",
       "    </tr>\n",
       "    <tr>\n",
       "      <th>2011-11-26</th>\n",
       "      <td>33.384</td>\n",
       "      <td>2.295</td>\n",
       "      <td>11.265</td>\n",
       "      <td>16.080</td>\n",
       "      <td>9.606</td>\n",
       "      <td>9.074</td>\n",
       "      <td>15.234</td>\n",
       "      <td>4.335</td>\n",
       "      <td>12.442</td>\n",
       "      <td>6.964</td>\n",
       "      <td>4.935</td>\n",
       "      <td>125.614</td>\n",
       "    </tr>\n",
       "    <tr>\n",
       "      <th>2011-11-27</th>\n",
       "      <td>34.204</td>\n",
       "      <td>2.302</td>\n",
       "      <td>12.328</td>\n",
       "      <td>16.060</td>\n",
       "      <td>14.387</td>\n",
       "      <td>9.421</td>\n",
       "      <td>13.189</td>\n",
       "      <td>4.375</td>\n",
       "      <td>12.964</td>\n",
       "      <td>7.912</td>\n",
       "      <td>4.553</td>\n",
       "      <td>131.695</td>\n",
       "    </tr>\n",
       "  </tbody>\n",
       "</table>\n",
       "</div>"
      ],
      "text/plain": [
       "            house1  house2  house3  house4  house5  house6  house7  house8  \\\n",
       "day                                                                          \n",
       "2011-11-23  21.702   1.283   7.408   9.281   9.254   5.969   8.952   2.287   \n",
       "2011-11-24  29.722   2.304  14.258  14.481   9.606   8.394  12.135   4.331   \n",
       "2011-11-25  30.071   2.324  14.818  13.689  12.685   7.898  13.720   4.373   \n",
       "2011-11-26  33.384   2.295  11.265  16.080   9.606   9.074  15.234   4.335   \n",
       "2011-11-27  34.204   2.302  12.328  16.060  14.387   9.421  13.189   4.375   \n",
       "\n",
       "            house9  house10  house11  consumo_agregado  \n",
       "day                                                     \n",
       "2011-11-23   6.523    3.036    3.273            78.968  \n",
       "2011-11-24  12.689    7.489    4.620           120.029  \n",
       "2011-11-25  10.717    6.185    4.783           121.263  \n",
       "2011-11-26  12.442    6.964    4.935           125.614  \n",
       "2011-11-27  12.964    7.912    4.553           131.695  "
      ]
     },
     "execution_count": 67,
     "metadata": {},
     "output_type": "execute_result"
    }
   ],
   "source": [
    "houses10.head()"
   ]
  },
  {
   "cell_type": "code",
   "execution_count": 69,
   "metadata": {},
   "outputs": [
    {
     "data": {
      "image/png": "[encoded data removed]",
      "text/plain": [
       "<Figure size 1080x648 with 5 Axes>"
      ]
     },
     "metadata": {
      "needs_background": "light"
     },
     "output_type": "display_data"
    }
   ],
   "source": [
    "##Comportamiento del consumo de  varias casas durante el periodo registrado por el dataset\n",
    "cols_plot = ['house1', 'house2', 'house3', 'house4', 'consumo_agregado']\n",
    "axes = houses10[cols_plot].plot(marker='.', alpha=0.5, linestyle='None', figsize=(15, 9), subplots=True)\n",
    "for ax in axes:\n",
    "    ax.set_ylabel('Houses')"
   ]
  },
  {
   "cell_type": "code",
   "execution_count": 70,
   "metadata": {},
   "outputs": [
    {
     "data": {
      "text/html": [
       "<div>\n",
       "<style scoped>\n",
       "    .dataframe tbody tr th:only-of-type {\n",
       "        vertical-align: middle;\n",
       "    }\n",
       "\n",
       "    .dataframe tbody tr th {\n",
       "        vertical-align: top;\n",
       "    }\n",
       "\n",
       "    .dataframe thead th {\n",
       "        text-align: right;\n",
       "    }\n",
       "</style>\n",
       "<table border=\"1\" class=\"dataframe\">\n",
       "  <thead>\n",
       "    <tr style=\"text-align: right;\">\n",
       "      <th></th>\n",
       "      <th>house1</th>\n",
       "      <th>house2</th>\n",
       "      <th>house3</th>\n",
       "      <th>house4</th>\n",
       "      <th>house5</th>\n",
       "      <th>house6</th>\n",
       "      <th>house7</th>\n",
       "      <th>house8</th>\n",
       "      <th>house9</th>\n",
       "      <th>house10</th>\n",
       "      <th>house11</th>\n",
       "      <th>consumo_agregado</th>\n",
       "    </tr>\n",
       "  </thead>\n",
       "  <tbody>\n",
       "    <tr>\n",
       "      <th>house1</th>\n",
       "      <td>1.000000</td>\n",
       "      <td>0.710162</td>\n",
       "      <td>0.176365</td>\n",
       "      <td>0.384923</td>\n",
       "      <td>0.236169</td>\n",
       "      <td>0.246491</td>\n",
       "      <td>0.366362</td>\n",
       "      <td>0.110363</td>\n",
       "      <td>0.380518</td>\n",
       "      <td>0.030102</td>\n",
       "      <td>0.476601</td>\n",
       "      <td>0.875132</td>\n",
       "    </tr>\n",
       "    <tr>\n",
       "      <th>house2</th>\n",
       "      <td>0.710162</td>\n",
       "      <td>1.000000</td>\n",
       "      <td>0.156492</td>\n",
       "      <td>0.309238</td>\n",
       "      <td>0.210137</td>\n",
       "      <td>0.220290</td>\n",
       "      <td>0.318087</td>\n",
       "      <td>0.341002</td>\n",
       "      <td>0.265124</td>\n",
       "      <td>0.082043</td>\n",
       "      <td>0.385054</td>\n",
       "      <td>0.736394</td>\n",
       "    </tr>\n",
       "    <tr>\n",
       "      <th>house3</th>\n",
       "      <td>0.176365</td>\n",
       "      <td>0.156492</td>\n",
       "      <td>1.000000</td>\n",
       "      <td>0.140952</td>\n",
       "      <td>0.273502</td>\n",
       "      <td>0.061771</td>\n",
       "      <td>0.053299</td>\n",
       "      <td>0.223086</td>\n",
       "      <td>0.025908</td>\n",
       "      <td>0.234639</td>\n",
       "      <td>0.128021</td>\n",
       "      <td>0.351126</td>\n",
       "    </tr>\n",
       "    <tr>\n",
       "      <th>house4</th>\n",
       "      <td>0.384923</td>\n",
       "      <td>0.309238</td>\n",
       "      <td>0.140952</td>\n",
       "      <td>1.000000</td>\n",
       "      <td>0.281928</td>\n",
       "      <td>0.124719</td>\n",
       "      <td>0.358781</td>\n",
       "      <td>-0.039767</td>\n",
       "      <td>0.370228</td>\n",
       "      <td>0.067605</td>\n",
       "      <td>0.318435</td>\n",
       "      <td>0.575699</td>\n",
       "    </tr>\n",
       "    <tr>\n",
       "      <th>house5</th>\n",
       "      <td>0.236169</td>\n",
       "      <td>0.210137</td>\n",
       "      <td>0.273502</td>\n",
       "      <td>0.281928</td>\n",
       "      <td>1.000000</td>\n",
       "      <td>0.085318</td>\n",
       "      <td>0.173312</td>\n",
       "      <td>0.136011</td>\n",
       "      <td>0.201932</td>\n",
       "      <td>0.278656</td>\n",
       "      <td>0.141657</td>\n",
       "      <td>0.486366</td>\n",
       "    </tr>\n",
       "    <tr>\n",
       "      <th>house6</th>\n",
       "      <td>0.246491</td>\n",
       "      <td>0.220290</td>\n",
       "      <td>0.061771</td>\n",
       "      <td>0.124719</td>\n",
       "      <td>0.085318</td>\n",
       "      <td>1.000000</td>\n",
       "      <td>0.123029</td>\n",
       "      <td>0.111247</td>\n",
       "      <td>0.149350</td>\n",
       "      <td>0.063338</td>\n",
       "      <td>0.145321</td>\n",
       "      <td>0.441751</td>\n",
       "    </tr>\n",
       "    <tr>\n",
       "      <th>house7</th>\n",
       "      <td>0.366362</td>\n",
       "      <td>0.318087</td>\n",
       "      <td>0.053299</td>\n",
       "      <td>0.358781</td>\n",
       "      <td>0.173312</td>\n",
       "      <td>0.123029</td>\n",
       "      <td>1.000000</td>\n",
       "      <td>-0.097397</td>\n",
       "      <td>0.271083</td>\n",
       "      <td>-0.004987</td>\n",
       "      <td>0.271487</td>\n",
       "      <td>0.518657</td>\n",
       "    </tr>\n",
       "    <tr>\n",
       "      <th>house8</th>\n",
       "      <td>0.110363</td>\n",
       "      <td>0.341002</td>\n",
       "      <td>0.223086</td>\n",
       "      <td>-0.039767</td>\n",
       "      <td>0.136011</td>\n",
       "      <td>0.111247</td>\n",
       "      <td>-0.097397</td>\n",
       "      <td>1.000000</td>\n",
       "      <td>-0.045232</td>\n",
       "      <td>0.323995</td>\n",
       "      <td>0.059776</td>\n",
       "      <td>0.233800</td>\n",
       "    </tr>\n",
       "    <tr>\n",
       "      <th>house9</th>\n",
       "      <td>0.380518</td>\n",
       "      <td>0.265124</td>\n",
       "      <td>0.025908</td>\n",
       "      <td>0.370228</td>\n",
       "      <td>0.201932</td>\n",
       "      <td>0.149350</td>\n",
       "      <td>0.271083</td>\n",
       "      <td>-0.045232</td>\n",
       "      <td>1.000000</td>\n",
       "      <td>-0.027980</td>\n",
       "      <td>0.322189</td>\n",
       "      <td>0.475426</td>\n",
       "    </tr>\n",
       "    <tr>\n",
       "      <th>house10</th>\n",
       "      <td>0.030102</td>\n",
       "      <td>0.082043</td>\n",
       "      <td>0.234639</td>\n",
       "      <td>0.067605</td>\n",
       "      <td>0.278656</td>\n",
       "      <td>0.063338</td>\n",
       "      <td>-0.004987</td>\n",
       "      <td>0.323995</td>\n",
       "      <td>-0.027980</td>\n",
       "      <td>1.000000</td>\n",
       "      <td>-0.045587</td>\n",
       "      <td>0.212946</td>\n",
       "    </tr>\n",
       "    <tr>\n",
       "      <th>house11</th>\n",
       "      <td>0.476601</td>\n",
       "      <td>0.385054</td>\n",
       "      <td>0.128021</td>\n",
       "      <td>0.318435</td>\n",
       "      <td>0.141657</td>\n",
       "      <td>0.145321</td>\n",
       "      <td>0.271487</td>\n",
       "      <td>0.059776</td>\n",
       "      <td>0.322189</td>\n",
       "      <td>-0.045587</td>\n",
       "      <td>1.000000</td>\n",
       "      <td>0.504490</td>\n",
       "    </tr>\n",
       "    <tr>\n",
       "      <th>consumo_agregado</th>\n",
       "      <td>0.875132</td>\n",
       "      <td>0.736394</td>\n",
       "      <td>0.351126</td>\n",
       "      <td>0.575699</td>\n",
       "      <td>0.486366</td>\n",
       "      <td>0.441751</td>\n",
       "      <td>0.518657</td>\n",
       "      <td>0.233800</td>\n",
       "      <td>0.475426</td>\n",
       "      <td>0.212946</td>\n",
       "      <td>0.504490</td>\n",
       "      <td>1.000000</td>\n",
       "    </tr>\n",
       "  </tbody>\n",
       "</table>\n",
       "</div>"
      ],
      "text/plain": [
       "                    house1    house2    house3    house4    house5    house6  \\\n",
       "house1            1.000000  0.710162  0.176365  0.384923  0.236169  0.246491   \n",
       "house2            0.710162  1.000000  0.156492  0.309238  0.210137  0.220290   \n",
       "house3            0.176365  0.156492  1.000000  0.140952  0.273502  0.061771   \n",
       "house4            0.384923  0.309238  0.140952  1.000000  0.281928  0.124719   \n",
       "house5            0.236169  0.210137  0.273502  0.281928  1.000000  0.085318   \n",
       "house6            0.246491  0.220290  0.061771  0.124719  0.085318  1.000000   \n",
       "house7            0.366362  0.318087  0.053299  0.358781  0.173312  0.123029   \n",
       "house8            0.110363  0.341002  0.223086 -0.039767  0.136011  0.111247   \n",
       "house9            0.380518  0.265124  0.025908  0.370228  0.201932  0.149350   \n",
       "house10           0.030102  0.082043  0.234639  0.067605  0.278656  0.063338   \n",
       "house11           0.476601  0.385054  0.128021  0.318435  0.141657  0.145321   \n",
       "consumo_agregado  0.875132  0.736394  0.351126  0.575699  0.486366  0.441751   \n",
       "\n",
       "                    house7    house8    house9   house10   house11  \\\n",
       "house1            0.366362  0.110363  0.380518  0.030102  0.476601   \n",
       "house2            0.318087  0.341002  0.265124  0.082043  0.385054   \n",
       "house3            0.053299  0.223086  0.025908  0.234639  0.128021   \n",
       "house4            0.358781 -0.039767  0.370228  0.067605  0.318435   \n",
       "house5            0.173312  0.136011  0.201932  0.278656  0.141657   \n",
       "house6            0.123029  0.111247  0.149350  0.063338  0.145321   \n",
       "house7            1.000000 -0.097397  0.271083 -0.004987  0.271487   \n",
       "house8           -0.097397  1.000000 -0.045232  0.323995  0.059776   \n",
       "house9            0.271083 -0.045232  1.000000 -0.027980  0.322189   \n",
       "house10          -0.004987  0.323995 -0.027980  1.000000 -0.045587   \n",
       "house11           0.271487  0.059776  0.322189 -0.045587  1.000000   \n",
       "consumo_agregado  0.518657  0.233800  0.475426  0.212946  0.504490   \n",
       "\n",
       "                  consumo_agregado  \n",
       "house1                    0.875132  \n",
       "house2                    0.736394  \n",
       "house3                    0.351126  \n",
       "house4                    0.575699  \n",
       "house5                    0.486366  \n",
       "house6                    0.441751  \n",
       "house7                    0.518657  \n",
       "house8                    0.233800  \n",
       "house9                    0.475426  \n",
       "house10                   0.212946  \n",
       "house11                   0.504490  \n",
       "consumo_agregado          1.000000  "
      ]
     },
     "execution_count": 70,
     "metadata": {},
     "output_type": "execute_result"
    }
   ],
   "source": [
    "#Matriz de correlación del consumo de las casa seleccionadas\n",
    "houses10.corr()"
   ]
  },
  {
   "cell_type": "code",
   "execution_count": 73,
   "metadata": {},
   "outputs": [],
   "source": [
    "df1=houses10[['consumo_agregado']]"
   ]
  },
  {
   "cell_type": "code",
   "execution_count": 74,
   "metadata": {},
   "outputs": [
    {
     "data": {
      "text/html": [
       "<div>\n",
       "<style scoped>\n",
       "    .dataframe tbody tr th:only-of-type {\n",
       "        vertical-align: middle;\n",
       "    }\n",
       "\n",
       "    .dataframe tbody tr th {\n",
       "        vertical-align: top;\n",
       "    }\n",
       "\n",
       "    .dataframe thead th {\n",
       "        text-align: right;\n",
       "    }\n",
       "</style>\n",
       "<table border=\"1\" class=\"dataframe\">\n",
       "  <thead>\n",
       "    <tr style=\"text-align: right;\">\n",
       "      <th></th>\n",
       "      <th>consumo_agregado</th>\n",
       "    </tr>\n",
       "    <tr>\n",
       "      <th>day</th>\n",
       "      <th></th>\n",
       "    </tr>\n",
       "  </thead>\n",
       "  <tbody>\n",
       "    <tr>\n",
       "      <th>2011-11-23</th>\n",
       "      <td>78.968</td>\n",
       "    </tr>\n",
       "    <tr>\n",
       "      <th>2011-11-24</th>\n",
       "      <td>120.029</td>\n",
       "    </tr>\n",
       "    <tr>\n",
       "      <th>2011-11-25</th>\n",
       "      <td>121.263</td>\n",
       "    </tr>\n",
       "    <tr>\n",
       "      <th>2011-11-26</th>\n",
       "      <td>125.614</td>\n",
       "    </tr>\n",
       "    <tr>\n",
       "      <th>2011-11-27</th>\n",
       "      <td>131.695</td>\n",
       "    </tr>\n",
       "  </tbody>\n",
       "</table>\n",
       "</div>"
      ],
      "text/plain": [
       "            consumo_agregado\n",
       "day                         \n",
       "2011-11-23            78.968\n",
       "2011-11-24           120.029\n",
       "2011-11-25           121.263\n",
       "2011-11-26           125.614\n",
       "2011-11-27           131.695"
      ]
     },
     "execution_count": 74,
     "metadata": {},
     "output_type": "execute_result"
    }
   ],
   "source": [
    "df1.head()"
   ]
  },
  {
   "cell_type": "code",
   "execution_count": 0,
   "metadata": {
    "colab": {},
    "colab_type": "code",
    "id": "0xjZyUALh-49"
   },
   "outputs": [],
   "source": []
  },
  {
   "cell_type": "code",
   "execution_count": 76,
   "metadata": {
    "colab": {},
    "colab_type": "code",
    "id": "yDD_G8Tjh-5D"
   },
   "outputs": [],
   "source": [
    "#Cargar dataset de clima\n",
    "clima=pd.read_csv(\"weather_daily_darksky.csv\")\n",
    "#clima=pd.read_csv(\"gdrive/My Drive/Colab Notebooks/Proyecto/daily_dataset/weather_daily_darksky.csv\")"
   ]
  },
  {
   "cell_type": "code",
   "execution_count": 77,
   "metadata": {
    "colab": {
     "base_uri": "https://localhost:8080/"
    },
    "colab_type": "code",
    "executionInfo": {
     "elapsed": 126000,
     "status": "ok",
     "timestamp": 1562646747558,
     "user": {
      "displayName": "Dayana Hernandez",
      "photoUrl": "",
      "userId": "08700700604867881888"
     },
     "user_tz": 240
    },
    "id": "4MzRXZk6h-5F",
    "outputId": "d07194c2-31f7-4f5e-fdf8-210bcd7cb9af"
   },
   "outputs": [
    {
     "data": {
      "text/html": [
       "<div>\n",
       "<style scoped>\n",
       "    .dataframe tbody tr th:only-of-type {\n",
       "        vertical-align: middle;\n",
       "    }\n",
       "\n",
       "    .dataframe tbody tr th {\n",
       "        vertical-align: top;\n",
       "    }\n",
       "\n",
       "    .dataframe thead th {\n",
       "        text-align: right;\n",
       "    }\n",
       "</style>\n",
       "<table border=\"1\" class=\"dataframe\">\n",
       "  <thead>\n",
       "    <tr style=\"text-align: right;\">\n",
       "      <th></th>\n",
       "      <th>temperatureMax</th>\n",
       "      <th>temperatureMaxTime</th>\n",
       "      <th>windBearing</th>\n",
       "      <th>icon</th>\n",
       "      <th>dewPoint</th>\n",
       "      <th>temperatureMinTime</th>\n",
       "      <th>cloudCover</th>\n",
       "      <th>windSpeed</th>\n",
       "      <th>pressure</th>\n",
       "      <th>apparentTemperatureMinTime</th>\n",
       "      <th>...</th>\n",
       "      <th>temperatureHigh</th>\n",
       "      <th>sunriseTime</th>\n",
       "      <th>temperatureHighTime</th>\n",
       "      <th>uvIndexTime</th>\n",
       "      <th>summary</th>\n",
       "      <th>temperatureLowTime</th>\n",
       "      <th>apparentTemperatureMin</th>\n",
       "      <th>apparentTemperatureMaxTime</th>\n",
       "      <th>apparentTemperatureLowTime</th>\n",
       "      <th>moonPhase</th>\n",
       "    </tr>\n",
       "  </thead>\n",
       "  <tbody>\n",
       "    <tr>\n",
       "      <th>0</th>\n",
       "      <td>11.96</td>\n",
       "      <td>2011-11-11 23:00:00</td>\n",
       "      <td>123</td>\n",
       "      <td>fog</td>\n",
       "      <td>9.40</td>\n",
       "      <td>2011-11-11 07:00:00</td>\n",
       "      <td>0.79</td>\n",
       "      <td>3.88</td>\n",
       "      <td>1016.08</td>\n",
       "      <td>2011-11-11 07:00:00</td>\n",
       "      <td>...</td>\n",
       "      <td>10.87</td>\n",
       "      <td>2011-11-11 07:12:14</td>\n",
       "      <td>2011-11-11 19:00:00</td>\n",
       "      <td>2011-11-11 11:00:00</td>\n",
       "      <td>Foggy until afternoon.</td>\n",
       "      <td>2011-11-11 19:00:00</td>\n",
       "      <td>6.48</td>\n",
       "      <td>2011-11-11 23:00:00</td>\n",
       "      <td>2011-11-11 19:00:00</td>\n",
       "      <td>0.52</td>\n",
       "    </tr>\n",
       "    <tr>\n",
       "      <th>1</th>\n",
       "      <td>8.59</td>\n",
       "      <td>2011-12-11 14:00:00</td>\n",
       "      <td>198</td>\n",
       "      <td>partly-cloudy-day</td>\n",
       "      <td>4.49</td>\n",
       "      <td>2011-12-11 01:00:00</td>\n",
       "      <td>0.56</td>\n",
       "      <td>3.94</td>\n",
       "      <td>1007.71</td>\n",
       "      <td>2011-12-11 02:00:00</td>\n",
       "      <td>...</td>\n",
       "      <td>8.59</td>\n",
       "      <td>2011-12-11 07:57:02</td>\n",
       "      <td>2011-12-11 14:00:00</td>\n",
       "      <td>2011-12-11 12:00:00</td>\n",
       "      <td>Partly cloudy throughout the day.</td>\n",
       "      <td>2011-12-12 07:00:00</td>\n",
       "      <td>0.11</td>\n",
       "      <td>2011-12-11 20:00:00</td>\n",
       "      <td>2011-12-12 08:00:00</td>\n",
       "      <td>0.53</td>\n",
       "    </tr>\n",
       "  </tbody>\n",
       "</table>\n",
       "<p>2 rows × 32 columns</p>\n",
       "</div>"
      ],
      "text/plain": [
       "   temperatureMax   temperatureMaxTime  windBearing               icon  \\\n",
       "0           11.96  2011-11-11 23:00:00          123                fog   \n",
       "1            8.59  2011-12-11 14:00:00          198  partly-cloudy-day   \n",
       "\n",
       "   dewPoint   temperatureMinTime  cloudCover  windSpeed  pressure  \\\n",
       "0      9.40  2011-11-11 07:00:00        0.79       3.88   1016.08   \n",
       "1      4.49  2011-12-11 01:00:00        0.56       3.94   1007.71   \n",
       "\n",
       "  apparentTemperatureMinTime    ...     temperatureHigh          sunriseTime  \\\n",
       "0        2011-11-11 07:00:00    ...               10.87  2011-11-11 07:12:14   \n",
       "1        2011-12-11 02:00:00    ...                8.59  2011-12-11 07:57:02   \n",
       "\n",
       "   temperatureHighTime          uvIndexTime  \\\n",
       "0  2011-11-11 19:00:00  2011-11-11 11:00:00   \n",
       "1  2011-12-11 14:00:00  2011-12-11 12:00:00   \n",
       "\n",
       "                             summary   temperatureLowTime  \\\n",
       "0             Foggy until afternoon.  2011-11-11 19:00:00   \n",
       "1  Partly cloudy throughout the day.  2011-12-12 07:00:00   \n",
       "\n",
       "   apparentTemperatureMin  apparentTemperatureMaxTime  \\\n",
       "0                    6.48         2011-11-11 23:00:00   \n",
       "1                    0.11         2011-12-11 20:00:00   \n",
       "\n",
       "  apparentTemperatureLowTime moonPhase  \n",
       "0        2011-11-11 19:00:00      0.52  \n",
       "1        2011-12-12 08:00:00      0.53  \n",
       "\n",
       "[2 rows x 32 columns]"
      ]
     },
     "execution_count": 77,
     "metadata": {},
     "output_type": "execute_result"
    }
   ],
   "source": [
    "clima.head(2)"
   ]
  },
  {
   "cell_type": "code",
   "execution_count": 78,
   "metadata": {
    "colab": {
     "base_uri": "https://localhost:8080/"
    },
    "colab_type": "code",
    "executionInfo": {
     "elapsed": 125987,
     "status": "ok",
     "timestamp": 1562646747561,
     "user": {
      "displayName": "Dayana Hernandez",
      "photoUrl": "",
      "userId": "08700700604867881888"
     },
     "user_tz": 240
    },
    "id": "3bHa4-Jvh-5H",
    "outputId": "a7123558-5b28-4445-d01e-c37520a3a19b"
   },
   "outputs": [
    {
     "data": {
      "text/plain": [
       "Index(['temperatureMax', 'temperatureMaxTime', 'windBearing', 'icon',\n",
       "       'dewPoint', 'temperatureMinTime', 'cloudCover', 'windSpeed', 'pressure',\n",
       "       'apparentTemperatureMinTime', 'apparentTemperatureHigh', 'precipType',\n",
       "       'visibility', 'humidity', 'apparentTemperatureHighTime',\n",
       "       'apparentTemperatureLow', 'apparentTemperatureMax', 'uvIndex', 'time',\n",
       "       'sunsetTime', 'temperatureLow', 'temperatureMin', 'temperatureHigh',\n",
       "       'sunriseTime', 'temperatureHighTime', 'uvIndexTime', 'summary',\n",
       "       'temperatureLowTime', 'apparentTemperatureMin',\n",
       "       'apparentTemperatureMaxTime', 'apparentTemperatureLowTime',\n",
       "       'moonPhase'],\n",
       "      dtype='object')"
      ]
     },
     "execution_count": 78,
     "metadata": {},
     "output_type": "execute_result"
    }
   ],
   "source": [
    "clima.columns"
   ]
  },
  {
   "cell_type": "code",
   "execution_count": 79,
   "metadata": {
    "colab": {},
    "colab_type": "code",
    "id": "fovpxYTDh-5L"
   },
   "outputs": [],
   "source": [
    "#clima.dtypes"
   ]
  },
  {
   "cell_type": "code",
   "execution_count": null,
   "metadata": {
    "colab": {},
    "colab_type": "code",
    "id": "ye8jSL-zh-5N"
   },
   "outputs": [],
   "source": []
  },
  {
   "cell_type": "code",
   "execution_count": null,
   "metadata": {
    "colab": {},
    "colab_type": "code",
    "id": "OcEbn0Bph-5O"
   },
   "outputs": [],
   "source": []
  },
  {
   "cell_type": "code",
   "execution_count": 80,
   "metadata": {
    "colab": {},
    "colab_type": "code",
    "id": "vWiunURyh-5Q"
   },
   "outputs": [],
   "source": [
    "clima['day']=  pd.to_datetime(clima['time']) # day is given as timestamp\n",
    "clima['day']=  pd.to_datetime(clima['day'],format='%Y%m%d').dt.date"
   ]
  },
  {
   "cell_type": "code",
   "execution_count": 81,
   "metadata": {
    "colab": {
     "base_uri": "https://localhost:8080/"
    },
    "colab_type": "code",
    "executionInfo": {
     "elapsed": 125983,
     "status": "ok",
     "timestamp": 1562646747582,
     "user": {
      "displayName": "Dayana Hernandez",
      "photoUrl": "",
      "userId": "08700700604867881888"
     },
     "user_tz": 240
    },
    "id": "3t1ZLQc4h-5S",
    "outputId": "e543f7b5-b68b-4652-c5fc-23d7a7e93d44"
   },
   "outputs": [
    {
     "data": {
      "text/plain": [
       "temperatureMax                 float64\n",
       "temperatureMaxTime              object\n",
       "windBearing                      int64\n",
       "icon                            object\n",
       "dewPoint                       float64\n",
       "temperatureMinTime              object\n",
       "cloudCover                     float64\n",
       "windSpeed                      float64\n",
       "pressure                       float64\n",
       "apparentTemperatureMinTime      object\n",
       "apparentTemperatureHigh        float64\n",
       "precipType                      object\n",
       "visibility                     float64\n",
       "humidity                       float64\n",
       "apparentTemperatureHighTime     object\n",
       "apparentTemperatureLow         float64\n",
       "apparentTemperatureMax         float64\n",
       "uvIndex                        float64\n",
       "time                            object\n",
       "sunsetTime                      object\n",
       "temperatureLow                 float64\n",
       "temperatureMin                 float64\n",
       "temperatureHigh                float64\n",
       "sunriseTime                     object\n",
       "temperatureHighTime             object\n",
       "uvIndexTime                     object\n",
       "summary                         object\n",
       "temperatureLowTime              object\n",
       "apparentTemperatureMin         float64\n",
       "apparentTemperatureMaxTime      object\n",
       "apparentTemperatureLowTime      object\n",
       "moonPhase                      float64\n",
       "day                             object\n",
       "dtype: object"
      ]
     },
     "execution_count": 81,
     "metadata": {},
     "output_type": "execute_result"
    }
   ],
   "source": [
    "clima.dtypes"
   ]
  },
  {
   "cell_type": "code",
   "execution_count": 82,
   "metadata": {
    "colab": {},
    "colab_type": "code",
    "id": "BLhmZxIOh-5Y"
   },
   "outputs": [],
   "source": [
    "clima1=clima[['temperatureMax', 'windSpeed', 'humidity', 'day']]"
   ]
  },
  {
   "cell_type": "code",
   "execution_count": 83,
   "metadata": {
    "colab": {
     "base_uri": "https://localhost:8080/"
    },
    "colab_type": "code",
    "executionInfo": {
     "elapsed": 125973,
     "status": "ok",
     "timestamp": 1562646747591,
     "user": {
      "displayName": "Dayana Hernandez",
      "photoUrl": "",
      "userId": "08700700604867881888"
     },
     "user_tz": 240
    },
    "id": "lqdilUNxh-5c",
    "outputId": "08cce6f3-ee11-4917-daca-8810bf625981"
   },
   "outputs": [
    {
     "data": {
      "text/plain": [
       "temperatureMax    float64\n",
       "windSpeed         float64\n",
       "humidity          float64\n",
       "day                object\n",
       "dtype: object"
      ]
     },
     "execution_count": 83,
     "metadata": {},
     "output_type": "execute_result"
    }
   ],
   "source": [
    "clima1.dtypes"
   ]
  },
  {
   "cell_type": "code",
   "execution_count": 84,
   "metadata": {
    "colab": {
     "base_uri": "https://localhost:8080/"
    },
    "colab_type": "code",
    "executionInfo": {
     "elapsed": 126466,
     "status": "ok",
     "timestamp": 1562646748102,
     "user": {
      "displayName": "Dayana Hernandez",
      "photoUrl": "",
      "userId": "08700700604867881888"
     },
     "user_tz": 240
    },
    "id": "-iJgvvAyh-5i",
    "outputId": "ee0dfafe-98ee-4312-9ec8-14b40dc9c6dd"
   },
   "outputs": [
    {
     "name": "stderr",
     "output_type": "stream",
     "text": [
      "C:\\Users\\Dayana\\Anaconda3\\lib\\site-packages\\ipykernel_launcher.py:1: SettingWithCopyWarning: \n",
      "A value is trying to be set on a copy of a slice from a DataFrame.\n",
      "Try using .loc[row_indexer,col_indexer] = value instead\n",
      "\n",
      "See the caveats in the documentation: http://pandas.pydata.org/pandas-docs/stable/indexing.html#indexing-view-versus-copy\n",
      "  \"\"\"Entry point for launching an IPython kernel.\n"
     ]
    }
   ],
   "source": [
    "clima1['day']=  pd.to_datetime(clima1['day']) "
   ]
  },
  {
   "cell_type": "code",
   "execution_count": 85,
   "metadata": {
    "colab": {
     "base_uri": "https://localhost:8080/"
    },
    "colab_type": "code",
    "executionInfo": {
     "elapsed": 126276,
     "status": "ok",
     "timestamp": 1562646748104,
     "user": {
      "displayName": "Dayana Hernandez",
      "photoUrl": "",
      "userId": "08700700604867881888"
     },
     "user_tz": 240
    },
    "id": "Hsbt1Hwph-5l",
    "outputId": "0223ca50-d3cc-4635-ec59-dffa9e245e90"
   },
   "outputs": [
    {
     "data": {
      "text/plain": [
       "temperatureMax           float64\n",
       "windSpeed                float64\n",
       "humidity                 float64\n",
       "day               datetime64[ns]\n",
       "dtype: object"
      ]
     },
     "execution_count": 85,
     "metadata": {},
     "output_type": "execute_result"
    }
   ],
   "source": [
    "clima1.dtypes"
   ]
  },
  {
   "cell_type": "code",
   "execution_count": null,
   "metadata": {
    "colab": {},
    "colab_type": "code",
    "id": "vDYfu3BLh-5r"
   },
   "outputs": [],
   "source": []
  },
  {
   "cell_type": "code",
   "execution_count": 86,
   "metadata": {
    "colab": {},
    "colab_type": "code",
    "id": "NAOrYBU7h-5s"
   },
   "outputs": [],
   "source": [
    "clima1.set_index('day', inplace=True)"
   ]
  },
  {
   "cell_type": "code",
   "execution_count": 87,
   "metadata": {
    "colab": {
     "base_uri": "https://localhost:8080/"
    },
    "colab_type": "code",
    "executionInfo": {
     "elapsed": 126133,
     "status": "ok",
     "timestamp": 1562646748116,
     "user": {
      "displayName": "Dayana Hernandez",
      "photoUrl": "",
      "userId": "08700700604867881888"
     },
     "user_tz": 240
    },
    "id": "0NA9s2bph-5u",
    "outputId": "8ddc1577-be3b-46af-bf4f-162c38e867fc"
   },
   "outputs": [
    {
     "data": {
      "text/html": [
       "<div>\n",
       "<style scoped>\n",
       "    .dataframe tbody tr th:only-of-type {\n",
       "        vertical-align: middle;\n",
       "    }\n",
       "\n",
       "    .dataframe tbody tr th {\n",
       "        vertical-align: top;\n",
       "    }\n",
       "\n",
       "    .dataframe thead th {\n",
       "        text-align: right;\n",
       "    }\n",
       "</style>\n",
       "<table border=\"1\" class=\"dataframe\">\n",
       "  <thead>\n",
       "    <tr style=\"text-align: right;\">\n",
       "      <th></th>\n",
       "      <th>temperatureMax</th>\n",
       "      <th>windSpeed</th>\n",
       "      <th>humidity</th>\n",
       "    </tr>\n",
       "    <tr>\n",
       "      <th>day</th>\n",
       "      <th></th>\n",
       "      <th></th>\n",
       "      <th></th>\n",
       "    </tr>\n",
       "  </thead>\n",
       "  <tbody>\n",
       "    <tr>\n",
       "      <th>2011-11-11</th>\n",
       "      <td>11.96</td>\n",
       "      <td>3.88</td>\n",
       "      <td>0.95</td>\n",
       "    </tr>\n",
       "    <tr>\n",
       "      <th>2011-12-11</th>\n",
       "      <td>8.59</td>\n",
       "      <td>3.94</td>\n",
       "      <td>0.88</td>\n",
       "    </tr>\n",
       "    <tr>\n",
       "      <th>2011-12-27</th>\n",
       "      <td>10.33</td>\n",
       "      <td>3.54</td>\n",
       "      <td>0.74</td>\n",
       "    </tr>\n",
       "    <tr>\n",
       "      <th>2011-12-02</th>\n",
       "      <td>8.07</td>\n",
       "      <td>3.00</td>\n",
       "      <td>0.87</td>\n",
       "    </tr>\n",
       "    <tr>\n",
       "      <th>2011-12-24</th>\n",
       "      <td>8.22</td>\n",
       "      <td>4.46</td>\n",
       "      <td>0.80</td>\n",
       "    </tr>\n",
       "  </tbody>\n",
       "</table>\n",
       "</div>"
      ],
      "text/plain": [
       "            temperatureMax  windSpeed  humidity\n",
       "day                                            \n",
       "2011-11-11           11.96       3.88      0.95\n",
       "2011-12-11            8.59       3.94      0.88\n",
       "2011-12-27           10.33       3.54      0.74\n",
       "2011-12-02            8.07       3.00      0.87\n",
       "2011-12-24            8.22       4.46      0.80"
      ]
     },
     "execution_count": 87,
     "metadata": {},
     "output_type": "execute_result"
    }
   ],
   "source": [
    "clima1.head()"
   ]
  },
  {
   "cell_type": "code",
   "execution_count": 88,
   "metadata": {
    "colab": {
     "base_uri": "https://localhost:8080/"
    },
    "colab_type": "code",
    "executionInfo": {
     "elapsed": 126124,
     "status": "ok",
     "timestamp": 1562646748117,
     "user": {
      "displayName": "Dayana Hernandez",
      "photoUrl": "",
      "userId": "08700700604867881888"
     },
     "user_tz": 240
    },
    "id": "7zfNjIoMh-5x",
    "outputId": "4b489852-2b62-4307-de74-6d212a3389c6"
   },
   "outputs": [
    {
     "data": {
      "text/plain": [
       "temperatureMax    float64\n",
       "windSpeed         float64\n",
       "humidity          float64\n",
       "dtype: object"
      ]
     },
     "execution_count": 88,
     "metadata": {},
     "output_type": "execute_result"
    }
   ],
   "source": [
    "clima1.dtypes"
   ]
  },
  {
   "cell_type": "code",
   "execution_count": 89,
   "metadata": {
    "colab": {
     "base_uri": "https://localhost:8080/"
    },
    "colab_type": "code",
    "executionInfo": {
     "elapsed": 126113,
     "status": "ok",
     "timestamp": 1562646748119,
     "user": {
      "displayName": "Dayana Hernandez",
      "photoUrl": "",
      "userId": "08700700604867881888"
     },
     "user_tz": 240
    },
    "id": "9p0CtkYhh-52",
    "outputId": "77d82f7c-40a3-4df4-a027-14e0ad73ca18"
   },
   "outputs": [
    {
     "data": {
      "text/plain": [
       "Int64Index([11, 12, 5, 7, 9, 1, 4, 2, 8, 3, 6, 10], dtype='int64', name='day')"
      ]
     },
     "execution_count": 89,
     "metadata": {},
     "output_type": "execute_result"
    }
   ],
   "source": [
    "clima1.index.month.unique()"
   ]
  },
  {
   "cell_type": "code",
   "execution_count": 0,
   "metadata": {
    "colab": {},
    "colab_type": "code",
    "id": "F7-9B5wvh-54"
   },
   "outputs": [],
   "source": []
  },
  {
   "cell_type": "code",
   "execution_count": 90,
   "metadata": {
    "colab": {},
    "colab_type": "code",
    "id": "Vc1jjNWOh-6K"
   },
   "outputs": [],
   "source": [
    "#Dataset usado en la prueba que registra el consumo energético y los datos climatológicos por día\n",
    "df=pd.merge(df1, clima1, on='day')"
   ]
  },
  {
   "cell_type": "code",
   "execution_count": 91,
   "metadata": {
    "colab": {
     "base_uri": "https://localhost:8080/"
    },
    "colab_type": "code",
    "executionInfo": {
     "elapsed": 126050,
     "status": "ok",
     "timestamp": 1562646748139,
     "user": {
      "displayName": "Dayana Hernandez",
      "photoUrl": "",
      "userId": "08700700604867881888"
     },
     "user_tz": 240
    },
    "id": "5SFzC1wFh-6N",
    "outputId": "d321ddb2-0f54-451e-d12f-72111c0150fe"
   },
   "outputs": [
    {
     "data": {
      "text/html": [
       "<div>\n",
       "<style scoped>\n",
       "    .dataframe tbody tr th:only-of-type {\n",
       "        vertical-align: middle;\n",
       "    }\n",
       "\n",
       "    .dataframe tbody tr th {\n",
       "        vertical-align: top;\n",
       "    }\n",
       "\n",
       "    .dataframe thead th {\n",
       "        text-align: right;\n",
       "    }\n",
       "</style>\n",
       "<table border=\"1\" class=\"dataframe\">\n",
       "  <thead>\n",
       "    <tr style=\"text-align: right;\">\n",
       "      <th></th>\n",
       "      <th>consumo_agregado</th>\n",
       "      <th>temperatureMax</th>\n",
       "      <th>windSpeed</th>\n",
       "      <th>humidity</th>\n",
       "    </tr>\n",
       "    <tr>\n",
       "      <th>day</th>\n",
       "      <th></th>\n",
       "      <th></th>\n",
       "      <th></th>\n",
       "      <th></th>\n",
       "    </tr>\n",
       "  </thead>\n",
       "  <tbody>\n",
       "    <tr>\n",
       "      <th>2011-11-23</th>\n",
       "      <td>78.968</td>\n",
       "      <td>10.36</td>\n",
       "      <td>2.04</td>\n",
       "      <td>0.93</td>\n",
       "    </tr>\n",
       "    <tr>\n",
       "      <th>2011-11-24</th>\n",
       "      <td>120.029</td>\n",
       "      <td>12.93</td>\n",
       "      <td>4.04</td>\n",
       "      <td>0.89</td>\n",
       "    </tr>\n",
       "    <tr>\n",
       "      <th>2011-11-25</th>\n",
       "      <td>121.263</td>\n",
       "      <td>13.03</td>\n",
       "      <td>5.02</td>\n",
       "      <td>0.79</td>\n",
       "    </tr>\n",
       "    <tr>\n",
       "      <th>2011-11-26</th>\n",
       "      <td>125.614</td>\n",
       "      <td>12.96</td>\n",
       "      <td>5.75</td>\n",
       "      <td>0.81</td>\n",
       "    </tr>\n",
       "    <tr>\n",
       "      <th>2011-11-27</th>\n",
       "      <td>131.695</td>\n",
       "      <td>13.54</td>\n",
       "      <td>5.48</td>\n",
       "      <td>0.72</td>\n",
       "    </tr>\n",
       "  </tbody>\n",
       "</table>\n",
       "</div>"
      ],
      "text/plain": [
       "            consumo_agregado  temperatureMax  windSpeed  humidity\n",
       "day                                                              \n",
       "2011-11-23            78.968           10.36       2.04      0.93\n",
       "2011-11-24           120.029           12.93       4.04      0.89\n",
       "2011-11-25           121.263           13.03       5.02      0.79\n",
       "2011-11-26           125.614           12.96       5.75      0.81\n",
       "2011-11-27           131.695           13.54       5.48      0.72"
      ]
     },
     "execution_count": 91,
     "metadata": {},
     "output_type": "execute_result"
    }
   ],
   "source": [
    "df.head()"
   ]
  },
  {
   "cell_type": "code",
   "execution_count": 94,
   "metadata": {
    "colab": {
     "base_uri": "https://localhost:8080/"
    },
    "colab_type": "code",
    "executionInfo": {
     "elapsed": 126033,
     "status": "ok",
     "timestamp": 1562646748141,
     "user": {
      "displayName": "Dayana Hernandez",
      "photoUrl": "",
      "userId": "08700700604867881888"
     },
     "user_tz": 240
    },
    "id": "u0z3Emd1h-6P",
    "outputId": "cca6a709-21e7-4090-b4b8-3193ca3ca0a6"
   },
   "outputs": [
    {
     "data": {
      "text/plain": [
       "829"
      ]
     },
     "execution_count": 94,
     "metadata": {},
     "output_type": "execute_result"
    }
   ],
   "source": [
    "len(df)"
   ]
  },
  {
   "cell_type": "code",
   "execution_count": 95,
   "metadata": {
    "colab": {
     "base_uri": "https://localhost:8080/"
    },
    "colab_type": "code",
    "executionInfo": {
     "elapsed": 127717,
     "status": "ok",
     "timestamp": 1562646749836,
     "user": {
      "displayName": "Dayana Hernandez",
      "photoUrl": "",
      "userId": "08700700604867881888"
     },
     "user_tz": 240
    },
    "id": "iL11aOGMh-6S",
    "outputId": "9a79e57c-c0a9-4841-db14-daf75a2832ce"
   },
   "outputs": [
    {
     "data": {
      "text/plain": [
       "<matplotlib.axes._subplots.AxesSubplot at 0x1d4159eee80>"
      ]
     },
     "execution_count": 95,
     "metadata": {},
     "output_type": "execute_result"
    },
    {
     "data": {
      "image/png": "[encoded data removed]",
      "text/plain": [
       "<Figure size 864x648 with 1 Axes>"
      ]
     },
     "metadata": {
      "needs_background": "light"
     },
     "output_type": "display_data"
    }
   ],
   "source": [
    "#Visualización de las variables del dataset\n",
    "df.plot(figsize=(12, 9))"
   ]
  },
  {
   "cell_type": "code",
   "execution_count": 0,
   "metadata": {
    "colab": {},
    "colab_type": "code",
    "id": "EXqbtsmIh-6W"
   },
   "outputs": [],
   "source": []
  },
  {
   "cell_type": "code",
   "execution_count": 96,
   "metadata": {
    "colab": {
     "base_uri": "https://localhost:8080/"
    },
    "colab_type": "code",
    "executionInfo": {
     "elapsed": 129283,
     "status": "ok",
     "timestamp": 1562646751415,
     "user": {
      "displayName": "Dayana Hernandez",
      "photoUrl": "",
      "userId": "08700700604867881888"
     },
     "user_tz": 240
    },
    "id": "bz5zpbSSh-6Y",
    "outputId": "95fd8e62-94b5-45e3-b119-ac946d8788cd"
   },
   "outputs": [
    {
     "data": {
      "image/png": "[encoded data removed]",
      "text/plain": [
       "<Figure size 792x648 with 4 Axes>"
      ]
     },
     "metadata": {
      "needs_background": "light"
     },
     "output_type": "display_data"
    }
   ],
   "source": [
    "#Visualización de los datos\n",
    "cols_plot = ['consumo_agregado', 'temperatureMax', 'windSpeed', 'humidity']\n",
    "axes = df[cols_plot].plot(marker='.', alpha=0.5, linestyle='None', figsize=(11, 9), subplots=True)\n",
    "for ax in axes:\n",
    "    ax.set_ylabel('Dataset')"
   ]
  },
  {
   "cell_type": "code",
   "execution_count": 97,
   "metadata": {
    "colab": {},
    "colab_type": "code",
    "id": "3j_oqFNMh-6a"
   },
   "outputs": [],
   "source": [
    "matrizcorrelacion = df.corr()"
   ]
  },
  {
   "cell_type": "code",
   "execution_count": 98,
   "metadata": {
    "colab": {
     "base_uri": "https://localhost:8080/"
    },
    "colab_type": "code",
    "executionInfo": {
     "elapsed": 129278,
     "status": "ok",
     "timestamp": 1562646751423,
     "user": {
      "displayName": "Dayana Hernandez",
      "photoUrl": "",
      "userId": "08700700604867881888"
     },
     "user_tz": 240
    },
    "id": "wsVRx51Ah-6b",
    "outputId": "f25900a1-765c-4faf-8c11-40c4ac4ad33d"
   },
   "outputs": [
    {
     "data": {
      "text/html": [
       "<div>\n",
       "<style scoped>\n",
       "    .dataframe tbody tr th:only-of-type {\n",
       "        vertical-align: middle;\n",
       "    }\n",
       "\n",
       "    .dataframe tbody tr th {\n",
       "        vertical-align: top;\n",
       "    }\n",
       "\n",
       "    .dataframe thead th {\n",
       "        text-align: right;\n",
       "    }\n",
       "</style>\n",
       "<table border=\"1\" class=\"dataframe\">\n",
       "  <thead>\n",
       "    <tr style=\"text-align: right;\">\n",
       "      <th></th>\n",
       "      <th>consumo_agregado</th>\n",
       "      <th>temperatureMax</th>\n",
       "      <th>windSpeed</th>\n",
       "      <th>humidity</th>\n",
       "    </tr>\n",
       "  </thead>\n",
       "  <tbody>\n",
       "    <tr>\n",
       "      <th>consumo_agregado</th>\n",
       "      <td>1.000000</td>\n",
       "      <td>-0.774438</td>\n",
       "      <td>0.158224</td>\n",
       "      <td>0.301133</td>\n",
       "    </tr>\n",
       "    <tr>\n",
       "      <th>temperatureMax</th>\n",
       "      <td>-0.774438</td>\n",
       "      <td>1.000000</td>\n",
       "      <td>-0.154118</td>\n",
       "      <td>-0.405068</td>\n",
       "    </tr>\n",
       "    <tr>\n",
       "      <th>windSpeed</th>\n",
       "      <td>0.158224</td>\n",
       "      <td>-0.154118</td>\n",
       "      <td>1.000000</td>\n",
       "      <td>-0.040131</td>\n",
       "    </tr>\n",
       "    <tr>\n",
       "      <th>humidity</th>\n",
       "      <td>0.301133</td>\n",
       "      <td>-0.405068</td>\n",
       "      <td>-0.040131</td>\n",
       "      <td>1.000000</td>\n",
       "    </tr>\n",
       "  </tbody>\n",
       "</table>\n",
       "</div>"
      ],
      "text/plain": [
       "                  consumo_agregado  temperatureMax  windSpeed  humidity\n",
       "consumo_agregado          1.000000       -0.774438   0.158224  0.301133\n",
       "temperatureMax           -0.774438        1.000000  -0.154118 -0.405068\n",
       "windSpeed                 0.158224       -0.154118   1.000000 -0.040131\n",
       "humidity                  0.301133       -0.405068  -0.040131  1.000000"
      ]
     },
     "execution_count": 98,
     "metadata": {},
     "output_type": "execute_result"
    }
   ],
   "source": [
    "matrizcorrelacion"
   ]
  },
  {
   "cell_type": "code",
   "execution_count": 99,
   "metadata": {
    "colab": {
     "base_uri": "https://localhost:8080/"
    },
    "colab_type": "code",
    "executionInfo": {
     "elapsed": 129267,
     "status": "ok",
     "timestamp": 1562646751425,
     "user": {
      "displayName": "Dayana Hernandez",
      "photoUrl": "",
      "userId": "08700700604867881888"
     },
     "user_tz": 240
    },
    "id": "qBcg039_h-6f",
    "outputId": "d3ff7500-203e-4f7f-eca9-be170099af83"
   },
   "outputs": [
    {
     "name": "stdout",
     "output_type": "stream",
     "text": [
      "Starting Point of Data at Day Level 2011-11-23 00:00:00\n",
      "Ending Point of Data at Day Level 2014-02-28 00:00:00\n"
     ]
    }
   ],
   "source": [
    "print(\"Starting Point of Data at Day Level\",min(df1.index))\n",
    "print(\"Ending Point of Data at Day Level\",max(df1.index))"
   ]
  },
  {
   "cell_type": "code",
   "execution_count": 0,
   "metadata": {
    "colab": {},
    "colab_type": "code",
    "id": "r0M3Ri06h-8r"
   },
   "outputs": [],
   "source": []
  },
  {
   "cell_type": "code",
   "execution_count": 0,
   "metadata": {
    "colab": {},
    "colab_type": "code",
    "id": "wXEi9O7ch-8u"
   },
   "outputs": [],
   "source": [
    "\n",
    "#https://github.com/ShashwatArghode/Wind-Energy-Prediction-using-LSTM/blob/master/Exp1-Estimation-8%20look%20backs%2070-30%20split.ipynb"
   ]
  },
  {
   "cell_type": "code",
   "execution_count": 101,
   "metadata": {
    "colab": {
     "base_uri": "https://localhost:8080/"
    },
    "colab_type": "code",
    "executionInfo": {
     "elapsed": 751,
     "status": "ok",
     "timestamp": 1562647544331,
     "user": {
      "displayName": "Dayana Hernandez",
      "photoUrl": "",
      "userId": "08700700604867881888"
     },
     "user_tz": 240
    },
    "id": "LeWZYNUGh-8v",
    "outputId": "dbe33e5d-5aca-4482-bc0b-bbdf7e87f3fa"
   },
   "outputs": [
    {
     "data": {
      "text/html": [
       "<div>\n",
       "<style scoped>\n",
       "    .dataframe tbody tr th:only-of-type {\n",
       "        vertical-align: middle;\n",
       "    }\n",
       "\n",
       "    .dataframe tbody tr th {\n",
       "        vertical-align: top;\n",
       "    }\n",
       "\n",
       "    .dataframe thead th {\n",
       "        text-align: right;\n",
       "    }\n",
       "</style>\n",
       "<table border=\"1\" class=\"dataframe\">\n",
       "  <thead>\n",
       "    <tr style=\"text-align: right;\">\n",
       "      <th></th>\n",
       "      <th>consumo_agregado</th>\n",
       "      <th>temperatureMax</th>\n",
       "      <th>windSpeed</th>\n",
       "      <th>humidity</th>\n",
       "    </tr>\n",
       "    <tr>\n",
       "      <th>day</th>\n",
       "      <th></th>\n",
       "      <th></th>\n",
       "      <th></th>\n",
       "      <th></th>\n",
       "    </tr>\n",
       "  </thead>\n",
       "  <tbody>\n",
       "    <tr>\n",
       "      <th>2011-11-23</th>\n",
       "      <td>78.968</td>\n",
       "      <td>10.36</td>\n",
       "      <td>2.04</td>\n",
       "      <td>0.93</td>\n",
       "    </tr>\n",
       "    <tr>\n",
       "      <th>2011-11-24</th>\n",
       "      <td>120.029</td>\n",
       "      <td>12.93</td>\n",
       "      <td>4.04</td>\n",
       "      <td>0.89</td>\n",
       "    </tr>\n",
       "    <tr>\n",
       "      <th>2011-11-25</th>\n",
       "      <td>121.263</td>\n",
       "      <td>13.03</td>\n",
       "      <td>5.02</td>\n",
       "      <td>0.79</td>\n",
       "    </tr>\n",
       "    <tr>\n",
       "      <th>2011-11-26</th>\n",
       "      <td>125.614</td>\n",
       "      <td>12.96</td>\n",
       "      <td>5.75</td>\n",
       "      <td>0.81</td>\n",
       "    </tr>\n",
       "    <tr>\n",
       "      <th>2011-11-27</th>\n",
       "      <td>131.695</td>\n",
       "      <td>13.54</td>\n",
       "      <td>5.48</td>\n",
       "      <td>0.72</td>\n",
       "    </tr>\n",
       "  </tbody>\n",
       "</table>\n",
       "</div>"
      ],
      "text/plain": [
       "            consumo_agregado  temperatureMax  windSpeed  humidity\n",
       "day                                                              \n",
       "2011-11-23            78.968           10.36       2.04      0.93\n",
       "2011-11-24           120.029           12.93       4.04      0.89\n",
       "2011-11-25           121.263           13.03       5.02      0.79\n",
       "2011-11-26           125.614           12.96       5.75      0.81\n",
       "2011-11-27           131.695           13.54       5.48      0.72"
      ]
     },
     "execution_count": 101,
     "metadata": {},
     "output_type": "execute_result"
    }
   ],
   "source": [
    "df.head()"
   ]
  },
  {
   "cell_type": "code",
   "execution_count": 0,
   "metadata": {
    "colab": {},
    "colab_type": "code",
    "id": "sH2oNKFth-8z"
   },
   "outputs": [],
   "source": []
  },
  {
   "cell_type": "code",
   "execution_count": 0,
   "metadata": {
    "colab": {},
    "colab_type": "code",
    "id": "3VKI2Umqh-80"
   },
   "outputs": [],
   "source": []
  },
  {
   "cell_type": "code",
   "execution_count": 102,
   "metadata": {
    "colab": {},
    "colab_type": "code",
    "id": "CcNjPWJQh-84"
   },
   "outputs": [],
   "source": [
    "dataset = df.values\n",
    "dataset = dataset.astype('float32')\n"
   ]
  },
  {
   "cell_type": "code",
   "execution_count": 103,
   "metadata": {
    "colab": {},
    "colab_type": "code",
    "id": "XA5qpA-uh-85"
   },
   "outputs": [],
   "source": [
    "# normalizamos el conjunto de datos\n",
    "scaler = MinMaxScaler(feature_range=(0, 1))\n",
    "dataset = scaler.fit_transform(dataset)"
   ]
  },
  {
   "cell_type": "code",
   "execution_count": 104,
   "metadata": {
    "colab": {
     "base_uri": "https://localhost:8080/",
     "height": 138
    },
    "colab_type": "code",
    "executionInfo": {
     "elapsed": 2780,
     "status": "ok",
     "timestamp": 1562647853595,
     "user": {
      "displayName": "Dayana Hernandez",
      "photoUrl": "",
      "userId": "08700700604867881888"
     },
     "user_tz": 240
    },
    "id": "GeO8msznh-87",
    "outputId": "ce06629d-0392-4c57-a6a7-e07e79491d03"
   },
   "outputs": [
    {
     "data": {
      "text/plain": [
       "array([[0.40431684, 0.32101044, 0.18852457, 0.9090909 ],\n",
       "       [0.6241801 , 0.4001848 , 0.3934426 , 0.83636355],\n",
       "       [0.6307876 , 0.4032655 , 0.49385247, 0.6545454 ],\n",
       "       ...,\n",
       "       [0.61760473, 0.34966108, 0.3709016 , 0.5454546 ],\n",
       "       [0.5874854 , 0.3194701 , 0.4036885 , 0.5636364 ],\n",
       "       [0.        , 0.22828095, 0.20901638, 0.78181815]], dtype=float32)"
      ]
     },
     "execution_count": 104,
     "metadata": {},
     "output_type": "execute_result"
    }
   ],
   "source": [
    "dataset"
   ]
  },
  {
   "cell_type": "code",
   "execution_count": null,
   "metadata": {
    "colab": {},
    "colab_type": "code",
    "id": "0cPLh9T2h-89"
   },
   "outputs": [],
   "source": []
  },
  {
   "cell_type": "code",
   "execution_count": 105,
   "metadata": {
    "colab": {
     "base_uri": "https://localhost:8080/",
     "height": 34
    },
    "colab_type": "code",
    "executionInfo": {
     "elapsed": 2587,
     "status": "ok",
     "timestamp": 1562647860151,
     "user": {
      "displayName": "Dayana Hernandez",
      "photoUrl": "",
      "userId": "08700700604867881888"
     },
     "user_tz": 240
    },
    "id": "eNwrcPVch-8-",
    "outputId": "1715a685-c199-45c2-c231-be946579a414"
   },
   "outputs": [
    {
     "name": "stdout",
     "output_type": "stream",
     "text": [
      "580 249\n"
     ]
    }
   ],
   "source": [
    "''' Dividiendo los datos en training y test '''\n",
    "#dataset = df1.values\n",
    "train_size = int(len(dataset) * 0.70)\n",
    "test_size = len(dataset) - train_size\n",
    "train, test = dataset[0:train_size,:], dataset[train_size:len(dataset),:]\n",
    "print(len(train), len(test))"
   ]
  },
  {
   "cell_type": "code",
   "execution_count": 106,
   "metadata": {
    "colab": {
     "base_uri": "https://localhost:8080/",
     "height": 138
    },
    "colab_type": "code",
    "executionInfo": {
     "elapsed": 1133,
     "status": "ok",
     "timestamp": 1562647865971,
     "user": {
      "displayName": "Dayana Hernandez",
      "photoUrl": "",
      "userId": "08700700604867881888"
     },
     "user_tz": 240
    },
    "id": "WVmjX_Ugh-9D",
    "outputId": "34f18f99-f84e-4c46-cfbd-ab027290de3b"
   },
   "outputs": [
    {
     "data": {
      "text/plain": [
       "array([[0.40431684, 0.32101044, 0.18852457, 0.9090909 ],\n",
       "       [0.6241801 , 0.4001848 , 0.3934426 , 0.83636355],\n",
       "       [0.6307876 , 0.4032655 , 0.49385247, 0.6545454 ],\n",
       "       ...,\n",
       "       [0.4186938 , 0.54220575, 0.6741803 , 0.690909  ],\n",
       "       [0.47996596, 0.5104744 , 0.62295085, 0.5999999 ],\n",
       "       [0.52502453, 0.49784347, 0.40573767, 0.4181819 ]], dtype=float32)"
      ]
     },
     "execution_count": 106,
     "metadata": {},
     "output_type": "execute_result"
    }
   ],
   "source": [
    "train"
   ]
  },
  {
   "cell_type": "code",
   "execution_count": 107,
   "metadata": {
    "colab": {},
    "colab_type": "code",
    "id": "LeNiYZDGh-9G"
   },
   "outputs": [],
   "source": [
    "'''Función para crear tramas de tiempo con look backs '''\n",
    "def create_dataset(dataset, look_back=1):\n",
    "    dataX, dataY = [], []\n",
    "    for i in range(len(dataset) - look_back):\n",
    "        a = dataset[i:(i + look_back), :]\n",
    "        dataX.append(a)\n",
    "        dataY.append(dataset[i + look_back, 0])\n",
    "    print(len(dataY))\n",
    "    return np.array(dataX), np.array(dataY)"
   ]
  },
  {
   "cell_type": "code",
   "execution_count": null,
   "metadata": {
    "colab": {},
    "colab_type": "code",
    "id": "La-sa9Awh-9H"
   },
   "outputs": [],
   "source": []
  },
  {
   "cell_type": "code",
   "execution_count": null,
   "metadata": {
    "colab": {},
    "colab_type": "code",
    "id": "XPkiW4GAh-9I"
   },
   "outputs": [],
   "source": []
  },
  {
   "cell_type": "code",
   "execution_count": 108,
   "metadata": {
    "colab": {
     "base_uri": "https://localhost:8080/",
     "height": 52
    },
    "colab_type": "code",
    "executionInfo": {
     "elapsed": 973,
     "status": "ok",
     "timestamp": 1562647880398,
     "user": {
      "displayName": "Dayana Hernandez",
      "photoUrl": "",
      "userId": "08700700604867881888"
     },
     "user_tz": 240
    },
    "id": "fTYyDk_4h-9J",
    "outputId": "c0eccdb6-85f0-4b33-f614-52acd6c05211"
   },
   "outputs": [
    {
     "name": "stdout",
     "output_type": "stream",
     "text": [
      "575\n",
      "244\n"
     ]
    }
   ],
   "source": [
    "''' Crear tramas de tiempo con look backs '''\n",
    "look_back = 5\n",
    "trainX, trainY = create_dataset(train, look_back)\n",
    "testX, testY = create_dataset(test, look_back)"
   ]
  },
  {
   "cell_type": "code",
   "execution_count": 109,
   "metadata": {
    "colab": {
     "base_uri": "https://localhost:8080/",
     "height": 34
    },
    "colab_type": "code",
    "executionInfo": {
     "elapsed": 726,
     "status": "ok",
     "timestamp": 1562647901171,
     "user": {
      "displayName": "Dayana Hernandez",
      "photoUrl": "",
      "userId": "08700700604867881888"
     },
     "user_tz": 240
    },
    "id": "pZ7JNuDVh-9N",
    "outputId": "2e465376-440a-4ef5-fc4b-3f4cb804d697"
   },
   "outputs": [
    {
     "data": {
      "text/plain": [
       "(575, 5, 4)"
      ]
     },
     "execution_count": 109,
     "metadata": {},
     "output_type": "execute_result"
    }
   ],
   "source": [
    "trainX.shape"
   ]
  },
  {
   "cell_type": "code",
   "execution_count": 110,
   "metadata": {
    "colab": {
     "base_uri": "https://localhost:8080/",
     "height": 34
    },
    "colab_type": "code",
    "executionInfo": {
     "elapsed": 983,
     "status": "ok",
     "timestamp": 1562648083739,
     "user": {
      "displayName": "Dayana Hernandez",
      "photoUrl": "",
      "userId": "08700700604867881888"
     },
     "user_tz": 240
    },
    "id": "YYGY2Zfjh-9Q",
    "outputId": "5cff449e-f491-44a1-c2cc-fa448dafa1b4"
   },
   "outputs": [
    {
     "data": {
      "text/plain": [
       "(244,)"
      ]
     },
     "execution_count": 110,
     "metadata": {},
     "output_type": "execute_result"
    }
   ],
   "source": [
    "testY.shape"
   ]
  },
  {
   "cell_type": "code",
   "execution_count": 111,
   "metadata": {
    "colab": {
     "base_uri": "https://localhost:8080/",
     "height": 104
    },
    "colab_type": "code",
    "executionInfo": {
     "elapsed": 953,
     "status": "ok",
     "timestamp": 1562648102878,
     "user": {
      "displayName": "Dayana Hernandez",
      "photoUrl": "",
      "userId": "08700700604867881888"
     },
     "user_tz": 240
    },
    "id": "CpLQSN4Lh-9T",
    "outputId": "ceac070c-3d75-4c7b-cd8b-731e0d507d51"
   },
   "outputs": [
    {
     "data": {
      "text/plain": [
       "array([[0.40431684, 0.32101044, 0.18852457, 0.9090909 ],\n",
       "       [0.6241801 , 0.4001848 , 0.3934426 , 0.83636355],\n",
       "       [0.6307876 , 0.4032655 , 0.49385247, 0.6545454 ],\n",
       "       [0.6540853 , 0.40110904, 0.56864756, 0.690909  ],\n",
       "       [0.68664634, 0.41897717, 0.5409836 , 0.5272728 ]], dtype=float32)"
      ]
     },
     "execution_count": 111,
     "metadata": {},
     "output_type": "execute_result"
    }
   ],
   "source": [
    "trainX[0]"
   ]
  },
  {
   "cell_type": "code",
   "execution_count": 112,
   "metadata": {
    "colab": {},
    "colab_type": "code",
    "id": "mXJrDF0Lh-9X",
    "outputId": "ac59c8c5-a786-4b82-9be4-64c1eeecfcec"
   },
   "outputs": [
    {
     "data": {
      "text/plain": [
       "0.41884372"
      ]
     },
     "execution_count": 112,
     "metadata": {},
     "output_type": "execute_result"
    }
   ],
   "source": [
    "testY[0]"
   ]
  },
  {
   "cell_type": "code",
   "execution_count": null,
   "metadata": {
    "colab": {},
    "colab_type": "code",
    "id": "vqYHdAIYh-9Z"
   },
   "outputs": [],
   "source": []
  },
  {
   "cell_type": "code",
   "execution_count": 113,
   "metadata": {
    "colab": {},
    "colab_type": "code",
    "id": "_DzPuKnfh-9a",
    "outputId": "0a24d268-0a0d-4a64-fb04-efb3367963db"
   },
   "outputs": [
    {
     "data": {
      "text/plain": [
       "0.7230786"
      ]
     },
     "execution_count": 113,
     "metadata": {},
     "output_type": "execute_result"
    }
   ],
   "source": [
    "trainY[0]"
   ]
  },
  {
   "cell_type": "code",
   "execution_count": 244,
   "metadata": {
    "colab": {},
    "colab_type": "code",
    "id": "iQdjxYtuh-9c"
   },
   "outputs": [],
   "source": [
    "''' Re-shaping los datos para los requerimientos del modelo'''\n",
    "trainX = np.reshape(trainX, (trainX.shape[0], 5, trainX.shape[2]))\n",
    "testX = np.reshape(testX, (testX.shape[0], 5, testX.shape[2]))"
   ]
  },
  {
   "cell_type": "code",
   "execution_count": 245,
   "metadata": {
    "colab": {},
    "colab_type": "code",
    "id": "BdZ9MPigh-9d",
    "outputId": "c719cda4-15c3-4bfe-c235-18c1784b541f"
   },
   "outputs": [
    {
     "name": "stdout",
     "output_type": "stream",
     "text": [
      "Train on 575 samples, validate on 244 samples\n",
      "Epoch 1/400\n",
      " - 2s - loss: 0.1045 - val_loss: 0.0386\n",
      "Epoch 2/400\n",
      " - 0s - loss: 0.0299 - val_loss: 0.0095\n",
      "Epoch 3/400\n",
      " - 0s - loss: 0.0130 - val_loss: 0.0083\n",
      "Epoch 4/400\n",
      " - 0s - loss: 0.0094 - val_loss: 0.0095\n",
      "Epoch 5/400\n",
      " - 0s - loss: 0.0076 - val_loss: 0.0067\n",
      "Epoch 6/400\n",
      " - 0s - loss: 0.0066 - val_loss: 0.0069\n",
      "Epoch 7/400\n",
      " - 0s - loss: 0.0062 - val_loss: 0.0069\n",
      "Epoch 8/400\n",
      " - 0s - loss: 0.0060 - val_loss: 0.0069\n",
      "Epoch 9/400\n",
      " - 0s - loss: 0.0059 - val_loss: 0.0068\n",
      "Epoch 10/400\n",
      " - 0s - loss: 0.0058 - val_loss: 0.0066\n",
      "Epoch 11/400\n",
      " - 0s - loss: 0.0057 - val_loss: 0.0064\n",
      "Epoch 12/400\n",
      " - 0s - loss: 0.0056 - val_loss: 0.0063\n",
      "Epoch 13/400\n",
      " - 0s - loss: 0.0055 - val_loss: 0.0062\n",
      "Epoch 14/400\n",
      " - 0s - loss: 0.0055 - val_loss: 0.0061\n",
      "Epoch 15/400\n",
      " - 0s - loss: 0.0054 - val_loss: 0.0060\n",
      "Epoch 16/400\n",
      " - 0s - loss: 0.0053 - val_loss: 0.0059\n",
      "Epoch 17/400\n",
      " - 0s - loss: 0.0053 - val_loss: 0.0058\n",
      "Epoch 18/400\n",
      " - 0s - loss: 0.0052 - val_loss: 0.0057\n",
      "Epoch 19/400\n",
      " - 0s - loss: 0.0052 - val_loss: 0.0057\n",
      "Epoch 20/400\n",
      " - 0s - loss: 0.0051 - val_loss: 0.0056\n",
      "Epoch 21/400\n",
      " - 0s - loss: 0.0051 - val_loss: 0.0056\n",
      "Epoch 22/400\n",
      " - 0s - loss: 0.0051 - val_loss: 0.0055\n",
      "Epoch 23/400\n",
      " - 0s - loss: 0.0050 - val_loss: 0.0055\n",
      "Epoch 24/400\n",
      " - 0s - loss: 0.0050 - val_loss: 0.0055\n",
      "Epoch 25/400\n",
      " - 0s - loss: 0.0050 - val_loss: 0.0054\n",
      "Epoch 26/400\n",
      " - 0s - loss: 0.0049 - val_loss: 0.0054\n",
      "Epoch 27/400\n",
      " - 0s - loss: 0.0049 - val_loss: 0.0054\n",
      "Epoch 28/400\n",
      " - 0s - loss: 0.0049 - val_loss: 0.0054\n",
      "Epoch 29/400\n",
      " - 0s - loss: 0.0049 - val_loss: 0.0054\n",
      "Epoch 30/400\n",
      " - 0s - loss: 0.0048 - val_loss: 0.0054\n",
      "Epoch 31/400\n",
      " - 0s - loss: 0.0048 - val_loss: 0.0053\n",
      "Epoch 32/400\n",
      " - 0s - loss: 0.0048 - val_loss: 0.0053\n",
      "Epoch 33/400\n",
      " - 0s - loss: 0.0048 - val_loss: 0.0053\n",
      "Epoch 34/400\n",
      " - 0s - loss: 0.0048 - val_loss: 0.0053\n",
      "Epoch 35/400\n",
      " - 0s - loss: 0.0047 - val_loss: 0.0053\n",
      "Epoch 36/400\n",
      " - 0s - loss: 0.0047 - val_loss: 0.0053\n",
      "Epoch 37/400\n",
      " - 0s - loss: 0.0047 - val_loss: 0.0053\n",
      "Epoch 38/400\n",
      " - 0s - loss: 0.0047 - val_loss: 0.0053\n",
      "Epoch 39/400\n",
      " - 0s - loss: 0.0047 - val_loss: 0.0053\n",
      "Epoch 40/400\n",
      " - 0s - loss: 0.0046 - val_loss: 0.0053\n",
      "Epoch 41/400\n",
      " - 0s - loss: 0.0046 - val_loss: 0.0053\n",
      "Epoch 42/400\n",
      " - 0s - loss: 0.0046 - val_loss: 0.0053\n",
      "Epoch 43/400\n",
      " - 0s - loss: 0.0046 - val_loss: 0.0053\n",
      "Epoch 44/400\n",
      " - 0s - loss: 0.0046 - val_loss: 0.0053\n",
      "Epoch 45/400\n",
      " - 0s - loss: 0.0045 - val_loss: 0.0053\n",
      "Epoch 46/400\n",
      " - 0s - loss: 0.0045 - val_loss: 0.0053\n",
      "Epoch 47/400\n",
      " - 0s - loss: 0.0045 - val_loss: 0.0053\n",
      "Epoch 48/400\n",
      " - 0s - loss: 0.0045 - val_loss: 0.0053\n",
      "Epoch 49/400\n",
      " - 0s - loss: 0.0045 - val_loss: 0.0053\n",
      "Epoch 50/400\n",
      " - 0s - loss: 0.0045 - val_loss: 0.0053\n",
      "Epoch 51/400\n",
      " - 0s - loss: 0.0045 - val_loss: 0.0053\n",
      "Epoch 52/400\n",
      " - 0s - loss: 0.0044 - val_loss: 0.0053\n",
      "Epoch 53/400\n",
      " - 0s - loss: 0.0044 - val_loss: 0.0053\n",
      "Epoch 54/400\n",
      " - 0s - loss: 0.0044 - val_loss: 0.0053\n",
      "Epoch 55/400\n",
      " - 0s - loss: 0.0044 - val_loss: 0.0053\n",
      "Epoch 56/400\n",
      " - 0s - loss: 0.0044 - val_loss: 0.0053\n",
      "Epoch 57/400\n",
      " - 0s - loss: 0.0044 - val_loss: 0.0053\n",
      "Epoch 58/400\n",
      " - 0s - loss: 0.0044 - val_loss: 0.0053\n",
      "Epoch 59/400\n",
      " - 0s - loss: 0.0044 - val_loss: 0.0053\n",
      "Epoch 60/400\n",
      " - 0s - loss: 0.0044 - val_loss: 0.0054\n",
      "Epoch 61/400\n",
      " - 0s - loss: 0.0044 - val_loss: 0.0054\n",
      "Epoch 62/400\n",
      " - 0s - loss: 0.0044 - val_loss: 0.0054\n",
      "Epoch 63/400\n",
      " - 0s - loss: 0.0043 - val_loss: 0.0054\n",
      "Epoch 64/400\n",
      " - 0s - loss: 0.0043 - val_loss: 0.0054\n",
      "Epoch 65/400\n",
      " - 0s - loss: 0.0043 - val_loss: 0.0054\n",
      "Epoch 66/400\n",
      " - 0s - loss: 0.0043 - val_loss: 0.0054\n",
      "Epoch 67/400\n",
      " - 0s - loss: 0.0043 - val_loss: 0.0054\n",
      "Epoch 68/400\n",
      " - 0s - loss: 0.0043 - val_loss: 0.0054\n",
      "Epoch 69/400\n",
      " - 0s - loss: 0.0043 - val_loss: 0.0054\n",
      "Epoch 70/400\n",
      " - 0s - loss: 0.0043 - val_loss: 0.0055\n",
      "Epoch 71/400\n",
      " - 0s - loss: 0.0043 - val_loss: 0.0055\n",
      "Epoch 72/400\n",
      " - 0s - loss: 0.0043 - val_loss: 0.0055\n",
      "Epoch 73/400\n",
      " - 0s - loss: 0.0043 - val_loss: 0.0055\n",
      "Epoch 74/400\n",
      " - 0s - loss: 0.0043 - val_loss: 0.0055\n",
      "Epoch 75/400\n",
      " - 0s - loss: 0.0043 - val_loss: 0.0055\n",
      "Epoch 76/400\n",
      " - 0s - loss: 0.0043 - val_loss: 0.0055\n",
      "Epoch 77/400\n",
      " - 0s - loss: 0.0043 - val_loss: 0.0055\n",
      "Epoch 78/400\n",
      " - 0s - loss: 0.0043 - val_loss: 0.0055\n",
      "Epoch 79/400\n",
      " - 0s - loss: 0.0043 - val_loss: 0.0056\n",
      "Epoch 80/400\n",
      " - 0s - loss: 0.0043 - val_loss: 0.0056\n",
      "Epoch 81/400\n",
      " - 0s - loss: 0.0043 - val_loss: 0.0056\n",
      "Epoch 82/400\n",
      " - 0s - loss: 0.0043 - val_loss: 0.0056\n",
      "Epoch 83/400\n",
      " - 0s - loss: 0.0043 - val_loss: 0.0056\n",
      "Epoch 84/400\n",
      " - 0s - loss: 0.0042 - val_loss: 0.0056\n",
      "Epoch 85/400\n",
      " - 0s - loss: 0.0042 - val_loss: 0.0056\n",
      "Epoch 86/400\n",
      " - 0s - loss: 0.0042 - val_loss: 0.0056\n",
      "Epoch 87/400\n",
      " - 0s - loss: 0.0042 - val_loss: 0.0056\n",
      "Epoch 88/400\n",
      " - 0s - loss: 0.0042 - val_loss: 0.0056\n",
      "Epoch 89/400\n",
      " - 0s - loss: 0.0042 - val_loss: 0.0056\n",
      "Epoch 90/400\n",
      " - 0s - loss: 0.0042 - val_loss: 0.0056\n",
      "Epoch 91/400\n",
      " - 0s - loss: 0.0042 - val_loss: 0.0056\n",
      "Epoch 92/400\n",
      " - 0s - loss: 0.0042 - val_loss: 0.0056\n",
      "Epoch 93/400\n",
      " - 0s - loss: 0.0042 - val_loss: 0.0056\n",
      "Epoch 94/400\n",
      " - 0s - loss: 0.0042 - val_loss: 0.0056\n",
      "Epoch 95/400\n",
      " - 0s - loss: 0.0042 - val_loss: 0.0056\n",
      "Epoch 96/400\n",
      " - 0s - loss: 0.0042 - val_loss: 0.0056\n",
      "Epoch 97/400\n",
      " - 0s - loss: 0.0042 - val_loss: 0.0056\n",
      "Epoch 98/400\n",
      " - 0s - loss: 0.0042 - val_loss: 0.0056\n",
      "Epoch 99/400\n",
      " - 0s - loss: 0.0042 - val_loss: 0.0056\n",
      "Epoch 100/400\n",
      " - 0s - loss: 0.0042 - val_loss: 0.0056\n",
      "Epoch 101/400\n",
      " - 0s - loss: 0.0042 - val_loss: 0.0056\n",
      "Epoch 102/400\n",
      " - 0s - loss: 0.0042 - val_loss: 0.0056\n",
      "Epoch 103/400\n",
      " - 0s - loss: 0.0042 - val_loss: 0.0056\n",
      "Epoch 104/400\n",
      " - 0s - loss: 0.0042 - val_loss: 0.0056\n",
      "Epoch 105/400\n",
      " - 0s - loss: 0.0042 - val_loss: 0.0056\n",
      "Epoch 106/400\n",
      " - 0s - loss: 0.0042 - val_loss: 0.0056\n",
      "Epoch 107/400\n",
      " - 0s - loss: 0.0042 - val_loss: 0.0056\n",
      "Epoch 108/400\n",
      " - 0s - loss: 0.0042 - val_loss: 0.0056\n",
      "Epoch 109/400\n",
      " - 0s - loss: 0.0041 - val_loss: 0.0056\n",
      "Epoch 110/400\n",
      " - 0s - loss: 0.0041 - val_loss: 0.0056\n",
      "Epoch 111/400\n",
      " - 0s - loss: 0.0041 - val_loss: 0.0056\n",
      "Epoch 112/400\n",
      " - 0s - loss: 0.0041 - val_loss: 0.0056\n",
      "Epoch 113/400\n",
      " - 0s - loss: 0.0041 - val_loss: 0.0056\n",
      "Epoch 114/400\n",
      " - 0s - loss: 0.0041 - val_loss: 0.0056\n",
      "Epoch 115/400\n",
      " - 0s - loss: 0.0041 - val_loss: 0.0056\n",
      "Epoch 116/400\n",
      " - 0s - loss: 0.0041 - val_loss: 0.0056\n",
      "Epoch 117/400\n",
      " - 0s - loss: 0.0041 - val_loss: 0.0056\n",
      "Epoch 118/400\n",
      " - 0s - loss: 0.0041 - val_loss: 0.0056\n",
      "Epoch 119/400\n",
      " - 0s - loss: 0.0041 - val_loss: 0.0056\n",
      "Epoch 120/400\n",
      " - 0s - loss: 0.0041 - val_loss: 0.0056\n",
      "Epoch 121/400\n",
      " - 0s - loss: 0.0041 - val_loss: 0.0056\n",
      "Epoch 122/400\n",
      " - 0s - loss: 0.0041 - val_loss: 0.0056\n",
      "Epoch 123/400\n",
      " - 0s - loss: 0.0041 - val_loss: 0.0056\n",
      "Epoch 124/400\n",
      " - 0s - loss: 0.0041 - val_loss: 0.0056\n",
      "Epoch 125/400\n",
      " - 0s - loss: 0.0041 - val_loss: 0.0056\n",
      "Epoch 126/400\n",
      " - 0s - loss: 0.0041 - val_loss: 0.0056\n",
      "Epoch 127/400\n",
      " - 0s - loss: 0.0041 - val_loss: 0.0056\n",
      "Epoch 128/400\n",
      " - 0s - loss: 0.0041 - val_loss: 0.0056\n",
      "Epoch 129/400\n",
      " - 0s - loss: 0.0041 - val_loss: 0.0056\n",
      "Epoch 130/400\n",
      " - 0s - loss: 0.0041 - val_loss: 0.0056\n",
      "Epoch 131/400\n",
      " - 0s - loss: 0.0041 - val_loss: 0.0056\n",
      "Epoch 132/400\n",
      " - 0s - loss: 0.0041 - val_loss: 0.0056\n",
      "Epoch 133/400\n",
      " - 0s - loss: 0.0041 - val_loss: 0.0056\n",
      "Epoch 134/400\n",
      " - 0s - loss: 0.0041 - val_loss: 0.0056\n",
      "Epoch 135/400\n",
      " - 0s - loss: 0.0041 - val_loss: 0.0055\n",
      "Epoch 136/400\n",
      " - 0s - loss: 0.0041 - val_loss: 0.0055\n",
      "Epoch 137/400\n",
      " - 0s - loss: 0.0041 - val_loss: 0.0055\n",
      "Epoch 138/400\n",
      " - 0s - loss: 0.0041 - val_loss: 0.0055\n",
      "Epoch 139/400\n",
      " - 0s - loss: 0.0041 - val_loss: 0.0055\n",
      "Epoch 140/400\n",
      " - 0s - loss: 0.0041 - val_loss: 0.0055\n",
      "Epoch 141/400\n",
      " - 0s - loss: 0.0041 - val_loss: 0.0055\n",
      "Epoch 142/400\n",
      " - 0s - loss: 0.0040 - val_loss: 0.0055\n",
      "Epoch 143/400\n",
      " - 0s - loss: 0.0040 - val_loss: 0.0055\n",
      "Epoch 144/400\n",
      " - 0s - loss: 0.0040 - val_loss: 0.0055\n",
      "Epoch 145/400\n",
      " - 0s - loss: 0.0040 - val_loss: 0.0055\n",
      "Epoch 146/400\n",
      " - 0s - loss: 0.0040 - val_loss: 0.0055\n",
      "Epoch 147/400\n",
      " - 0s - loss: 0.0040 - val_loss: 0.0055\n",
      "Epoch 148/400\n",
      " - 0s - loss: 0.0040 - val_loss: 0.0055\n",
      "Epoch 149/400\n",
      " - 0s - loss: 0.0040 - val_loss: 0.0055\n",
      "Epoch 150/400\n",
      " - 0s - loss: 0.0040 - val_loss: 0.0055\n",
      "Epoch 151/400\n",
      " - 0s - loss: 0.0040 - val_loss: 0.0055\n",
      "Epoch 152/400\n",
      " - 0s - loss: 0.0040 - val_loss: 0.0055\n",
      "Epoch 153/400\n",
      " - 0s - loss: 0.0040 - val_loss: 0.0055\n"
     ]
    },
    {
     "name": "stdout",
     "output_type": "stream",
     "text": [
      "Epoch 154/400\n",
      " - 0s - loss: 0.0040 - val_loss: 0.0055\n",
      "Epoch 155/400\n",
      " - 0s - loss: 0.0040 - val_loss: 0.0055\n",
      "Epoch 156/400\n",
      " - 0s - loss: 0.0040 - val_loss: 0.0055\n",
      "Epoch 157/400\n",
      " - 0s - loss: 0.0040 - val_loss: 0.0055\n",
      "Epoch 158/400\n",
      " - 0s - loss: 0.0040 - val_loss: 0.0055\n",
      "Epoch 159/400\n",
      " - 0s - loss: 0.0040 - val_loss: 0.0055\n",
      "Epoch 160/400\n",
      " - 0s - loss: 0.0040 - val_loss: 0.0055\n",
      "Epoch 161/400\n",
      " - 0s - loss: 0.0040 - val_loss: 0.0055\n",
      "Epoch 162/400\n",
      " - 0s - loss: 0.0040 - val_loss: 0.0055\n",
      "Epoch 163/400\n",
      " - 0s - loss: 0.0040 - val_loss: 0.0055\n",
      "Epoch 164/400\n",
      " - 0s - loss: 0.0040 - val_loss: 0.0055\n",
      "Epoch 165/400\n",
      " - 0s - loss: 0.0040 - val_loss: 0.0055\n",
      "Epoch 166/400\n",
      " - 0s - loss: 0.0040 - val_loss: 0.0055\n",
      "Epoch 167/400\n",
      " - 0s - loss: 0.0040 - val_loss: 0.0055\n",
      "Epoch 168/400\n",
      " - 0s - loss: 0.0040 - val_loss: 0.0055\n",
      "Epoch 169/400\n",
      " - 0s - loss: 0.0040 - val_loss: 0.0055\n",
      "Epoch 170/400\n",
      " - 0s - loss: 0.0040 - val_loss: 0.0055\n",
      "Epoch 171/400\n",
      " - 0s - loss: 0.0040 - val_loss: 0.0054\n",
      "Epoch 172/400\n",
      " - 0s - loss: 0.0040 - val_loss: 0.0054\n",
      "Epoch 173/400\n",
      " - 0s - loss: 0.0040 - val_loss: 0.0054\n",
      "Epoch 174/400\n",
      " - 0s - loss: 0.0040 - val_loss: 0.0054\n",
      "Epoch 175/400\n",
      " - 0s - loss: 0.0040 - val_loss: 0.0054\n",
      "Epoch 176/400\n",
      " - 0s - loss: 0.0040 - val_loss: 0.0054\n",
      "Epoch 177/400\n",
      " - 0s - loss: 0.0040 - val_loss: 0.0054\n",
      "Epoch 178/400\n",
      " - 0s - loss: 0.0040 - val_loss: 0.0054\n",
      "Epoch 179/400\n",
      " - 0s - loss: 0.0040 - val_loss: 0.0054\n",
      "Epoch 180/400\n",
      " - 0s - loss: 0.0040 - val_loss: 0.0054\n",
      "Epoch 181/400\n",
      " - 0s - loss: 0.0040 - val_loss: 0.0054\n",
      "Epoch 182/400\n",
      " - 0s - loss: 0.0040 - val_loss: 0.0054\n",
      "Epoch 183/400\n",
      " - 0s - loss: 0.0040 - val_loss: 0.0054\n",
      "Epoch 184/400\n",
      " - 0s - loss: 0.0040 - val_loss: 0.0054\n",
      "Epoch 185/400\n",
      " - 0s - loss: 0.0040 - val_loss: 0.0054\n",
      "Epoch 186/400\n",
      " - 0s - loss: 0.0040 - val_loss: 0.0054\n",
      "Epoch 187/400\n",
      " - 0s - loss: 0.0040 - val_loss: 0.0054\n",
      "Epoch 188/400\n",
      " - 0s - loss: 0.0040 - val_loss: 0.0054\n",
      "Epoch 189/400\n",
      " - 0s - loss: 0.0040 - val_loss: 0.0054\n",
      "Epoch 190/400\n",
      " - 0s - loss: 0.0040 - val_loss: 0.0054\n",
      "Epoch 191/400\n",
      " - 0s - loss: 0.0040 - val_loss: 0.0054\n",
      "Epoch 192/400\n",
      " - 0s - loss: 0.0040 - val_loss: 0.0054\n",
      "Epoch 193/400\n",
      " - 0s - loss: 0.0039 - val_loss: 0.0054\n",
      "Epoch 194/400\n",
      " - 0s - loss: 0.0039 - val_loss: 0.0054\n",
      "Epoch 195/400\n",
      " - 0s - loss: 0.0039 - val_loss: 0.0054\n",
      "Epoch 196/400\n",
      " - 0s - loss: 0.0039 - val_loss: 0.0054\n",
      "Epoch 197/400\n",
      " - 0s - loss: 0.0039 - val_loss: 0.0054\n",
      "Epoch 198/400\n",
      " - 0s - loss: 0.0039 - val_loss: 0.0054\n",
      "Epoch 199/400\n",
      " - 0s - loss: 0.0039 - val_loss: 0.0054\n",
      "Epoch 200/400\n",
      " - 0s - loss: 0.0039 - val_loss: 0.0054\n",
      "Epoch 201/400\n",
      " - 0s - loss: 0.0039 - val_loss: 0.0054\n",
      "Epoch 202/400\n",
      " - 0s - loss: 0.0039 - val_loss: 0.0054\n",
      "Epoch 203/400\n",
      " - 0s - loss: 0.0039 - val_loss: 0.0053\n",
      "Epoch 204/400\n",
      " - 0s - loss: 0.0039 - val_loss: 0.0053\n",
      "Epoch 205/400\n",
      " - 0s - loss: 0.0039 - val_loss: 0.0053\n",
      "Epoch 206/400\n",
      " - 0s - loss: 0.0039 - val_loss: 0.0053\n",
      "Epoch 207/400\n",
      " - 0s - loss: 0.0039 - val_loss: 0.0053\n",
      "Epoch 208/400\n",
      " - 0s - loss: 0.0039 - val_loss: 0.0053\n",
      "Epoch 209/400\n",
      " - 0s - loss: 0.0039 - val_loss: 0.0053\n",
      "Epoch 210/400\n",
      " - 0s - loss: 0.0039 - val_loss: 0.0053\n",
      "Epoch 211/400\n",
      " - 0s - loss: 0.0039 - val_loss: 0.0053\n",
      "Epoch 212/400\n",
      " - 0s - loss: 0.0039 - val_loss: 0.0053\n",
      "Epoch 213/400\n",
      " - 0s - loss: 0.0039 - val_loss: 0.0053\n",
      "Epoch 214/400\n",
      " - 0s - loss: 0.0039 - val_loss: 0.0053\n",
      "Epoch 215/400\n",
      " - 0s - loss: 0.0039 - val_loss: 0.0053\n",
      "Epoch 216/400\n",
      " - 0s - loss: 0.0039 - val_loss: 0.0053\n",
      "Epoch 217/400\n",
      " - 0s - loss: 0.0039 - val_loss: 0.0053\n",
      "Epoch 218/400\n",
      " - 0s - loss: 0.0039 - val_loss: 0.0053\n",
      "Epoch 219/400\n",
      " - 0s - loss: 0.0039 - val_loss: 0.0053\n",
      "Epoch 220/400\n",
      " - 0s - loss: 0.0039 - val_loss: 0.0053\n",
      "Epoch 221/400\n",
      " - 0s - loss: 0.0039 - val_loss: 0.0053\n",
      "Epoch 222/400\n",
      " - 0s - loss: 0.0039 - val_loss: 0.0053\n",
      "Epoch 223/400\n",
      " - 0s - loss: 0.0039 - val_loss: 0.0053\n",
      "Epoch 224/400\n",
      " - 0s - loss: 0.0039 - val_loss: 0.0053\n",
      "Epoch 225/400\n",
      " - 0s - loss: 0.0039 - val_loss: 0.0053\n",
      "Epoch 226/400\n",
      " - 0s - loss: 0.0039 - val_loss: 0.0053\n",
      "Epoch 227/400\n",
      " - 0s - loss: 0.0039 - val_loss: 0.0053\n",
      "Epoch 228/400\n",
      " - 0s - loss: 0.0039 - val_loss: 0.0053\n",
      "Epoch 229/400\n",
      " - 0s - loss: 0.0039 - val_loss: 0.0053\n",
      "Epoch 230/400\n",
      " - 0s - loss: 0.0039 - val_loss: 0.0052\n",
      "Epoch 231/400\n",
      " - 0s - loss: 0.0039 - val_loss: 0.0052\n",
      "Epoch 232/400\n",
      " - 0s - loss: 0.0039 - val_loss: 0.0052\n",
      "Epoch 233/400\n",
      " - 0s - loss: 0.0039 - val_loss: 0.0052\n",
      "Epoch 234/400\n",
      " - 0s - loss: 0.0039 - val_loss: 0.0052\n",
      "Epoch 235/400\n",
      " - 0s - loss: 0.0039 - val_loss: 0.0052\n",
      "Epoch 236/400\n",
      " - 0s - loss: 0.0039 - val_loss: 0.0052\n",
      "Epoch 237/400\n",
      " - 0s - loss: 0.0039 - val_loss: 0.0052\n",
      "Epoch 238/400\n",
      " - 0s - loss: 0.0039 - val_loss: 0.0052\n",
      "Epoch 239/400\n",
      " - 0s - loss: 0.0039 - val_loss: 0.0052\n",
      "Epoch 240/400\n",
      " - 0s - loss: 0.0039 - val_loss: 0.0052\n",
      "Epoch 241/400\n",
      " - 0s - loss: 0.0039 - val_loss: 0.0052\n",
      "Epoch 242/400\n",
      " - 0s - loss: 0.0039 - val_loss: 0.0052\n",
      "Epoch 243/400\n",
      " - 0s - loss: 0.0039 - val_loss: 0.0052\n",
      "Epoch 244/400\n",
      " - 0s - loss: 0.0039 - val_loss: 0.0052\n",
      "Epoch 245/400\n",
      " - 0s - loss: 0.0039 - val_loss: 0.0052\n",
      "Epoch 246/400\n",
      " - 0s - loss: 0.0039 - val_loss: 0.0052\n",
      "Epoch 247/400\n",
      " - 0s - loss: 0.0039 - val_loss: 0.0052\n",
      "Epoch 248/400\n",
      " - 0s - loss: 0.0039 - val_loss: 0.0052\n",
      "Epoch 249/400\n",
      " - 0s - loss: 0.0039 - val_loss: 0.0052\n",
      "Epoch 250/400\n",
      " - 0s - loss: 0.0039 - val_loss: 0.0052\n",
      "Epoch 251/400\n",
      " - 0s - loss: 0.0039 - val_loss: 0.0052\n",
      "Epoch 252/400\n",
      " - 0s - loss: 0.0039 - val_loss: 0.0052\n",
      "Epoch 253/400\n",
      " - 0s - loss: 0.0039 - val_loss: 0.0052\n",
      "Epoch 254/400\n",
      " - 0s - loss: 0.0039 - val_loss: 0.0052\n",
      "Epoch 255/400\n",
      " - 0s - loss: 0.0039 - val_loss: 0.0052\n",
      "Epoch 256/400\n",
      " - 0s - loss: 0.0039 - val_loss: 0.0051\n",
      "Epoch 257/400\n",
      " - 0s - loss: 0.0039 - val_loss: 0.0051\n",
      "Epoch 258/400\n",
      " - 0s - loss: 0.0039 - val_loss: 0.0051\n",
      "Epoch 259/400\n",
      " - 0s - loss: 0.0039 - val_loss: 0.0051\n",
      "Epoch 260/400\n",
      " - 0s - loss: 0.0039 - val_loss: 0.0051\n",
      "Epoch 261/400\n",
      " - 0s - loss: 0.0039 - val_loss: 0.0051\n",
      "Epoch 262/400\n",
      " - 0s - loss: 0.0039 - val_loss: 0.0051\n",
      "Epoch 263/400\n",
      " - 0s - loss: 0.0039 - val_loss: 0.0051\n",
      "Epoch 264/400\n",
      " - 0s - loss: 0.0039 - val_loss: 0.0051\n",
      "Epoch 265/400\n",
      " - 0s - loss: 0.0039 - val_loss: 0.0051\n",
      "Epoch 266/400\n",
      " - 0s - loss: 0.0038 - val_loss: 0.0051\n",
      "Epoch 267/400\n",
      " - 0s - loss: 0.0038 - val_loss: 0.0051\n",
      "Epoch 268/400\n",
      " - 0s - loss: 0.0038 - val_loss: 0.0051\n",
      "Epoch 269/400\n",
      " - 0s - loss: 0.0038 - val_loss: 0.0051\n",
      "Epoch 270/400\n",
      " - 0s - loss: 0.0038 - val_loss: 0.0051\n",
      "Epoch 271/400\n",
      " - 0s - loss: 0.0038 - val_loss: 0.0051\n",
      "Epoch 272/400\n",
      " - 0s - loss: 0.0038 - val_loss: 0.0051\n",
      "Epoch 273/400\n",
      " - 0s - loss: 0.0038 - val_loss: 0.0051\n",
      "Epoch 274/400\n",
      " - 0s - loss: 0.0038 - val_loss: 0.0051\n",
      "Epoch 275/400\n",
      " - 0s - loss: 0.0038 - val_loss: 0.0051\n",
      "Epoch 276/400\n",
      " - 0s - loss: 0.0038 - val_loss: 0.0051\n",
      "Epoch 277/400\n",
      " - 0s - loss: 0.0038 - val_loss: 0.0051\n",
      "Epoch 278/400\n",
      " - 0s - loss: 0.0038 - val_loss: 0.0051\n",
      "Epoch 279/400\n",
      " - 0s - loss: 0.0038 - val_loss: 0.0051\n",
      "Epoch 280/400\n",
      " - 0s - loss: 0.0038 - val_loss: 0.0051\n",
      "Epoch 281/400\n",
      " - 0s - loss: 0.0038 - val_loss: 0.0051\n",
      "Epoch 282/400\n",
      " - 0s - loss: 0.0038 - val_loss: 0.0051\n",
      "Epoch 283/400\n",
      " - 0s - loss: 0.0038 - val_loss: 0.0051\n",
      "Epoch 284/400\n",
      " - 0s - loss: 0.0038 - val_loss: 0.0051\n",
      "Epoch 285/400\n",
      " - 0s - loss: 0.0038 - val_loss: 0.0051\n",
      "Epoch 286/400\n",
      " - 0s - loss: 0.0038 - val_loss: 0.0051\n",
      "Epoch 287/400\n",
      " - 0s - loss: 0.0038 - val_loss: 0.0051\n",
      "Epoch 288/400\n",
      " - 0s - loss: 0.0038 - val_loss: 0.0051\n",
      "Epoch 289/400\n",
      " - 0s - loss: 0.0038 - val_loss: 0.0051\n",
      "Epoch 290/400\n",
      " - 0s - loss: 0.0038 - val_loss: 0.0051\n",
      "Epoch 291/400\n",
      " - 0s - loss: 0.0038 - val_loss: 0.0051\n",
      "Epoch 292/400\n",
      " - 0s - loss: 0.0038 - val_loss: 0.0050\n",
      "Epoch 293/400\n",
      " - 0s - loss: 0.0038 - val_loss: 0.0050\n",
      "Epoch 294/400\n",
      " - 0s - loss: 0.0038 - val_loss: 0.0050\n",
      "Epoch 295/400\n",
      " - 0s - loss: 0.0038 - val_loss: 0.0050\n",
      "Epoch 296/400\n",
      " - 0s - loss: 0.0038 - val_loss: 0.0050\n",
      "Epoch 297/400\n",
      " - 0s - loss: 0.0038 - val_loss: 0.0050\n",
      "Epoch 298/400\n",
      " - 0s - loss: 0.0038 - val_loss: 0.0050\n",
      "Epoch 299/400\n",
      " - 0s - loss: 0.0038 - val_loss: 0.0050\n",
      "Epoch 300/400\n",
      " - 0s - loss: 0.0038 - val_loss: 0.0050\n",
      "Epoch 301/400\n",
      " - 0s - loss: 0.0038 - val_loss: 0.0050\n",
      "Epoch 302/400\n",
      " - 0s - loss: 0.0038 - val_loss: 0.0050\n",
      "Epoch 303/400\n",
      " - 0s - loss: 0.0038 - val_loss: 0.0050\n",
      "Epoch 304/400\n",
      " - 0s - loss: 0.0038 - val_loss: 0.0050\n",
      "Epoch 305/400\n",
      " - 0s - loss: 0.0038 - val_loss: 0.0050\n"
     ]
    },
    {
     "name": "stdout",
     "output_type": "stream",
     "text": [
      "Epoch 306/400\n",
      " - 0s - loss: 0.0038 - val_loss: 0.0050\n",
      "Epoch 307/400\n",
      " - 0s - loss: 0.0038 - val_loss: 0.0050\n",
      "Epoch 308/400\n",
      " - 0s - loss: 0.0038 - val_loss: 0.0050\n",
      "Epoch 309/400\n",
      " - 0s - loss: 0.0038 - val_loss: 0.0050\n",
      "Epoch 310/400\n",
      " - 0s - loss: 0.0038 - val_loss: 0.0050\n",
      "Epoch 311/400\n",
      " - 0s - loss: 0.0038 - val_loss: 0.0050\n",
      "Epoch 312/400\n",
      " - 0s - loss: 0.0038 - val_loss: 0.0050\n",
      "Epoch 313/400\n",
      " - 0s - loss: 0.0038 - val_loss: 0.0050\n",
      "Epoch 314/400\n",
      " - 0s - loss: 0.0038 - val_loss: 0.0050\n",
      "Epoch 315/400\n",
      " - 0s - loss: 0.0038 - val_loss: 0.0050\n",
      "Epoch 316/400\n",
      " - 0s - loss: 0.0038 - val_loss: 0.0050\n",
      "Epoch 317/400\n",
      " - 0s - loss: 0.0038 - val_loss: 0.0050\n",
      "Epoch 318/400\n",
      " - 0s - loss: 0.0038 - val_loss: 0.0050\n",
      "Epoch 319/400\n",
      " - 0s - loss: 0.0038 - val_loss: 0.0050\n",
      "Epoch 320/400\n",
      " - 0s - loss: 0.0038 - val_loss: 0.0050\n",
      "Epoch 321/400\n",
      " - 0s - loss: 0.0038 - val_loss: 0.0050\n",
      "Epoch 322/400\n",
      " - 0s - loss: 0.0038 - val_loss: 0.0050\n",
      "Epoch 323/400\n",
      " - 0s - loss: 0.0038 - val_loss: 0.0050\n",
      "Epoch 324/400\n",
      " - 0s - loss: 0.0038 - val_loss: 0.0050\n",
      "Epoch 325/400\n",
      " - 0s - loss: 0.0038 - val_loss: 0.0050\n",
      "Epoch 326/400\n",
      " - 0s - loss: 0.0038 - val_loss: 0.0050\n",
      "Epoch 327/400\n",
      " - 0s - loss: 0.0038 - val_loss: 0.0050\n",
      "Epoch 328/400\n",
      " - 0s - loss: 0.0038 - val_loss: 0.0050\n",
      "Epoch 329/400\n",
      " - 0s - loss: 0.0038 - val_loss: 0.0050\n",
      "Epoch 330/400\n",
      " - 0s - loss: 0.0038 - val_loss: 0.0050\n",
      "Epoch 331/400\n",
      " - 0s - loss: 0.0038 - val_loss: 0.0050\n",
      "Epoch 332/400\n",
      " - 0s - loss: 0.0038 - val_loss: 0.0050\n",
      "Epoch 333/400\n",
      " - 0s - loss: 0.0038 - val_loss: 0.0050\n",
      "Epoch 334/400\n",
      " - 0s - loss: 0.0038 - val_loss: 0.0050\n",
      "Epoch 335/400\n",
      " - 0s - loss: 0.0038 - val_loss: 0.0050\n",
      "Epoch 336/400\n",
      " - 0s - loss: 0.0038 - val_loss: 0.0050\n",
      "Epoch 337/400\n",
      " - 0s - loss: 0.0038 - val_loss: 0.0050\n",
      "Epoch 338/400\n",
      " - 0s - loss: 0.0038 - val_loss: 0.0050\n",
      "Epoch 339/400\n",
      " - 0s - loss: 0.0038 - val_loss: 0.0050\n",
      "Epoch 340/400\n",
      " - 0s - loss: 0.0038 - val_loss: 0.0050\n",
      "Epoch 341/400\n",
      " - 0s - loss: 0.0038 - val_loss: 0.0050\n",
      "Epoch 342/400\n",
      " - 0s - loss: 0.0038 - val_loss: 0.0050\n",
      "Epoch 343/400\n",
      " - 0s - loss: 0.0038 - val_loss: 0.0050\n",
      "Epoch 344/400\n",
      " - 0s - loss: 0.0038 - val_loss: 0.0050\n",
      "Epoch 345/400\n",
      " - 0s - loss: 0.0038 - val_loss: 0.0050\n",
      "Epoch 346/400\n",
      " - 0s - loss: 0.0038 - val_loss: 0.0050\n",
      "Epoch 347/400\n",
      " - 0s - loss: 0.0038 - val_loss: 0.0049\n",
      "Epoch 348/400\n",
      " - 0s - loss: 0.0038 - val_loss: 0.0049\n",
      "Epoch 349/400\n",
      " - 0s - loss: 0.0038 - val_loss: 0.0049\n",
      "Epoch 350/400\n",
      " - 0s - loss: 0.0038 - val_loss: 0.0049\n",
      "Epoch 351/400\n",
      " - 0s - loss: 0.0038 - val_loss: 0.0049\n",
      "Epoch 352/400\n",
      " - 0s - loss: 0.0038 - val_loss: 0.0049\n",
      "Epoch 353/400\n",
      " - 0s - loss: 0.0038 - val_loss: 0.0049\n",
      "Epoch 354/400\n",
      " - 0s - loss: 0.0038 - val_loss: 0.0049\n",
      "Epoch 355/400\n",
      " - 0s - loss: 0.0038 - val_loss: 0.0049\n",
      "Epoch 356/400\n",
      " - 0s - loss: 0.0038 - val_loss: 0.0049\n",
      "Epoch 357/400\n",
      " - 0s - loss: 0.0038 - val_loss: 0.0049\n",
      "Epoch 358/400\n",
      " - 0s - loss: 0.0038 - val_loss: 0.0049\n",
      "Epoch 359/400\n",
      " - 0s - loss: 0.0038 - val_loss: 0.0049\n",
      "Epoch 360/400\n",
      " - 0s - loss: 0.0038 - val_loss: 0.0049\n",
      "Epoch 361/400\n",
      " - 0s - loss: 0.0038 - val_loss: 0.0049\n",
      "Epoch 362/400\n",
      " - 0s - loss: 0.0038 - val_loss: 0.0049\n",
      "Epoch 363/400\n",
      " - 0s - loss: 0.0038 - val_loss: 0.0049\n",
      "Epoch 364/400\n",
      " - 0s - loss: 0.0038 - val_loss: 0.0049\n",
      "Epoch 365/400\n",
      " - 0s - loss: 0.0038 - val_loss: 0.0049\n",
      "Epoch 366/400\n",
      " - 0s - loss: 0.0038 - val_loss: 0.0049\n",
      "Epoch 367/400\n",
      " - 0s - loss: 0.0038 - val_loss: 0.0049\n",
      "Epoch 368/400\n",
      " - 0s - loss: 0.0038 - val_loss: 0.0049\n",
      "Epoch 369/400\n",
      " - 0s - loss: 0.0038 - val_loss: 0.0049\n",
      "Epoch 370/400\n",
      " - 0s - loss: 0.0038 - val_loss: 0.0049\n",
      "Epoch 371/400\n",
      " - 0s - loss: 0.0038 - val_loss: 0.0049\n",
      "Epoch 372/400\n",
      " - 0s - loss: 0.0038 - val_loss: 0.0049\n",
      "Epoch 373/400\n",
      " - 0s - loss: 0.0037 - val_loss: 0.0049\n",
      "Epoch 374/400\n",
      " - 0s - loss: 0.0037 - val_loss: 0.0049\n",
      "Epoch 375/400\n",
      " - 0s - loss: 0.0037 - val_loss: 0.0049\n",
      "Epoch 376/400\n",
      " - 0s - loss: 0.0037 - val_loss: 0.0049\n",
      "Epoch 377/400\n",
      " - 0s - loss: 0.0037 - val_loss: 0.0049\n",
      "Epoch 378/400\n",
      " - 0s - loss: 0.0037 - val_loss: 0.0049\n",
      "Epoch 379/400\n",
      " - 0s - loss: 0.0037 - val_loss: 0.0049\n",
      "Epoch 380/400\n",
      " - 0s - loss: 0.0037 - val_loss: 0.0049\n",
      "Epoch 381/400\n",
      " - 0s - loss: 0.0037 - val_loss: 0.0049\n",
      "Epoch 382/400\n",
      " - 0s - loss: 0.0037 - val_loss: 0.0049\n",
      "Epoch 383/400\n",
      " - 0s - loss: 0.0037 - val_loss: 0.0049\n",
      "Epoch 384/400\n",
      " - 0s - loss: 0.0037 - val_loss: 0.0049\n",
      "Epoch 385/400\n",
      " - 0s - loss: 0.0037 - val_loss: 0.0049\n",
      "Epoch 386/400\n",
      " - 0s - loss: 0.0037 - val_loss: 0.0049\n",
      "Epoch 387/400\n",
      " - 0s - loss: 0.0037 - val_loss: 0.0049\n",
      "Epoch 388/400\n",
      " - 0s - loss: 0.0037 - val_loss: 0.0049\n",
      "Epoch 389/400\n",
      " - 0s - loss: 0.0037 - val_loss: 0.0049\n",
      "Epoch 390/400\n",
      " - 0s - loss: 0.0037 - val_loss: 0.0049\n",
      "Epoch 391/400\n",
      " - 0s - loss: 0.0037 - val_loss: 0.0049\n",
      "Epoch 392/400\n",
      " - 0s - loss: 0.0037 - val_loss: 0.0049\n",
      "Epoch 393/400\n",
      " - 0s - loss: 0.0037 - val_loss: 0.0049\n",
      "Epoch 394/400\n",
      " - 0s - loss: 0.0037 - val_loss: 0.0049\n",
      "Epoch 395/400\n",
      " - 0s - loss: 0.0037 - val_loss: 0.0049\n",
      "Epoch 396/400\n",
      " - 0s - loss: 0.0037 - val_loss: 0.0049\n",
      "Epoch 397/400\n",
      " - 0s - loss: 0.0037 - val_loss: 0.0049\n",
      "Epoch 398/400\n",
      " - 0s - loss: 0.0037 - val_loss: 0.0049\n",
      "Epoch 399/400\n",
      " - 0s - loss: 0.0037 - val_loss: 0.0049\n",
      "Epoch 400/400\n",
      " - 0s - loss: 0.0037 - val_loss: 0.0049\n"
     ]
    },
    {
     "data": {
      "image/png": "[encoded data removed]",
      "text/plain": [
       "<Figure size 432x288 with 1 Axes>"
      ]
     },
     "metadata": {
      "needs_background": "light"
     },
     "output_type": "display_data"
    }
   ],
   "source": [
    "''' Ajustando los datos al Modelo LSTM '''\n",
    "model = Sequential()\n",
    "model.add(LSTM(100, input_shape=(trainX.shape[1],trainX.shape[2] )))\n",
    "#model.add(LSTM(units=15, return_sequences=True))\n",
    "#model.add(LSTM(units=15))\n",
    "#model.add(Dropout(0.2))\n",
    "model.add(Dense(1))\n",
    "model.compile(loss='mse', optimizer='adam')\n",
    "history = model.fit(trainX, trainY, epochs=400, batch_size=50, validation_data=(testX, testY), verbose=2, shuffle=False)\n",
    "# plot history\n",
    "pyplot.plot(history.history['loss'], label='train')\n",
    "pyplot.plot(history.history['val_loss'], label='test')\n",
    "pyplot.legend()\n",
    "pyplot.show()"
   ]
  },
  {
   "cell_type": "code",
   "execution_count": 246,
   "metadata": {
    "colab": {},
    "colab_type": "code",
    "id": "DwKuKlyVh-9g",
    "outputId": "a1b92c37-8b46-4031-9421-f2d78de90dca"
   },
   "outputs": [
    {
     "data": {
      "text/plain": [
       "array([[0.42417175],\n",
       "       [0.42268458],\n",
       "       [0.5202038 ],\n",
       "       [0.47628877],\n",
       "       [0.4500664 ]], dtype=float32)"
      ]
     },
     "execution_count": 246,
     "metadata": {},
     "output_type": "execute_result"
    }
   ],
   "source": [
    "''' Haciendo la predicción una vez el modelo entrenado '''\n",
    "yhat = model.predict(testX)\n",
    "\n",
    "yhat[0:5]"
   ]
  },
  {
   "cell_type": "code",
   "execution_count": 247,
   "metadata": {
    "colab": {},
    "colab_type": "code",
    "id": "EJLRNohDh-9h",
    "outputId": "9e0b5e83-fa86-407e-a720-17a3a5778dc6"
   },
   "outputs": [
    {
     "data": {
      "text/plain": [
       "(244, 1)"
      ]
     },
     "execution_count": 247,
     "metadata": {},
     "output_type": "execute_result"
    }
   ],
   "source": [
    "yhat.shape"
   ]
  },
  {
   "cell_type": "code",
   "execution_count": 248,
   "metadata": {
    "colab": {},
    "colab_type": "code",
    "id": "X9GNdnOxh-9i",
    "outputId": "8b26f012-16f8-4599-a07f-013403062f07"
   },
   "outputs": [
    {
     "data": {
      "text/plain": [
       "(244,)"
      ]
     },
     "execution_count": 248,
     "metadata": {},
     "output_type": "execute_result"
    }
   ],
   "source": [
    "testY.shape"
   ]
  },
  {
   "cell_type": "code",
   "execution_count": 249,
   "metadata": {
    "colab": {},
    "colab_type": "code",
    "id": "kMZFWMych-9l",
    "outputId": "23f03494-b0e5-4aa3-eee6-a2d8fd70c40f"
   },
   "outputs": [
    {
     "data": {
      "text/plain": [
       "array([0.41884372, 0.5847599 , 0.45756787, 0.44096875, 0.41565242],\n",
       "      dtype=float32)"
      ]
     },
     "execution_count": 249,
     "metadata": {},
     "output_type": "execute_result"
    }
   ],
   "source": [
    "testY[0:5]"
   ]
  },
  {
   "cell_type": "code",
   "execution_count": 250,
   "metadata": {
    "colab": {},
    "colab_type": "code",
    "id": "HB6Q7Kwrh-9n",
    "outputId": "9f2feeea-062e-4a71-b1e3-010ab28b6b38"
   },
   "outputs": [
    {
     "data": {
      "text/plain": [
       "0.41884372"
      ]
     },
     "execution_count": 250,
     "metadata": {},
     "output_type": "execute_result"
    }
   ],
   "source": [
    "testY[0]"
   ]
  },
  {
   "cell_type": "code",
   "execution_count": 251,
   "metadata": {
    "colab": {},
    "colab_type": "code",
    "id": "-D6RIHQLh-9o",
    "outputId": "867b1da4-3f85-4da2-f006-1d290ad81f49"
   },
   "outputs": [
    {
     "data": {
      "text/plain": [
       "244"
      ]
     },
     "execution_count": 251,
     "metadata": {},
     "output_type": "execute_result"
    }
   ],
   "source": [
    "len(testY)"
   ]
  },
  {
   "cell_type": "code",
   "execution_count": 252,
   "metadata": {
    "colab": {},
    "colab_type": "code",
    "id": "_QeAt7H5h-9p"
   },
   "outputs": [],
   "source": [
    "# Devolviendo los datos a su escala original\n",
    "#create empty table with 4 fields\n",
    "testPredict_dataset_like = np.zeros(shape=(len(yhat), 4) )\n",
    "# put the predicted values in the right field\n",
    "testPredict_dataset_like[:,0] = yhat[:,0]\n"
   ]
  },
  {
   "cell_type": "code",
   "execution_count": 253,
   "metadata": {
    "colab": {},
    "colab_type": "code",
    "id": "56RXWfRlh-9r"
   },
   "outputs": [],
   "source": [
    "# inverse transform and then select the right field\n",
    "testPredict = scaler.inverse_transform(testPredict_dataset_like)[:,0]"
   ]
  },
  {
   "cell_type": "code",
   "execution_count": 254,
   "metadata": {
    "colab": {},
    "colab_type": "code",
    "id": "Sbo_UmbYh-9s",
    "outputId": "b675ddeb-4996-4f67-d15c-74900f4bf63d"
   },
   "outputs": [
    {
     "data": {
      "text/plain": [
       "244"
      ]
     },
     "execution_count": 254,
     "metadata": {},
     "output_type": "execute_result"
    }
   ],
   "source": [
    "len(testPredict)"
   ]
  },
  {
   "cell_type": "code",
   "execution_count": 255,
   "metadata": {
    "colab": {},
    "colab_type": "code",
    "id": "pbBlEL1eh-9u",
    "outputId": "035d01d5-9987-4cb0-89f5-d7b5d738d43e"
   },
   "outputs": [
    {
     "data": {
      "text/plain": [
       "(244,)"
      ]
     },
     "execution_count": 255,
     "metadata": {},
     "output_type": "execute_result"
    }
   ],
   "source": [
    "testY.shape"
   ]
  },
  {
   "cell_type": "code",
   "execution_count": 256,
   "metadata": {
    "colab": {},
    "colab_type": "code",
    "id": "hauIDZVCh-9v",
    "outputId": "177b7963-3e4b-485e-bd41-b193863ab8d8"
   },
   "outputs": [
    {
     "data": {
      "text/plain": [
       "array([ 82.6760434 ,  82.3983048 , 100.61070726,  92.40926176,\n",
       "        87.51204907])"
      ]
     },
     "execution_count": 256,
     "metadata": {},
     "output_type": "execute_result"
    }
   ],
   "source": [
    "testPredict[0:5]"
   ]
  },
  {
   "cell_type": "code",
   "execution_count": null,
   "metadata": {
    "colab": {},
    "colab_type": "code",
    "id": "gAWZAttYh-9y"
   },
   "outputs": [],
   "source": []
  },
  {
   "cell_type": "code",
   "execution_count": null,
   "metadata": {
    "colab": {},
    "colab_type": "code",
    "id": "rXunzD6Wh-9z"
   },
   "outputs": [],
   "source": []
  },
  {
   "cell_type": "code",
   "execution_count": 257,
   "metadata": {
    "colab": {},
    "colab_type": "code",
    "id": "IlEqlcB2h-90"
   },
   "outputs": [],
   "source": [
    "# Devolviendo los datos a su escala original\n",
    "#create empty table with 4 fields\n",
    "testY_dataset_like = np.zeros(shape=(len(testY), 4) )\n",
    "# put the predicted values in the right field\n",
    "testY_dataset_like[:,0] = testY[:]\n",
    "# inverse transform and then select the right field\n",
    "testYnormal = scaler.inverse_transform(testY_dataset_like)[:,0]"
   ]
  },
  {
   "cell_type": "code",
   "execution_count": 258,
   "metadata": {
    "colab": {},
    "colab_type": "code",
    "id": "4ouOMTYih-91",
    "outputId": "3d760869-3c85-4f90-85b3-700e07432fe2"
   },
   "outputs": [
    {
     "data": {
      "text/plain": [
       "(244,)"
      ]
     },
     "execution_count": 258,
     "metadata": {},
     "output_type": "execute_result"
    }
   ],
   "source": [
    "testYnormal.shape"
   ]
  },
  {
   "cell_type": "code",
   "execution_count": 259,
   "metadata": {
    "colab": {},
    "colab_type": "code",
    "id": "TEIFdpGgh-93",
    "outputId": "bf647903-68b1-4d9d-cbe0-6d4d509d252e"
   },
   "outputs": [
    {
     "data": {
      "text/plain": [
       "array([ 81.68099661, 112.66700386,  88.91300353,  85.8130019 ,\n",
       "        81.08500043])"
      ]
     },
     "execution_count": 259,
     "metadata": {},
     "output_type": "execute_result"
    }
   ],
   "source": [
    "testYnormal[0:5]"
   ]
  },
  {
   "cell_type": "code",
   "execution_count": null,
   "metadata": {
    "colab": {},
    "colab_type": "code",
    "id": "HCiqZDXuh-96"
   },
   "outputs": [],
   "source": []
  },
  {
   "cell_type": "code",
   "execution_count": 260,
   "metadata": {
    "colab": {},
    "colab_type": "code",
    "id": "gNXC7qHph-97",
    "outputId": "5d17c1d1-62f9-4e2d-e075-d8f6429bbe15"
   },
   "outputs": [
    {
     "data": {
      "image/png": "[encoded data removed]",
      "text/plain": [
       "<Figure size 1080x576 with 1 Axes>"
      ]
     },
     "metadata": {
      "needs_background": "light"
     },
     "output_type": "display_data"
    }
   ],
   "source": [
    "''' Plotting las predicciones '''\n",
    "pyplot.figure(figsize=(15,8))\n",
    "pyplot.plot(yhat, label='predict')\n",
    "pyplot.plot(testY, label='true')\n",
    "pyplot.legend()\n",
    "pyplot.show()"
   ]
  },
  {
   "cell_type": "code",
   "execution_count": null,
   "metadata": {
    "colab": {},
    "colab_type": "code",
    "id": "aBBKjeNrh-98"
   },
   "outputs": [],
   "source": []
  },
  {
   "cell_type": "code",
   "execution_count": 261,
   "metadata": {
    "colab": {},
    "colab_type": "code",
    "id": "mqeSs_8rh-99",
    "outputId": "09edfa74-b6f8-424b-ed2e-e4270448cfdd"
   },
   "outputs": [
    {
     "data": {
      "image/png": "[encoded data removed]",
      "text/plain": [
       "<Figure size 1080x576 with 1 Axes>"
      ]
     },
     "metadata": {
      "needs_background": "light"
     },
     "output_type": "display_data"
    }
   ],
   "source": [
    "''' Plotting las predicciones'''\n",
    "pyplot.figure(figsize=(15,8))\n",
    "pyplot.plot(testPredict, label='predict')\n",
    "pyplot.plot(testYnormal, label='true')\n",
    "pyplot.legend()\n",
    "pyplot.show()"
   ]
  },
  {
   "cell_type": "code",
   "execution_count": 262,
   "metadata": {
    "colab": {},
    "colab_type": "code",
    "id": "3gYQXMwTh--A",
    "outputId": "16c4098b-da78-455f-bda9-9b3c5e59fc84"
   },
   "outputs": [
    {
     "name": "stdout",
     "output_type": "stream",
     "text": [
      "Mean squared error: 170.640\n"
     ]
    }
   ],
   "source": [
    "print(\"Mean squared error: %.3f\" % mean_squared_error(testYnormal, testPredict))"
   ]
  },
  {
   "cell_type": "code",
   "execution_count": null,
   "metadata": {
    "colab": {},
    "colab_type": "code",
    "id": "ihPBPsz-h--B"
   },
   "outputs": [],
   "source": []
  },
  {
   "cell_type": "code",
   "execution_count": 263,
   "metadata": {
    "colab": {},
    "colab_type": "code",
    "id": "olPzgH6ah--C",
    "outputId": "3444ba15-193e-43ca-950d-746dcf9628e5"
   },
   "outputs": [
    {
     "name": "stdout",
     "output_type": "stream",
     "text": [
      "Root mean squared error: 13.063\n"
     ]
    }
   ],
   "source": [
    "print(\"Root mean squared error: %.3f\" % sqrt(mean_squared_error(testYnormal, testPredict)))"
   ]
  },
  {
   "cell_type": "code",
   "execution_count": 264,
   "metadata": {
    "colab": {},
    "colab_type": "code",
    "id": "BPsm8IA3h--F",
    "outputId": "0d00e159-50a4-443e-ba2e-775fb22dc1b5"
   },
   "outputs": [
    {
     "name": "stdout",
     "output_type": "stream",
     "text": [
      "Variance : 0.670\n"
     ]
    }
   ],
   "source": [
    "from sklearn.metrics import mean_squared_error, r2_score\n",
    "print('Variance : %.3f' % r2_score(testYnormal, testPredict))"
   ]
  },
  {
   "cell_type": "code",
   "execution_count": 265,
   "metadata": {
    "colab": {},
    "colab_type": "code",
    "id": "oXm9CMzzh--I",
    "outputId": "c7f92e8c-5d22-4e23-b10c-33e99286d164"
   },
   "outputs": [
    {
     "name": "stdout",
     "output_type": "stream",
     "text": [
      "Mean absolute error: 8.654\n"
     ]
    }
   ],
   "source": [
    "from sklearn.metrics import mean_absolute_error\n",
    "print(\"Mean absolute error: %.3f\" % mean_absolute_error(testYnormal, testPredict))"
   ]
  },
  {
   "cell_type": "code",
   "execution_count": 0,
   "metadata": {
    "colab": {},
    "colab_type": "code",
    "id": "aTIgrTkfh--J"
   },
   "outputs": [],
   "source": []
  },
  {
   "cell_type": "code",
   "execution_count": 0,
   "metadata": {
    "colab": {},
    "colab_type": "code",
    "id": "O4IwqSbih--K"
   },
   "outputs": [],
   "source": []
  },
  {
   "cell_type": "code",
   "execution_count": 0,
   "metadata": {
    "colab": {},
    "colab_type": "code",
    "id": "KFj2KRByh--L"
   },
   "outputs": [],
   "source": []
  },
  {
   "cell_type": "code",
   "execution_count": 0,
   "metadata": {
    "colab": {},
    "colab_type": "code",
    "id": "1D0QYN3jh--M"
   },
   "outputs": [],
   "source": []
  },
  {
   "cell_type": "code",
   "execution_count": 0,
   "metadata": {
    "colab": {},
    "colab_type": "code",
    "id": "x5SuRNr0h--O"
   },
   "outputs": [],
   "source": []
  },
  {
   "cell_type": "code",
   "execution_count": 0,
   "metadata": {
    "colab": {},
    "colab_type": "code",
    "id": "qN2yzo40h--P"
   },
   "outputs": [],
   "source": []
  },
  {
   "cell_type": "code",
   "execution_count": 0,
   "metadata": {
    "colab": {},
    "colab_type": "code",
    "id": "DUJKCQQHh--Q"
   },
   "outputs": [],
   "source": []
  },
  {
   "cell_type": "code",
   "execution_count": 0,
   "metadata": {
    "colab": {},
    "colab_type": "code",
    "id": "U7y7YfAah--R"
   },
   "outputs": [],
   "source": []
  },
  {
   "cell_type": "code",
   "execution_count": 0,
   "metadata": {
    "colab": {},
    "colab_type": "code",
    "id": "TQWHSE1Lh--R"
   },
   "outputs": [],
   "source": []
  },
  {
   "cell_type": "code",
   "execution_count": 0,
   "metadata": {
    "colab": {},
    "colab_type": "code",
    "id": "7TcewHD4h--X"
   },
   "outputs": [],
   "source": []
  },
  {
   "cell_type": "code",
   "execution_count": 0,
   "metadata": {
    "colab": {},
    "colab_type": "code",
    "id": "WfpdmHj-h--Y"
   },
   "outputs": [],
   "source": []
  },
  {
   "cell_type": "code",
   "execution_count": 0,
   "metadata": {
    "colab": {},
    "colab_type": "code",
    "id": "4k3jx7Grh--Y"
   },
   "outputs": [],
   "source": []
  },
  {
   "cell_type": "code",
   "execution_count": 0,
   "metadata": {
    "colab": {},
    "colab_type": "code",
    "id": "Dc78bWinh--a"
   },
   "outputs": [],
   "source": []
  },
  {
   "cell_type": "code",
   "execution_count": 0,
   "metadata": {
    "colab": {},
    "colab_type": "code",
    "id": "2sqO5Codh--b"
   },
   "outputs": [],
   "source": []
  },
  {
   "cell_type": "code",
   "execution_count": 0,
   "metadata": {
    "colab": {},
    "colab_type": "code",
    "id": "simD-Y_Bh--e"
   },
   "outputs": [],
   "source": []
  },
  {
   "cell_type": "code",
   "execution_count": 0,
   "metadata": {
    "colab": {},
    "colab_type": "code",
    "id": "RFJAJVeYh--e"
   },
   "outputs": [],
   "source": []
  },
  {
   "cell_type": "code",
   "execution_count": 0,
   "metadata": {
    "colab": {},
    "colab_type": "code",
    "id": "XdI4xolHh--f"
   },
   "outputs": [],
   "source": []
  },
  {
   "cell_type": "code",
   "execution_count": 0,
   "metadata": {
    "colab": {},
    "colab_type": "code",
    "id": "muuLKRYLh--g"
   },
   "outputs": [],
   "source": []
  },
  {
   "cell_type": "code",
   "execution_count": 0,
   "metadata": {
    "colab": {},
    "colab_type": "code",
    "id": "udMpvPvch--h"
   },
   "outputs": [],
   "source": []
  },
  {
   "cell_type": "code",
   "execution_count": 0,
   "metadata": {
    "colab": {},
    "colab_type": "code",
    "id": "Cmp6oIu5h--h"
   },
   "outputs": [],
   "source": []
  },
  {
   "cell_type": "code",
   "execution_count": 0,
   "metadata": {
    "colab": {},
    "colab_type": "code",
    "id": "gr6kgickh--k"
   },
   "outputs": [],
   "source": []
  },
  {
   "cell_type": "code",
   "execution_count": 0,
   "metadata": {
    "colab": {},
    "colab_type": "code",
    "id": "pYpkPyo9h--k"
   },
   "outputs": [],
   "source": []
  },
  {
   "cell_type": "code",
   "execution_count": 0,
   "metadata": {
    "colab": {},
    "colab_type": "code",
    "id": "E-k4alevh--l"
   },
   "outputs": [],
   "source": []
  }
 ],
 "metadata": {
  "accelerator": "TPU",
  "colab": {
   "name": "Prueba 3 LSTM Consumo Agregado Datos de Climas resolucion diaria.ipynb",
   "provenance": [],
   "version": "0.3.2"
  },
  "kernelspec": {
   "display_name": "Python 3",
   "language": "python",
   "name": "python3"
  },
  "language_info": {
   "codemirror_mode": {
    "name": "ipython",
    "version": 3
   },
   "file_extension": ".py",
   "mimetype": "text/x-python",
   "name": "python",
   "nbconvert_exporter": "python",
   "pygments_lexer": "ipython3",
   "version": "3.7.1"
  }
 },
 "nbformat": 4,
 "nbformat_minor": 1
}
